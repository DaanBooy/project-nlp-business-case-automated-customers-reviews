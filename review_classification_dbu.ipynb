{
  "cells": [
    {
      "cell_type": "markdown",
      "id": "8c4a84f5",
      "metadata": {
        "id": "8c4a84f5"
      },
      "source": [
        "## Project NLP | Business Case: Automated Customer Reviews\n",
        "Review classification file. Using Distilbert base uncased (dbu)"
      ]
    },
    {
      "cell_type": "markdown",
      "id": "_JEqnxOc0gfp",
      "metadata": {
        "id": "_JEqnxOc0gfp"
      },
      "source": [
        "## Downloads"
      ]
    },
    {
      "cell_type": "code",
      "execution_count": 1,
      "id": "XYAzBp9f0ZD7",
      "metadata": {
        "colab": {
          "base_uri": "https://localhost:8080/"
        },
        "id": "XYAzBp9f0ZD7",
        "outputId": "231b7360-61f4-4ee7-f7f9-9de44e64781c"
      },
      "outputs": [
        {
          "name": "stdout",
          "output_type": "stream",
          "text": [
            "transformers: 4.55.4 | torch: 2.8.0+cu126\n"
          ]
        }
      ],
      "source": [
        "# The following downloads are needed to run this notebook\n",
        "# !pip -q install transformers datasets\n",
        "!pip -q install -U \"transformers>=4.30\" \"accelerate>=0.21\" datasets\n",
        "import transformers, torch\n",
        "print(\"transformers:\", transformers.__version__, \"| torch:\", torch.__version__)"
      ]
    },
    {
      "cell_type": "markdown",
      "id": "-Bl7BE4n0kQ4",
      "metadata": {
        "id": "-Bl7BE4n0kQ4"
      },
      "source": [
        "## Libraries"
      ]
    },
    {
      "cell_type": "code",
      "execution_count": null,
      "id": "Hq1_fwl00ZbF",
      "metadata": {
        "colab": {
          "base_uri": "https://localhost:8080/"
        },
        "id": "Hq1_fwl00ZbF",
        "outputId": "1374f351-53c0-42b1-e330-440debf785d6"
      },
      "outputs": [
        {
          "name": "stdout",
          "output_type": "stream",
          "text": [
            "transformers: 4.55.4\n",
            "`evaluation_strategy` in TrainingArguments?  False\n"
          ]
        }
      ],
      "source": [
        "# The following imports should be done to run this notebook\n",
        "import os, json, importlib\n",
        "import pandas as pd\n",
        "import numpy as np\n",
        "import torch\n",
        "\n",
        "from datetime import datetime\n",
        "from sklearn.metrics import classification_report\n",
        "from sklearn.model_selection import train_test_split\n",
        "from sklearn.metrics import (\n",
        "    accuracy_score,\n",
        "    precision_recall_fscore_support,\n",
        "    confusion_matrix,\n",
        ")\n",
        "\n",
        "import transformers\n",
        "import transformers.training_args as ta\n",
        "importlib.reload(transformers)\n",
        "importlib.reload(ta)\n",
        "\n",
        "from transformers.training_args import TrainingArguments\n",
        "from transformers import (\n",
        "    AutoTokenizer,\n",
        "    AutoModelForSequenceClassification,\n",
        "    Trainer,\n",
        "    DataCollatorWithPadding,\n",
        "    EarlyStoppingCallback, \n",
        ")\n",
        "from datasets import Dataset\n",
        "\n",
        "os.environ[\"TOKENIZERS_PARALLELISM\"] = \"false\"\n",
        "\n",
        "print(\"transformers:\", transformers.__version__)\n",
        "print(\"`evaluation_strategy` in TrainingArguments? \",\n",
        "      \"evaluation_strategy\" in TrainingArguments.__init__.__code__.co_varnames)\n"
      ]
    },
    {
      "cell_type": "markdown",
      "id": "DKAKLn6i0ps6",
      "metadata": {
        "id": "DKAKLn6i0ps6"
      },
      "source": [
        "## Loading preprocessed data"
      ]
    },
    {
      "cell_type": "code",
      "execution_count": 3,
      "id": "ODk4Zt_I0aDG",
      "metadata": {
        "colab": {
          "base_uri": "https://localhost:8080/"
        },
        "id": "ODk4Zt_I0aDG",
        "outputId": "1d6cb639-d54d-4ce3-cbb6-00fd6bc60379"
      },
      "outputs": [
        {
          "name": "stdout",
          "output_type": "stream",
          "text": [
            "Drive already mounted at /content/drive; to attempt to forcibly remount, call drive.mount(\"/content/drive\", force_remount=True).\n",
            " - sample:  46246 rows\n",
            " - config keys: ['text_col', 'label_col', 'label2id', 'max_length', 'class_counts', 'class_weights']\n"
          ]
        }
      ],
      "source": [
        "# Mounting Google Drive\n",
        "from google.colab import drive\n",
        "drive.mount('/content/drive')\n",
        "\n",
        "# Paths\n",
        "BASE = \"/content/drive/MyDrive/Project_NLP\"\n",
        "PATH_FULL   = os.path.join(BASE, \"video_games_preprocessed.parquet\")\n",
        "PATH_SAMPLE = os.path.join(BASE, \"video_games_preprocessed_sample1pct.parquet\")\n",
        "PATH_CFG    = os.path.join(BASE, \"preprocess_config.json\")\n",
        "\n",
        "# Loading\n",
        "df        = pd.read_parquet(PATH_FULL)\n",
        "df_sample = pd.read_parquet(PATH_SAMPLE)\n",
        "cfg       = json.load(open(PATH_CFG))\n",
        "\n",
        "df_use = df_sample.copy()\n",
        "\n",
        "# Checking\n",
        "print(\" - sample: \", len(df_sample), \"rows\")\n",
        "print(\" - config keys:\", list(cfg.keys()))"
      ]
    },
    {
      "cell_type": "markdown",
      "id": "CzI07aXD2oAr",
      "metadata": {
        "id": "CzI07aXD2oAr"
      },
      "source": [
        "# Splitting data set\n"
      ]
    },
    {
      "cell_type": "code",
      "execution_count": null,
      "id": "-1jpXcm38FCt",
      "metadata": {
        "colab": {
          "base_uri": "https://localhost:8080/"
        },
        "id": "-1jpXcm38FCt",
        "outputId": "2f207671-04b7-490d-b09b-748d1950196c"
      },
      "outputs": [
        {
          "name": "stdout",
          "output_type": "stream",
          "text": [
            "WORKING DF counts:\n",
            " {'negative': 8394, 'neutral': 3401, 'positive': 34451}\n",
            "WORKING DF class_weights:\n",
            " {'negative': 1.8364704947978714, 'neutral': 4.532588454376164, 'positive': 0.4474567743558484}\n"
          ]
        }
      ],
      "source": [
        "# Just inspecting + record class stats\n",
        "label_col = cfg[\"label_col\"]\n",
        "order = [\"negative\", \"neutral\", \"positive\"]\n",
        "\n",
        "def class_stats(series, order):\n",
        "    counts = series.value_counts().reindex(order, fill_value=0)\n",
        "    weights = (counts.sum() / (len(order) * counts)).astype(float)  # inverse freq\n",
        "    return counts, weights\n",
        "\n",
        "counts_use, weights_use = class_stats(df_use[label_col], order)\n",
        "\n",
        "print(\"WORKING DF counts:\\n\", counts_use.to_dict())\n",
        "print(\"WORKING DF class_weights:\\n\", weights_use.to_dict())"
      ]
    },
    {
      "cell_type": "code",
      "execution_count": 5,
      "id": "m_vvCynfIa1M",
      "metadata": {
        "colab": {
          "base_uri": "https://localhost:8080/"
        },
        "id": "m_vvCynfIa1M",
        "outputId": "bbe546d7-23ce-4a75-b0cb-4a243869b6f1"
      },
      "outputs": [
        {
          "name": "stdout",
          "output_type": "stream",
          "text": [
            "Sizes -> train/val/test: 32372 6937 6937\n",
            "\n",
            "Class % in train:\n",
            " sentiment\n",
            "negative    18.15\n",
            "neutral      7.36\n",
            "positive    74.49\n",
            "Name: count, dtype: float64\n",
            "\n",
            "Class % in val:\n",
            " sentiment\n",
            "negative    18.15\n",
            "neutral      7.35\n",
            "positive    74.50\n",
            "Name: count, dtype: float64\n",
            "\n",
            "Class % in test:\n",
            " sentiment\n",
            "negative    18.15\n",
            "neutral      7.35\n",
            "positive    74.50\n",
            "Name: count, dtype: float64\n"
          ]
        }
      ],
      "source": [
        "# train/val/test split on the sample dataset (70/15/15)\n",
        "text_col  = cfg[\"text_col\"]\n",
        "label_col = cfg[\"label_col\"]\n",
        "order     = [\"negative\", \"neutral\", \"positive\"]\n",
        "\n",
        "train_df, tmp_df = train_test_split(\n",
        "    df_use, test_size=0.30, stratify=df_use[label_col], random_state=42\n",
        ")\n",
        "val_df, test_df = train_test_split(\n",
        "    tmp_df, test_size=0.50, stratify=tmp_df[label_col], random_state=42\n",
        ")\n",
        "\n",
        "def pct(d):\n",
        "    c = d[label_col].value_counts().reindex(order, fill_value=0)\n",
        "    return (c / c.sum() * 100).round(2)\n",
        "\n",
        "print(\"Sizes -> train/val/test:\", len(train_df), len(val_df), len(test_df))\n",
        "print(\"\\nClass % in train:\\n\", pct(train_df))\n",
        "print(\"\\nClass % in val:\\n\",   pct(val_df))\n",
        "print(\"\\nClass % in test:\\n\",  pct(test_df))"
      ]
    },
    {
      "cell_type": "markdown",
      "id": "qhe7ftQ5MyWc",
      "metadata": {
        "id": "qhe7ftQ5MyWc"
      },
      "source": [
        "As seen in preprocessing, the data set was very positive balanced. So we should rebalance the training split before we can do model training.\n",
        "\n",
        "Negative 18.15%, neutral 7.35%, positive 74.50%"
      ]
    },
    {
      "cell_type": "markdown",
      "id": "ZmmpKDl_M1Dk",
      "metadata": {
        "id": "ZmmpKDl_M1Dk"
      },
      "source": [
        "## Tokenizing for Distilbert-base-uncased"
      ]
    },
    {
      "cell_type": "code",
      "execution_count": null,
      "id": "BulOvP6qM0ge",
      "metadata": {
        "colab": {
          "base_uri": "https://localhost:8080/"
        },
        "id": "BulOvP6qM0ge",
        "outputId": "9989322b-7d29-4c63-fb77-8098de8e8837"
      },
      "outputs": [
        {
          "name": "stdout",
          "output_type": "stream",
          "text": [
            "DBU train counts: {'negative': 5876, 'neutral': 2381, 'positive': 24115}\n",
            "DBU train class weights: {'negative': 1.8363966417063762, 'neutral': 4.531989360212796, 'positive': 0.4474669984103946}\n"
          ]
        }
      ],
      "source": [
        "# Setting up config for model distilbert-base-uncased\n",
        "MODEL_NAME_dbu = \"distilbert-base-uncased\"\n",
        "SHORT_dbu      = \"dbu\"                     # <- shortname for this model\n",
        "MAX_LENGTH     = cfg[\"max_length\"]\n",
        "label2id       = cfg[\"label2id\"]\n",
        "text_col       = cfg[\"text_col\"]\n",
        "label_col      = cfg[\"label_col\"]\n",
        "order          = [\"negative\",\"neutral\",\"positive\"]\n",
        "\n",
        "# recompute class weights from the TRAIN split (recommended)\n",
        "train_counts_dbu = train_df[label_col].value_counts().reindex(order, fill_value=0)\n",
        "train_class_weights_dbu = (train_counts_dbu.sum() / (len(order) * train_counts_dbu)).astype(float).to_dict()\n",
        "print(\"DBU train counts:\", train_counts_dbu.to_dict())\n",
        "print(\"DBU train class weights:\", train_class_weights_dbu)\n"
      ]
    },
    {
      "cell_type": "code",
      "execution_count": 7,
      "id": "Y0kzhhdiNvrf",
      "metadata": {
        "colab": {
          "base_uri": "https://localhost:8080/"
        },
        "id": "Y0kzhhdiNvrf",
        "outputId": "284faea5-7343-4789-90cc-4d0eb1518b24"
      },
      "outputs": [
        {
          "name": "stdout",
          "output_type": "stream",
          "text": [
            "train_dbu (32372, 2)\n",
            "val_dbu (6937, 2)\n",
            "test_dbu (6937, 2)\n"
          ]
        }
      ],
      "source": [
        "# Making data frames to keep only text and labels/sentiment\n",
        "def prep_for_model(df_):\n",
        "    d = df_[[text_col, label_col]].copy()\n",
        "    d[\"labels\"] = d[label_col].map(label2id).astype(\"int64\")\n",
        "    d.rename(columns={text_col: \"text\"}, inplace=True)\n",
        "    return d[[\"text\",\"labels\"]]\n",
        "\n",
        "train_p_dbu = prep_for_model(train_df)\n",
        "val_p_dbu   = prep_for_model(val_df)\n",
        "test_p_dbu  = prep_for_model(test_df)\n",
        "\n",
        "for name, d in [(\"train_dbu\", train_p_dbu), (\"val_dbu\", val_p_dbu), (\"test_dbu\", test_p_dbu)]:\n",
        "    print(name, d.shape)"
      ]
    },
    {
      "cell_type": "code",
      "execution_count": 8,
      "id": "E2-vNp59N5Jv",
      "metadata": {
        "colab": {
          "base_uri": "https://localhost:8080/"
        },
        "id": "E2-vNp59N5Jv",
        "outputId": "f4cd630b-8514-46c3-9f0f-4d19a49ff408"
      },
      "outputs": [
        {
          "name": "stdout",
          "output_type": "stream",
          "text": [
            "Dataset({\n",
            "    features: ['text', 'labels'],\n",
            "    num_rows: 32372\n",
            "}) Dataset({\n",
            "    features: ['text', 'labels'],\n",
            "    num_rows: 6937\n",
            "}) Dataset({\n",
            "    features: ['text', 'labels'],\n",
            "    num_rows: 6937\n",
            "})\n"
          ]
        }
      ],
      "source": [
        "# Converting to datasets, should be more memory effiecient\n",
        "ds_train_dbu = Dataset.from_pandas(train_p_dbu, preserve_index=False)\n",
        "ds_val_dbu   = Dataset.from_pandas(val_p_dbu,   preserve_index=False)\n",
        "ds_test_dbu  = Dataset.from_pandas(test_p_dbu,  preserve_index=False)\n",
        "\n",
        "print(ds_train_dbu, ds_val_dbu, ds_test_dbu)"
      ]
    },
    {
      "cell_type": "code",
      "execution_count": null,
      "id": "xKS5vINGOD0f",
      "metadata": {
        "colab": {
          "base_uri": "https://localhost:8080/",
          "height": 235,
          "referenced_widgets": [
            "dd63d669f8194ad5bf7d3d7020bb78eb",
            "92633a5cace34b588d77297991287d67",
            "0df9d1de83e3496ebca9e47768e28a6e",
            "46f1618f12b241b9bbab63006ee4bb6a",
            "fd24f9433e874e69a5ffbe248cc361b2",
            "8b232d156122449ba37138081802e87b",
            "919d02bb1477461490f8ea9bc772455c",
            "cc2a95aca30c468aa6e69aeaf51fa755",
            "2c02ab03583045feb986f64ee3a871ec",
            "a490e4e7dcce4a788d031b93b2658126",
            "1ae4471c93474d008644baab2f72ee18",
            "02555f16abec4322a9a63f84d59f3204",
            "531cb632ac2d4a86b9ea04e03956b4e9",
            "3ebad8ab98724886b9d0a289141fb728",
            "0bf13bf4519648a392c76af24396fc3e",
            "0f8d9c6c00c7488d9a54790dedc64b6c",
            "4e8a8c737f0d4195ad6e758246c56aaa",
            "0331c08cf2154eb68b4ccd998fdc4272",
            "31553d996eef45afb9f9b02b7043ab32",
            "0ced75b48cf14676b9917b551557d472",
            "acebd97bc1cb4a48bb34b059da378218",
            "66230aa9456b4bc2a55df5ebe22fe6cb",
            "6a6a550d9b104070899a3b3b3030a3b7",
            "34f853c4aac24df4af87d36a7fe8bc22",
            "dbd7a91366de478e95b32f1a7b30a70d",
            "2d0d14538a164cb5a84954e566af9c8a",
            "e2cf66d52e96408daf6a4df6be63f058",
            "a7c561f7dae54229b91fa5278568122b",
            "95fb3487fa474862b6e1ca3937aee144",
            "6645a524ed40469e852bcf3bcf565830",
            "415281d08f544bb7ac37fa25eeeacbdb",
            "a15e2f2b70a04995808fd603009dc865",
            "350090063fe64df0832d3f769fb4d157"
          ]
        },
        "id": "xKS5vINGOD0f",
        "outputId": "2d7d5d81-cd92-4a71-f223-be294f0c8bf9"
      },
      "outputs": [
        {
          "name": "stderr",
          "output_type": "stream",
          "text": [
            "/usr/local/lib/python3.12/dist-packages/huggingface_hub/utils/_auth.py:94: UserWarning: \n",
            "The secret `HF_TOKEN` does not exist in your Colab secrets.\n",
            "To authenticate with the Hugging Face Hub, create a token in your settings tab (https://huggingface.co/settings/tokens), set it as secret in your Google Colab and restart your session.\n",
            "You will be able to reuse this secret in all of your notebooks.\n",
            "Please note that authentication is recommended but still optional to access public models or datasets.\n",
            "  warnings.warn(\n"
          ]
        },
        {
          "data": {
            "application/vnd.jupyter.widget-view+json": {
              "model_id": "dd63d669f8194ad5bf7d3d7020bb78eb",
              "version_major": 2,
              "version_minor": 0
            },
            "text/plain": [
              "Map:   0%|          | 0/32372 [00:00<?, ? examples/s]"
            ]
          },
          "metadata": {},
          "output_type": "display_data"
        },
        {
          "data": {
            "application/vnd.jupyter.widget-view+json": {
              "model_id": "02555f16abec4322a9a63f84d59f3204",
              "version_major": 2,
              "version_minor": 0
            },
            "text/plain": [
              "Map:   0%|          | 0/6937 [00:00<?, ? examples/s]"
            ]
          },
          "metadata": {},
          "output_type": "display_data"
        },
        {
          "data": {
            "application/vnd.jupyter.widget-view+json": {
              "model_id": "6a6a550d9b104070899a3b3b3030a3b7",
              "version_major": 2,
              "version_minor": 0
            },
            "text/plain": [
              "Map:   0%|          | 0/6937 [00:00<?, ? examples/s]"
            ]
          },
          "metadata": {},
          "output_type": "display_data"
        },
        {
          "name": "stdout",
          "output_type": "stream",
          "text": [
            "Tokenized (dbu): 32372 6937 6937\n"
          ]
        }
      ],
      "source": [
        "# Load tokenizer and tokenize, see note if ram issues\n",
        "tokenizer_dbu = AutoTokenizer.from_pretrained(MODEL_NAME_dbu)\n",
        "def tok_fn_dbu(batch):\n",
        "    return tokenizer_dbu(\n",
        "        batch[\"text\"],\n",
        "        truncation=True,\n",
        "        max_length=MAX_LENGTH,\n",
        "        padding=False,                 # dynamic padding via collator\n",
        "        return_attention_mask=True,\n",
        "    )\n",
        "\n",
        "# NOTE: Tokenizing the FULL dataset is heavy in Colab.\n",
        "# If there are RAM/time issues, try first with a subset by uncommenting:\n",
        "# ds_train_dbu = ds_train.select(range(200_000))  # e.g., first 200k for a dry run\n",
        "\n",
        "ds_train_tok_dbu = ds_train_dbu.map(tok_fn_dbu, batched=True, remove_columns=[\"text\"])\n",
        "ds_val_tok_dbu   = ds_val_dbu.map(tok_fn_dbu,     batched=True, remove_columns=[\"text\"])\n",
        "ds_test_tok_dbu  = ds_test_dbu.map(tok_fn_dbu,    batched=True, remove_columns=[\"text\"])\n",
        "\n",
        "print(\"Tokenized (dbu):\", len(ds_train_tok_dbu), len(ds_val_tok_dbu), len(ds_test_tok_dbu))\n"
      ]
    },
    {
      "cell_type": "code",
      "execution_count": 10,
      "id": "I0V90Uf7PH8U",
      "metadata": {
        "colab": {
          "base_uri": "https://localhost:8080/"
        },
        "id": "I0V90Uf7PH8U",
        "outputId": "5752f28e-bbb3-482a-f3cb-9ec8cbdb6494"
      },
      "outputs": [
        {
          "name": "stdout",
          "output_type": "stream",
          "text": [
            "DBU example keys: dict_keys(['labels', 'input_ids', 'attention_mask']) | input_ids length: 3\n"
          ]
        }
      ],
      "source": [
        "# Setting PyTorch fromat\n",
        "ds_train_tok_dbu.set_format(type=\"torch\")\n",
        "ds_val_tok_dbu.set_format(type=\"torch\")\n",
        "ds_test_tok_dbu.set_format(type=\"torch\")\n",
        "\n",
        "data_collator_dbu = DataCollatorWithPadding(tokenizer=tokenizer_dbu, padding=\"longest\")\n",
        "\n",
        "ex = ds_train_tok_dbu[0]\n",
        "print(\"DBU example keys:\", ex.keys(), \"| input_ids length:\", len(ex[\"input_ids\"]))"
      ]
    },
    {
      "cell_type": "markdown",
      "id": "8psEiwv6lTCg",
      "metadata": {
        "id": "8psEiwv6lTCg"
      },
      "source": [
        "## Model training with distilbert base uncased"
      ]
    },
    {
      "cell_type": "code",
      "execution_count": 11,
      "id": "auwpFMr6lbzn",
      "metadata": {
        "colab": {
          "base_uri": "https://localhost:8080/"
        },
        "id": "auwpFMr6lbzn",
        "outputId": "3eea8ae9-5f7f-412e-cd4a-5ced8546a252"
      },
      "outputs": [
        {
          "name": "stderr",
          "output_type": "stream",
          "text": [
            "Some weights of DistilBertForSequenceClassification were not initialized from the model checkpoint at distilbert-base-uncased and are newly initialized: ['classifier.bias', 'classifier.weight', 'pre_classifier.bias', 'pre_classifier.weight']\n",
            "You should probably TRAIN this model on a down-stream task to be able to use it for predictions and inference.\n"
          ]
        }
      ],
      "source": [
        "# Label maps\n",
        "id2label = {0: \"negative\", 1: \"neutral\", 2: \"positive\"}\n",
        "label2id = {\"negative\": 0, \"neutral\": 1, \"positive\": 2}\n",
        "\n",
        "# Model (DistilBERT baseline)\n",
        "model_dbu = AutoModelForSequenceClassification.from_pretrained(\n",
        "    MODEL_NAME_dbu,\n",
        "    num_labels=3,\n",
        "    id2label=id2label,\n",
        "    label2id=label2id,\n",
        ")\n",
        "\n",
        "def compute_metrics_dbu(eval_pred):\n",
        "    logits, labels = eval_pred\n",
        "    preds = np.argmax(logits, axis=-1)\n",
        "    acc = accuracy_score(labels, preds)\n",
        "    p_macro, r_macro, f1_macro, _ = precision_recall_fscore_support(\n",
        "        labels, preds, average=\"macro\", zero_division=0\n",
        "    )\n",
        "    return {\"accuracy\": acc, \"f1_macro\": f1_macro, \"precision_macro\": p_macro, \"recall_macro\": r_macro}"
      ]
    },
    {
      "cell_type": "code",
      "execution_count": 12,
      "id": "czuDunO_lkgp",
      "metadata": {
        "colab": {
          "base_uri": "https://localhost:8080/"
        },
        "id": "czuDunO_lkgp",
        "outputId": "19485696-920a-4db1-89d1-32488e458074"
      },
      "outputs": [
        {
          "name": "stdout",
          "output_type": "stream",
          "text": [
            "class weights used (neg, neu, pos): [1.8363966941833496, 5.8915863037109375, 0.44746699929237366]\n"
          ]
        }
      ],
      "source": [
        "# Class weighted training to handle that the training test is imbalanced\n",
        "label_order = [\"negative\", \"neutral\", \"positive\"]\n",
        "\n",
        "# copy current class weights in the train split\n",
        "w = {k: train_class_weights_dbu[k] for k in label_order}\n",
        "\n",
        "# boost neutral\n",
        "w[\"neutral\"] *= 1.3\n",
        "\n",
        "# checking weight used\n",
        "weight_tensor_dbu = torch.tensor([w[k] for k in label_order], dtype=torch.float32)\n",
        "print(\"class weights used (neg, neu, pos):\", [float(x) for x in weight_tensor_dbu])\n",
        "\n",
        "class WeightedTrainerDBU(Trainer):\n",
        "    # accept extra kwargs from new Trainer (e.g., num_items_in_batch) to stay future-proof\n",
        "    def compute_loss(self, model, inputs, return_outputs=False, **kwargs):\n",
        "        labels = inputs.pop(\"labels\")\n",
        "        # make sure labels are correct dtype for CE loss\n",
        "        if labels.dtype != torch.long:\n",
        "            labels = labels.long()\n",
        "\n",
        "        outputs = model(**inputs)\n",
        "        logits = outputs.logits\n",
        "\n",
        "        loss_fct = torch.nn.CrossEntropyLoss(\n",
        "            weight=weight_tensor_dbu.to(logits.device)\n",
        "        )\n",
        "        loss = loss_fct(logits, labels)\n",
        "\n",
        "        return (loss, outputs) if return_outputs else loss"
      ]
    },
    {
      "cell_type": "code",
      "execution_count": null,
      "id": "sLdxKL5VlsyD",
      "metadata": {
        "colab": {
          "base_uri": "https://localhost:8080/"
        },
        "id": "sLdxKL5VlsyD",
        "outputId": "1caa44ca-1e62-43e5-e2b6-6ec834edbd88"
      },
      "outputs": [
        {
          "name": "stdout",
          "output_type": "stream",
          "text": [
            "[TrainingArguments] Modern API not supported: TrainingArguments.__init__() got an unexpected keyword argument 'evaluation_strategy'\n",
            "[TrainingArguments] Using minimal fallback (no eval during training; no best model at end).\n",
            "Has 'evaluation_strategy': False\n",
            "Has 'load_best_model_at_end': False\n"
          ]
        }
      ],
      "source": [
        "# Setting training arguments\n",
        "import importlib, transformers\n",
        "importlib.reload(transformers)\n",
        "from transformers.training_args import TrainingArguments\n",
        "\n",
        "def make_training_args_dbu(output_dir=f\"runs_{SHORT_dbu}\"):\n",
        "    \"\"\"\n",
        "    Build TrainingArguments with a compatibility shim:\n",
        "    - Attempt A: modern API (>=3.x): eval/save 'epoch' + best model at end\n",
        "    - Attempt B: fallback (very old API): no eval during training,\n",
        "      no 'best model at end' (avoids the mismatch error).\n",
        "    \"\"\"\n",
        "    # ---- Base hyperparams (tuned for the SAMPLE split) ----\n",
        "    base = dict(\n",
        "        output_dir=output_dir,\n",
        "\n",
        "        # Optimization\n",
        "        learning_rate=1e-5,\n",
        "        weight_decay=0.01,\n",
        "\n",
        "        # Batching (effective train batch ≈ 16 * 2 = 32)\n",
        "        per_device_train_batch_size=16,\n",
        "        per_device_eval_batch_size=32,\n",
        "        gradient_accumulation_steps=2,\n",
        "\n",
        "        # Train length on SAMPLE\n",
        "        num_train_epochs=3,\n",
        "\n",
        "        # Logging\n",
        "        logging_strategy=\"steps\",\n",
        "        logging_steps=100,\n",
        "\n",
        "        # Mixed precision\n",
        "        fp16=True,\n",
        "\n",
        "        # Keep disk tidy & avoid external loggers by default\n",
        "        save_total_limit=2,\n",
        "        report_to=\"none\",\n",
        "    )\n",
        "\n",
        "    # ---- Attempt A: modern API (eval/save must MATCH) ----\n",
        "    try:\n",
        "        args = TrainingArguments(\n",
        "            **base,\n",
        "            evaluation_strategy=\"epoch\",\n",
        "            save_strategy=\"epoch\",\n",
        "            load_best_model_at_end=True,\n",
        "            metric_for_best_model=\"f1_macro\",\n",
        "            greater_is_better=True,\n",
        "        )\n",
        "        print(\"[TrainingArguments] Using modern API (eval/save='epoch').\")\n",
        "        return args\n",
        "    except TypeError as e:\n",
        "        print(\"[TrainingArguments] Modern API not supported:\", e)\n",
        "\n",
        "    # ---- Attempt B: minimal fallback (NO eval during training) ----\n",
        "    # Remove modern-only fields and DISABLE 'best model at end'\n",
        "    base_min = dict(base)\n",
        "    base_min.pop(\"logging_strategy\", None)   # some very old builds don't have this\n",
        "    args = TrainingArguments(\n",
        "        **base_min,\n",
        "        # No evaluation during training in this fallback\n",
        "        load_best_model_at_end=False,  # <- avoids the mismatch error\n",
        "        # Don't set evaluation_strategy/save_strategy here\n",
        "    )\n",
        "    print(\"[TrainingArguments] Using minimal fallback (no eval during training; no best model at end).\")\n",
        "    return args\n",
        "\n",
        "# Build args and quick sanity check\n",
        "args_dbu = make_training_args_dbu(f\"runs_{SHORT_dbu}\")\n",
        "print(\"Has 'evaluation_strategy':\", hasattr(args_dbu, \"evaluation_strategy\"))\n",
        "print(\"Has 'load_best_model_at_end':\", getattr(args_dbu, \"load_best_model_at_end\", None))\n"
      ]
    },
    {
      "cell_type": "code",
      "execution_count": null,
      "id": "jz_A7gG9lzPX",
      "metadata": {
        "colab": {
          "base_uri": "https://localhost:8080/",
          "height": 1000
        },
        "id": "jz_A7gG9lzPX",
        "outputId": "bf1316ca-d401-46e0-cff6-7055cf012e56"
      },
      "outputs": [
        {
          "data": {
            "text/html": [
              "\n",
              "    <div>\n",
              "      \n",
              "      <progress value='3036' max='3036' style='width:300px; height:20px; vertical-align: middle;'></progress>\n",
              "      [3036/3036 08:28, Epoch 3/3]\n",
              "    </div>\n",
              "    <table border=\"1\" class=\"dataframe\">\n",
              "  <thead>\n",
              " <tr style=\"text-align: left;\">\n",
              "      <th>Step</th>\n",
              "      <th>Training Loss</th>\n",
              "    </tr>\n",
              "  </thead>\n",
              "  <tbody>\n",
              "    <tr>\n",
              "      <td>100</td>\n",
              "      <td>1.035300</td>\n",
              "    </tr>\n",
              "    <tr>\n",
              "      <td>200</td>\n",
              "      <td>0.773300</td>\n",
              "    </tr>\n",
              "    <tr>\n",
              "      <td>300</td>\n",
              "      <td>0.692400</td>\n",
              "    </tr>\n",
              "    <tr>\n",
              "      <td>400</td>\n",
              "      <td>0.669100</td>\n",
              "    </tr>\n",
              "    <tr>\n",
              "      <td>500</td>\n",
              "      <td>0.633800</td>\n",
              "    </tr>\n",
              "    <tr>\n",
              "      <td>600</td>\n",
              "      <td>0.640900</td>\n",
              "    </tr>\n",
              "    <tr>\n",
              "      <td>700</td>\n",
              "      <td>0.628700</td>\n",
              "    </tr>\n",
              "    <tr>\n",
              "      <td>800</td>\n",
              "      <td>0.650000</td>\n",
              "    </tr>\n",
              "    <tr>\n",
              "      <td>900</td>\n",
              "      <td>0.601700</td>\n",
              "    </tr>\n",
              "    <tr>\n",
              "      <td>1000</td>\n",
              "      <td>0.608500</td>\n",
              "    </tr>\n",
              "    <tr>\n",
              "      <td>1100</td>\n",
              "      <td>0.526800</td>\n",
              "    </tr>\n",
              "    <tr>\n",
              "      <td>1200</td>\n",
              "      <td>0.536400</td>\n",
              "    </tr>\n",
              "    <tr>\n",
              "      <td>1300</td>\n",
              "      <td>0.564400</td>\n",
              "    </tr>\n",
              "    <tr>\n",
              "      <td>1400</td>\n",
              "      <td>0.542400</td>\n",
              "    </tr>\n",
              "    <tr>\n",
              "      <td>1500</td>\n",
              "      <td>0.499300</td>\n",
              "    </tr>\n",
              "    <tr>\n",
              "      <td>1600</td>\n",
              "      <td>0.512400</td>\n",
              "    </tr>\n",
              "    <tr>\n",
              "      <td>1700</td>\n",
              "      <td>0.525600</td>\n",
              "    </tr>\n",
              "    <tr>\n",
              "      <td>1800</td>\n",
              "      <td>0.508200</td>\n",
              "    </tr>\n",
              "    <tr>\n",
              "      <td>1900</td>\n",
              "      <td>0.565200</td>\n",
              "    </tr>\n",
              "    <tr>\n",
              "      <td>2000</td>\n",
              "      <td>0.577800</td>\n",
              "    </tr>\n",
              "    <tr>\n",
              "      <td>2100</td>\n",
              "      <td>0.534700</td>\n",
              "    </tr>\n",
              "    <tr>\n",
              "      <td>2200</td>\n",
              "      <td>0.497600</td>\n",
              "    </tr>\n",
              "    <tr>\n",
              "      <td>2300</td>\n",
              "      <td>0.489600</td>\n",
              "    </tr>\n",
              "    <tr>\n",
              "      <td>2400</td>\n",
              "      <td>0.455400</td>\n",
              "    </tr>\n",
              "    <tr>\n",
              "      <td>2500</td>\n",
              "      <td>0.456300</td>\n",
              "    </tr>\n",
              "    <tr>\n",
              "      <td>2600</td>\n",
              "      <td>0.448000</td>\n",
              "    </tr>\n",
              "    <tr>\n",
              "      <td>2700</td>\n",
              "      <td>0.478100</td>\n",
              "    </tr>\n",
              "    <tr>\n",
              "      <td>2800</td>\n",
              "      <td>0.451300</td>\n",
              "    </tr>\n",
              "    <tr>\n",
              "      <td>2900</td>\n",
              "      <td>0.469200</td>\n",
              "    </tr>\n",
              "    <tr>\n",
              "      <td>3000</td>\n",
              "      <td>0.502800</td>\n",
              "    </tr>\n",
              "  </tbody>\n",
              "</table><p>"
            ],
            "text/plain": [
              "<IPython.core.display.HTML object>"
            ]
          },
          "metadata": {},
          "output_type": "display_data"
        }
      ],
      "source": [
        "# Training\n",
        "trainer_dbu = WeightedTrainerDBU(\n",
        "    model=model_dbu,\n",
        "    args=args_dbu,                       # from builder\n",
        "    train_dataset=ds_train_tok_dbu,\n",
        "    eval_dataset=ds_val_tok_dbu,         # optional; used when you call evaluate()\n",
        "    processing_class=tokenizer_dbu,      # replaces deprecated tokenizer=\n",
        "    data_collator=data_collator_dbu,\n",
        "    compute_metrics=compute_metrics_dbu,\n",
        ")\n",
        "\n",
        "train_result_dbu = trainer_dbu.train()\n"
      ]
    },
    {
      "cell_type": "code",
      "execution_count": null,
      "id": "04rpC-bbmObp",
      "metadata": {
        "colab": {
          "base_uri": "https://localhost:8080/",
          "height": 315
        },
        "id": "04rpC-bbmObp",
        "outputId": "3ab3a3c8-d770-4307-d845-966dbd0ddd50"
      },
      "outputs": [
        {
          "data": {
            "text/html": [],
            "text/plain": [
              "<IPython.core.display.HTML object>"
            ]
          },
          "metadata": {},
          "output_type": "display_data"
        },
        {
          "name": "stdout",
          "output_type": "stream",
          "text": [
            "VAL (dbu): {'eval_loss': 0.6241616606712341, 'eval_accuracy': 0.848205276055932, 'eval_f1_macro': 0.7060915324286569, 'eval_precision_macro': 0.689427548050409, 'eval_recall_macro': 0.7481854247628291, 'eval_runtime': 11.6154, 'eval_samples_per_second': 597.223, 'eval_steps_per_second': 18.682, 'epoch': 3.0}\n",
            "TEST (dbu): {'test_loss': 0.6376691460609436, 'test_accuracy': 0.8435923309788093, 'test_f1_macro': 0.7043013038405533, 'test_precision_macro': 0.6869476072854783, 'test_recall_macro': 0.7523544787813262, 'test_runtime': 11.8366, 'test_samples_per_second': 586.064, 'test_steps_per_second': 18.333, 'epoch': 3.0}\n",
            "              precision    recall  f1-score   support\n",
            "\n",
            "    negative      0.793     0.809     0.801      1259\n",
            "     neutral      0.294     0.569     0.388       510\n",
            "    positive      0.973     0.879     0.924      5168\n",
            "\n",
            "    accuracy                          0.844      6937\n",
            "   macro avg      0.687     0.752     0.704      6937\n",
            "weighted avg      0.891     0.844     0.862      6937\n",
            "\n",
            "Confusion matrix (rows=true, cols=pred):\n",
            " [[1019  200   40]\n",
            " [ 136  290   84]\n",
            " [ 130  495 4543]]\n"
          ]
        }
      ],
      "source": [
        "# Validation metrics\n",
        "val_metrics_dbu  = trainer_dbu.evaluate(ds_val_tok_dbu)\n",
        "print(\"VAL (dbu):\",  val_metrics_dbu)\n",
        "\n",
        "test_metrics_dbu = trainer_dbu.evaluate(ds_test_tok_dbu, metric_key_prefix=\"test\")\n",
        "print(\"TEST (dbu):\", test_metrics_dbu)\n",
        "\n",
        "pred = trainer_dbu.predict(ds_test_tok_dbu)\n",
        "y_true = pred.label_ids\n",
        "y_pred = pred.predictions.argmax(axis=-1)\n",
        "\n",
        "print(classification_report(y_true, y_pred,\n",
        "                            target_names=[\"negative\",\"neutral\",\"positive\"],\n",
        "                            digits=3))\n",
        "print(\"Confusion matrix (rows=true, cols=pred):\\n\",\n",
        "      confusion_matrix(y_true, y_pred, labels=[0,1,2]))\n"
      ]
    },
    {
      "cell_type": "markdown",
      "id": "v4W3BPRYL6Yi",
      "metadata": {
        "id": "v4W3BPRYL6Yi"
      },
      "source": [
        "## Saving model"
      ]
    },
    {
      "cell_type": "code",
      "execution_count": 16,
      "id": "BESVK6uJL6LV",
      "metadata": {
        "colab": {
          "base_uri": "https://localhost:8080/"
        },
        "id": "BESVK6uJL6LV",
        "outputId": "205a0073-92e1-492c-e473-160b058db56d"
      },
      "outputs": [
        {
          "name": "stdout",
          "output_type": "stream",
          "text": [
            "Saving to: /content/drive/MyDrive/Project_NLP/models/dbu_sample_e3_lr1e-5_wNeutral1p3\n"
          ]
        }
      ],
      "source": [
        "# saving too google drive\n",
        "BASE_SAVE = \"/content/drive/MyDrive/Project_NLP/models\"\n",
        "RUN_TAG   = \"dbu_sample_e3_lr1e-5_wNeutral1p3\"\n",
        "SAVE_DIR  = f\"{BASE_SAVE}/{RUN_TAG}\"\n",
        "\n",
        "import os, json, datetime, numpy as np\n",
        "os.makedirs(SAVE_DIR, exist_ok=True)\n",
        "print(\"Saving to:\", SAVE_DIR)\n"
      ]
    },
    {
      "cell_type": "code",
      "execution_count": 17,
      "id": "_G_bHC2PMSE6",
      "metadata": {
        "colab": {
          "base_uri": "https://localhost:8080/"
        },
        "id": "_G_bHC2PMSE6",
        "outputId": "e328231a-c9ba-4181-8294-4f6dd909f4d7"
      },
      "outputs": [
        {
          "data": {
            "text/plain": [
              "('/content/drive/MyDrive/Project_NLP/models/dbu_sample_e3_lr1e-5_wNeutral1p3/tokenizer_config.json',\n",
              " '/content/drive/MyDrive/Project_NLP/models/dbu_sample_e3_lr1e-5_wNeutral1p3/special_tokens_map.json',\n",
              " '/content/drive/MyDrive/Project_NLP/models/dbu_sample_e3_lr1e-5_wNeutral1p3/vocab.txt',\n",
              " '/content/drive/MyDrive/Project_NLP/models/dbu_sample_e3_lr1e-5_wNeutral1p3/added_tokens.json',\n",
              " '/content/drive/MyDrive/Project_NLP/models/dbu_sample_e3_lr1e-5_wNeutral1p3/tokenizer.json')"
            ]
          },
          "execution_count": 17,
          "metadata": {},
          "output_type": "execute_result"
        }
      ],
      "source": [
        "# Model + tokenizer\n",
        "trainer_dbu.save_model(SAVE_DIR)\n",
        "tokenizer_dbu.save_pretrained(SAVE_DIR)"
      ]
    },
    {
      "cell_type": "code",
      "execution_count": null,
      "id": "MGmRaPJMM_Yb",
      "metadata": {
        "colab": {
          "base_uri": "https://localhost:8080/"
        },
        "id": "MGmRaPJMM_Yb",
        "outputId": "ad284d97-b289-4db9-f697-9fdc75cf6f2b"
      },
      "outputs": [
        {
          "name": "stdout",
          "output_type": "stream",
          "text": [
            "Writing metrics & reports to: /content/drive/MyDrive/Project_NLP/runs/dbu_sample_e3_lr1e-5_wNeutral1p3\n",
            "Saved: metrics.json, classification_report.csv, confusion_matrix.csv, preds_test.csv, run_summary.json\n"
          ]
        }
      ],
      "source": [
        "# Puting all diagnostics beside model, but in a separate \"runs\" area\n",
        "RUNS_BASE = \"/content/drive/MyDrive/Project_NLP/runs\"\n",
        "RUN_DIR    = f\"{RUNS_BASE}/{RUN_TAG}\"\n",
        "os.makedirs(RUN_DIR, exist_ok=True)\n",
        "print(\"Writing metrics & reports to:\", RUN_DIR)\n",
        "\n",
        "# 1) raw val/test metrics → JSON\n",
        "with open(f\"{RUN_DIR}/metrics.json\", \"w\") as f:\n",
        "    json.dump(\n",
        "        {\n",
        "            \"val\":  val_metrics_dbu,     # from trainer_dbu.evaluate(ds_val_tok_dbu)\n",
        "            \"test\": test_metrics_dbu,    # from trainer_dbu.evaluate(ds_test_tok_dbu, metric_key_prefix=\"test\")\n",
        "        },\n",
        "        f,\n",
        "        indent=2\n",
        "    )\n",
        "\n",
        "# 2) classification report → CSV\n",
        "label_order = [\"negative\", \"neutral\", \"positive\"]\n",
        "rep_dict = classification_report(\n",
        "    y_true, y_pred, target_names=label_order, output_dict=True, digits=3\n",
        ")\n",
        "pd.DataFrame(rep_dict).T.to_csv(f\"{RUN_DIR}/classification_report.csv\")\n",
        "\n",
        "# 3) confusion matrix → CSV\n",
        "cm = confusion_matrix(y_true, y_pred, labels=[0, 1, 2])\n",
        "pd.DataFrame(\n",
        "    cm,\n",
        "    index=[f\"true_{l}\" for l in label_order],\n",
        "    columns=[f\"pred_{l}\" for l in label_order],\n",
        ").to_csv(f\"{RUN_DIR}/confusion_matrix.csv\")\n",
        "\n",
        "# 4) test-set predictions → CSV\n",
        "pd.DataFrame({\"y_true\": y_true, \"y_pred\": y_pred}).to_csv(\n",
        "    f\"{RUN_DIR}/preds_test.csv\", index=False\n",
        ")\n",
        "\n",
        "# 5) compact run summary (to remember how it was trained) → JSON\n",
        "summary = {\n",
        "    \"run_tag\": RUN_TAG,\n",
        "    \"model_path\": SAVE_DIR,\n",
        "    \"model_name\": MODEL_NAME_dbu,            # e.g., \"distilbert-base-uncased\"\n",
        "    \"max_length\": MAX_LENGTH,\n",
        "    \"epochs\": getattr(args_dbu, \"num_train_epochs\", None),\n",
        "    \"learning_rate\": getattr(args_dbu, \"learning_rate\", None),\n",
        "    \"train_sizes\": {\n",
        "        \"train\": len(ds_train_tok_dbu),\n",
        "        \"val\":   len(ds_val_tok_dbu),\n",
        "        \"test\":  len(ds_test_tok_dbu),\n",
        "    },\n",
        "    # if you used class weights:\n",
        "    \"class_weights_used\": (\n",
        "        [float(x) for x in weight_tensor_dbu.tolist()]\n",
        "        if \"weight_tensor_dbu\" in globals() else None\n",
        "    ),\n",
        "    \"notes\": \"DBU on SAMPLE; neutral boosted ×1.3\",\n",
        "}\n",
        "with open(f\"{RUN_DIR}/run_summary.json\", \"w\") as f:\n",
        "    json.dump(summary, f, indent=2)\n",
        "\n",
        "print(\"Saved: metrics.json, classification_report.csv, confusion_matrix.csv, preds_test.csv, run_summary.json\")\n",
        "\n"
      ]
    }
  ],
  "metadata": {
    "accelerator": "GPU",
    "colab": {
      "gpuType": "T4",
      "machine_shape": "hm",
      "provenance": []
    },
    "kernelspec": {
      "display_name": "Python 3",
      "name": "python3"
    },
    "language_info": {
      "name": "python"
    },
    "widgets": {
      "application/vnd.jupyter.widget-state+json": {
        "02555f16abec4322a9a63f84d59f3204": {
          "model_module": "@jupyter-widgets/controls",
          "model_module_version": "1.5.0",
          "model_name": "HBoxModel",
          "state": {
            "_dom_classes": [],
            "_model_module": "@jupyter-widgets/controls",
            "_model_module_version": "1.5.0",
            "_model_name": "HBoxModel",
            "_view_count": null,
            "_view_module": "@jupyter-widgets/controls",
            "_view_module_version": "1.5.0",
            "_view_name": "HBoxView",
            "box_style": "",
            "children": [
              "IPY_MODEL_531cb632ac2d4a86b9ea04e03956b4e9",
              "IPY_MODEL_3ebad8ab98724886b9d0a289141fb728",
              "IPY_MODEL_0bf13bf4519648a392c76af24396fc3e"
            ],
            "layout": "IPY_MODEL_0f8d9c6c00c7488d9a54790dedc64b6c"
          }
        },
        "0331c08cf2154eb68b4ccd998fdc4272": {
          "model_module": "@jupyter-widgets/controls",
          "model_module_version": "1.5.0",
          "model_name": "DescriptionStyleModel",
          "state": {
            "_model_module": "@jupyter-widgets/controls",
            "_model_module_version": "1.5.0",
            "_model_name": "DescriptionStyleModel",
            "_view_count": null,
            "_view_module": "@jupyter-widgets/base",
            "_view_module_version": "1.2.0",
            "_view_name": "StyleView",
            "description_width": ""
          }
        },
        "0bf13bf4519648a392c76af24396fc3e": {
          "model_module": "@jupyter-widgets/controls",
          "model_module_version": "1.5.0",
          "model_name": "HTMLModel",
          "state": {
            "_dom_classes": [],
            "_model_module": "@jupyter-widgets/controls",
            "_model_module_version": "1.5.0",
            "_model_name": "HTMLModel",
            "_view_count": null,
            "_view_module": "@jupyter-widgets/controls",
            "_view_module_version": "1.5.0",
            "_view_name": "HTMLView",
            "description": "",
            "description_tooltip": null,
            "layout": "IPY_MODEL_acebd97bc1cb4a48bb34b059da378218",
            "placeholder": "​",
            "style": "IPY_MODEL_66230aa9456b4bc2a55df5ebe22fe6cb",
            "value": " 6937/6937 [00:01&lt;00:00, 4093.14 examples/s]"
          }
        },
        "0ced75b48cf14676b9917b551557d472": {
          "model_module": "@jupyter-widgets/controls",
          "model_module_version": "1.5.0",
          "model_name": "ProgressStyleModel",
          "state": {
            "_model_module": "@jupyter-widgets/controls",
            "_model_module_version": "1.5.0",
            "_model_name": "ProgressStyleModel",
            "_view_count": null,
            "_view_module": "@jupyter-widgets/base",
            "_view_module_version": "1.2.0",
            "_view_name": "StyleView",
            "bar_color": null,
            "description_width": ""
          }
        },
        "0df9d1de83e3496ebca9e47768e28a6e": {
          "model_module": "@jupyter-widgets/controls",
          "model_module_version": "1.5.0",
          "model_name": "FloatProgressModel",
          "state": {
            "_dom_classes": [],
            "_model_module": "@jupyter-widgets/controls",
            "_model_module_version": "1.5.0",
            "_model_name": "FloatProgressModel",
            "_view_count": null,
            "_view_module": "@jupyter-widgets/controls",
            "_view_module_version": "1.5.0",
            "_view_name": "ProgressView",
            "bar_style": "success",
            "description": "",
            "description_tooltip": null,
            "layout": "IPY_MODEL_cc2a95aca30c468aa6e69aeaf51fa755",
            "max": 32372,
            "min": 0,
            "orientation": "horizontal",
            "style": "IPY_MODEL_2c02ab03583045feb986f64ee3a871ec",
            "value": 32372
          }
        },
        "0f8d9c6c00c7488d9a54790dedc64b6c": {
          "model_module": "@jupyter-widgets/base",
          "model_module_version": "1.2.0",
          "model_name": "LayoutModel",
          "state": {
            "_model_module": "@jupyter-widgets/base",
            "_model_module_version": "1.2.0",
            "_model_name": "LayoutModel",
            "_view_count": null,
            "_view_module": "@jupyter-widgets/base",
            "_view_module_version": "1.2.0",
            "_view_name": "LayoutView",
            "align_content": null,
            "align_items": null,
            "align_self": null,
            "border": null,
            "bottom": null,
            "display": null,
            "flex": null,
            "flex_flow": null,
            "grid_area": null,
            "grid_auto_columns": null,
            "grid_auto_flow": null,
            "grid_auto_rows": null,
            "grid_column": null,
            "grid_gap": null,
            "grid_row": null,
            "grid_template_areas": null,
            "grid_template_columns": null,
            "grid_template_rows": null,
            "height": null,
            "justify_content": null,
            "justify_items": null,
            "left": null,
            "margin": null,
            "max_height": null,
            "max_width": null,
            "min_height": null,
            "min_width": null,
            "object_fit": null,
            "object_position": null,
            "order": null,
            "overflow": null,
            "overflow_x": null,
            "overflow_y": null,
            "padding": null,
            "right": null,
            "top": null,
            "visibility": null,
            "width": null
          }
        },
        "1ae4471c93474d008644baab2f72ee18": {
          "model_module": "@jupyter-widgets/controls",
          "model_module_version": "1.5.0",
          "model_name": "DescriptionStyleModel",
          "state": {
            "_model_module": "@jupyter-widgets/controls",
            "_model_module_version": "1.5.0",
            "_model_name": "DescriptionStyleModel",
            "_view_count": null,
            "_view_module": "@jupyter-widgets/base",
            "_view_module_version": "1.2.0",
            "_view_name": "StyleView",
            "description_width": ""
          }
        },
        "2c02ab03583045feb986f64ee3a871ec": {
          "model_module": "@jupyter-widgets/controls",
          "model_module_version": "1.5.0",
          "model_name": "ProgressStyleModel",
          "state": {
            "_model_module": "@jupyter-widgets/controls",
            "_model_module_version": "1.5.0",
            "_model_name": "ProgressStyleModel",
            "_view_count": null,
            "_view_module": "@jupyter-widgets/base",
            "_view_module_version": "1.2.0",
            "_view_name": "StyleView",
            "bar_color": null,
            "description_width": ""
          }
        },
        "2d0d14538a164cb5a84954e566af9c8a": {
          "model_module": "@jupyter-widgets/controls",
          "model_module_version": "1.5.0",
          "model_name": "HTMLModel",
          "state": {
            "_dom_classes": [],
            "_model_module": "@jupyter-widgets/controls",
            "_model_module_version": "1.5.0",
            "_model_name": "HTMLModel",
            "_view_count": null,
            "_view_module": "@jupyter-widgets/controls",
            "_view_module_version": "1.5.0",
            "_view_name": "HTMLView",
            "description": "",
            "description_tooltip": null,
            "layout": "IPY_MODEL_a15e2f2b70a04995808fd603009dc865",
            "placeholder": "​",
            "style": "IPY_MODEL_350090063fe64df0832d3f769fb4d157",
            "value": " 6937/6937 [00:01&lt;00:00, 4413.94 examples/s]"
          }
        },
        "31553d996eef45afb9f9b02b7043ab32": {
          "model_module": "@jupyter-widgets/base",
          "model_module_version": "1.2.0",
          "model_name": "LayoutModel",
          "state": {
            "_model_module": "@jupyter-widgets/base",
            "_model_module_version": "1.2.0",
            "_model_name": "LayoutModel",
            "_view_count": null,
            "_view_module": "@jupyter-widgets/base",
            "_view_module_version": "1.2.0",
            "_view_name": "LayoutView",
            "align_content": null,
            "align_items": null,
            "align_self": null,
            "border": null,
            "bottom": null,
            "display": null,
            "flex": null,
            "flex_flow": null,
            "grid_area": null,
            "grid_auto_columns": null,
            "grid_auto_flow": null,
            "grid_auto_rows": null,
            "grid_column": null,
            "grid_gap": null,
            "grid_row": null,
            "grid_template_areas": null,
            "grid_template_columns": null,
            "grid_template_rows": null,
            "height": null,
            "justify_content": null,
            "justify_items": null,
            "left": null,
            "margin": null,
            "max_height": null,
            "max_width": null,
            "min_height": null,
            "min_width": null,
            "object_fit": null,
            "object_position": null,
            "order": null,
            "overflow": null,
            "overflow_x": null,
            "overflow_y": null,
            "padding": null,
            "right": null,
            "top": null,
            "visibility": null,
            "width": null
          }
        },
        "34f853c4aac24df4af87d36a7fe8bc22": {
          "model_module": "@jupyter-widgets/controls",
          "model_module_version": "1.5.0",
          "model_name": "HTMLModel",
          "state": {
            "_dom_classes": [],
            "_model_module": "@jupyter-widgets/controls",
            "_model_module_version": "1.5.0",
            "_model_name": "HTMLModel",
            "_view_count": null,
            "_view_module": "@jupyter-widgets/controls",
            "_view_module_version": "1.5.0",
            "_view_name": "HTMLView",
            "description": "",
            "description_tooltip": null,
            "layout": "IPY_MODEL_a7c561f7dae54229b91fa5278568122b",
            "placeholder": "​",
            "style": "IPY_MODEL_95fb3487fa474862b6e1ca3937aee144",
            "value": "Map: 100%"
          }
        },
        "350090063fe64df0832d3f769fb4d157": {
          "model_module": "@jupyter-widgets/controls",
          "model_module_version": "1.5.0",
          "model_name": "DescriptionStyleModel",
          "state": {
            "_model_module": "@jupyter-widgets/controls",
            "_model_module_version": "1.5.0",
            "_model_name": "DescriptionStyleModel",
            "_view_count": null,
            "_view_module": "@jupyter-widgets/base",
            "_view_module_version": "1.2.0",
            "_view_name": "StyleView",
            "description_width": ""
          }
        },
        "3ebad8ab98724886b9d0a289141fb728": {
          "model_module": "@jupyter-widgets/controls",
          "model_module_version": "1.5.0",
          "model_name": "FloatProgressModel",
          "state": {
            "_dom_classes": [],
            "_model_module": "@jupyter-widgets/controls",
            "_model_module_version": "1.5.0",
            "_model_name": "FloatProgressModel",
            "_view_count": null,
            "_view_module": "@jupyter-widgets/controls",
            "_view_module_version": "1.5.0",
            "_view_name": "ProgressView",
            "bar_style": "success",
            "description": "",
            "description_tooltip": null,
            "layout": "IPY_MODEL_31553d996eef45afb9f9b02b7043ab32",
            "max": 6937,
            "min": 0,
            "orientation": "horizontal",
            "style": "IPY_MODEL_0ced75b48cf14676b9917b551557d472",
            "value": 6937
          }
        },
        "415281d08f544bb7ac37fa25eeeacbdb": {
          "model_module": "@jupyter-widgets/controls",
          "model_module_version": "1.5.0",
          "model_name": "ProgressStyleModel",
          "state": {
            "_model_module": "@jupyter-widgets/controls",
            "_model_module_version": "1.5.0",
            "_model_name": "ProgressStyleModel",
            "_view_count": null,
            "_view_module": "@jupyter-widgets/base",
            "_view_module_version": "1.2.0",
            "_view_name": "StyleView",
            "bar_color": null,
            "description_width": ""
          }
        },
        "46f1618f12b241b9bbab63006ee4bb6a": {
          "model_module": "@jupyter-widgets/controls",
          "model_module_version": "1.5.0",
          "model_name": "HTMLModel",
          "state": {
            "_dom_classes": [],
            "_model_module": "@jupyter-widgets/controls",
            "_model_module_version": "1.5.0",
            "_model_name": "HTMLModel",
            "_view_count": null,
            "_view_module": "@jupyter-widgets/controls",
            "_view_module_version": "1.5.0",
            "_view_name": "HTMLView",
            "description": "",
            "description_tooltip": null,
            "layout": "IPY_MODEL_a490e4e7dcce4a788d031b93b2658126",
            "placeholder": "​",
            "style": "IPY_MODEL_1ae4471c93474d008644baab2f72ee18",
            "value": " 32372/32372 [00:08&lt;00:00, 3914.23 examples/s]"
          }
        },
        "4e8a8c737f0d4195ad6e758246c56aaa": {
          "model_module": "@jupyter-widgets/base",
          "model_module_version": "1.2.0",
          "model_name": "LayoutModel",
          "state": {
            "_model_module": "@jupyter-widgets/base",
            "_model_module_version": "1.2.0",
            "_model_name": "LayoutModel",
            "_view_count": null,
            "_view_module": "@jupyter-widgets/base",
            "_view_module_version": "1.2.0",
            "_view_name": "LayoutView",
            "align_content": null,
            "align_items": null,
            "align_self": null,
            "border": null,
            "bottom": null,
            "display": null,
            "flex": null,
            "flex_flow": null,
            "grid_area": null,
            "grid_auto_columns": null,
            "grid_auto_flow": null,
            "grid_auto_rows": null,
            "grid_column": null,
            "grid_gap": null,
            "grid_row": null,
            "grid_template_areas": null,
            "grid_template_columns": null,
            "grid_template_rows": null,
            "height": null,
            "justify_content": null,
            "justify_items": null,
            "left": null,
            "margin": null,
            "max_height": null,
            "max_width": null,
            "min_height": null,
            "min_width": null,
            "object_fit": null,
            "object_position": null,
            "order": null,
            "overflow": null,
            "overflow_x": null,
            "overflow_y": null,
            "padding": null,
            "right": null,
            "top": null,
            "visibility": null,
            "width": null
          }
        },
        "531cb632ac2d4a86b9ea04e03956b4e9": {
          "model_module": "@jupyter-widgets/controls",
          "model_module_version": "1.5.0",
          "model_name": "HTMLModel",
          "state": {
            "_dom_classes": [],
            "_model_module": "@jupyter-widgets/controls",
            "_model_module_version": "1.5.0",
            "_model_name": "HTMLModel",
            "_view_count": null,
            "_view_module": "@jupyter-widgets/controls",
            "_view_module_version": "1.5.0",
            "_view_name": "HTMLView",
            "description": "",
            "description_tooltip": null,
            "layout": "IPY_MODEL_4e8a8c737f0d4195ad6e758246c56aaa",
            "placeholder": "​",
            "style": "IPY_MODEL_0331c08cf2154eb68b4ccd998fdc4272",
            "value": "Map: 100%"
          }
        },
        "66230aa9456b4bc2a55df5ebe22fe6cb": {
          "model_module": "@jupyter-widgets/controls",
          "model_module_version": "1.5.0",
          "model_name": "DescriptionStyleModel",
          "state": {
            "_model_module": "@jupyter-widgets/controls",
            "_model_module_version": "1.5.0",
            "_model_name": "DescriptionStyleModel",
            "_view_count": null,
            "_view_module": "@jupyter-widgets/base",
            "_view_module_version": "1.2.0",
            "_view_name": "StyleView",
            "description_width": ""
          }
        },
        "6645a524ed40469e852bcf3bcf565830": {
          "model_module": "@jupyter-widgets/base",
          "model_module_version": "1.2.0",
          "model_name": "LayoutModel",
          "state": {
            "_model_module": "@jupyter-widgets/base",
            "_model_module_version": "1.2.0",
            "_model_name": "LayoutModel",
            "_view_count": null,
            "_view_module": "@jupyter-widgets/base",
            "_view_module_version": "1.2.0",
            "_view_name": "LayoutView",
            "align_content": null,
            "align_items": null,
            "align_self": null,
            "border": null,
            "bottom": null,
            "display": null,
            "flex": null,
            "flex_flow": null,
            "grid_area": null,
            "grid_auto_columns": null,
            "grid_auto_flow": null,
            "grid_auto_rows": null,
            "grid_column": null,
            "grid_gap": null,
            "grid_row": null,
            "grid_template_areas": null,
            "grid_template_columns": null,
            "grid_template_rows": null,
            "height": null,
            "justify_content": null,
            "justify_items": null,
            "left": null,
            "margin": null,
            "max_height": null,
            "max_width": null,
            "min_height": null,
            "min_width": null,
            "object_fit": null,
            "object_position": null,
            "order": null,
            "overflow": null,
            "overflow_x": null,
            "overflow_y": null,
            "padding": null,
            "right": null,
            "top": null,
            "visibility": null,
            "width": null
          }
        },
        "6a6a550d9b104070899a3b3b3030a3b7": {
          "model_module": "@jupyter-widgets/controls",
          "model_module_version": "1.5.0",
          "model_name": "HBoxModel",
          "state": {
            "_dom_classes": [],
            "_model_module": "@jupyter-widgets/controls",
            "_model_module_version": "1.5.0",
            "_model_name": "HBoxModel",
            "_view_count": null,
            "_view_module": "@jupyter-widgets/controls",
            "_view_module_version": "1.5.0",
            "_view_name": "HBoxView",
            "box_style": "",
            "children": [
              "IPY_MODEL_34f853c4aac24df4af87d36a7fe8bc22",
              "IPY_MODEL_dbd7a91366de478e95b32f1a7b30a70d",
              "IPY_MODEL_2d0d14538a164cb5a84954e566af9c8a"
            ],
            "layout": "IPY_MODEL_e2cf66d52e96408daf6a4df6be63f058"
          }
        },
        "8b232d156122449ba37138081802e87b": {
          "model_module": "@jupyter-widgets/base",
          "model_module_version": "1.2.0",
          "model_name": "LayoutModel",
          "state": {
            "_model_module": "@jupyter-widgets/base",
            "_model_module_version": "1.2.0",
            "_model_name": "LayoutModel",
            "_view_count": null,
            "_view_module": "@jupyter-widgets/base",
            "_view_module_version": "1.2.0",
            "_view_name": "LayoutView",
            "align_content": null,
            "align_items": null,
            "align_self": null,
            "border": null,
            "bottom": null,
            "display": null,
            "flex": null,
            "flex_flow": null,
            "grid_area": null,
            "grid_auto_columns": null,
            "grid_auto_flow": null,
            "grid_auto_rows": null,
            "grid_column": null,
            "grid_gap": null,
            "grid_row": null,
            "grid_template_areas": null,
            "grid_template_columns": null,
            "grid_template_rows": null,
            "height": null,
            "justify_content": null,
            "justify_items": null,
            "left": null,
            "margin": null,
            "max_height": null,
            "max_width": null,
            "min_height": null,
            "min_width": null,
            "object_fit": null,
            "object_position": null,
            "order": null,
            "overflow": null,
            "overflow_x": null,
            "overflow_y": null,
            "padding": null,
            "right": null,
            "top": null,
            "visibility": null,
            "width": null
          }
        },
        "919d02bb1477461490f8ea9bc772455c": {
          "model_module": "@jupyter-widgets/controls",
          "model_module_version": "1.5.0",
          "model_name": "DescriptionStyleModel",
          "state": {
            "_model_module": "@jupyter-widgets/controls",
            "_model_module_version": "1.5.0",
            "_model_name": "DescriptionStyleModel",
            "_view_count": null,
            "_view_module": "@jupyter-widgets/base",
            "_view_module_version": "1.2.0",
            "_view_name": "StyleView",
            "description_width": ""
          }
        },
        "92633a5cace34b588d77297991287d67": {
          "model_module": "@jupyter-widgets/controls",
          "model_module_version": "1.5.0",
          "model_name": "HTMLModel",
          "state": {
            "_dom_classes": [],
            "_model_module": "@jupyter-widgets/controls",
            "_model_module_version": "1.5.0",
            "_model_name": "HTMLModel",
            "_view_count": null,
            "_view_module": "@jupyter-widgets/controls",
            "_view_module_version": "1.5.0",
            "_view_name": "HTMLView",
            "description": "",
            "description_tooltip": null,
            "layout": "IPY_MODEL_8b232d156122449ba37138081802e87b",
            "placeholder": "​",
            "style": "IPY_MODEL_919d02bb1477461490f8ea9bc772455c",
            "value": "Map: 100%"
          }
        },
        "95fb3487fa474862b6e1ca3937aee144": {
          "model_module": "@jupyter-widgets/controls",
          "model_module_version": "1.5.0",
          "model_name": "DescriptionStyleModel",
          "state": {
            "_model_module": "@jupyter-widgets/controls",
            "_model_module_version": "1.5.0",
            "_model_name": "DescriptionStyleModel",
            "_view_count": null,
            "_view_module": "@jupyter-widgets/base",
            "_view_module_version": "1.2.0",
            "_view_name": "StyleView",
            "description_width": ""
          }
        },
        "a15e2f2b70a04995808fd603009dc865": {
          "model_module": "@jupyter-widgets/base",
          "model_module_version": "1.2.0",
          "model_name": "LayoutModel",
          "state": {
            "_model_module": "@jupyter-widgets/base",
            "_model_module_version": "1.2.0",
            "_model_name": "LayoutModel",
            "_view_count": null,
            "_view_module": "@jupyter-widgets/base",
            "_view_module_version": "1.2.0",
            "_view_name": "LayoutView",
            "align_content": null,
            "align_items": null,
            "align_self": null,
            "border": null,
            "bottom": null,
            "display": null,
            "flex": null,
            "flex_flow": null,
            "grid_area": null,
            "grid_auto_columns": null,
            "grid_auto_flow": null,
            "grid_auto_rows": null,
            "grid_column": null,
            "grid_gap": null,
            "grid_row": null,
            "grid_template_areas": null,
            "grid_template_columns": null,
            "grid_template_rows": null,
            "height": null,
            "justify_content": null,
            "justify_items": null,
            "left": null,
            "margin": null,
            "max_height": null,
            "max_width": null,
            "min_height": null,
            "min_width": null,
            "object_fit": null,
            "object_position": null,
            "order": null,
            "overflow": null,
            "overflow_x": null,
            "overflow_y": null,
            "padding": null,
            "right": null,
            "top": null,
            "visibility": null,
            "width": null
          }
        },
        "a490e4e7dcce4a788d031b93b2658126": {
          "model_module": "@jupyter-widgets/base",
          "model_module_version": "1.2.0",
          "model_name": "LayoutModel",
          "state": {
            "_model_module": "@jupyter-widgets/base",
            "_model_module_version": "1.2.0",
            "_model_name": "LayoutModel",
            "_view_count": null,
            "_view_module": "@jupyter-widgets/base",
            "_view_module_version": "1.2.0",
            "_view_name": "LayoutView",
            "align_content": null,
            "align_items": null,
            "align_self": null,
            "border": null,
            "bottom": null,
            "display": null,
            "flex": null,
            "flex_flow": null,
            "grid_area": null,
            "grid_auto_columns": null,
            "grid_auto_flow": null,
            "grid_auto_rows": null,
            "grid_column": null,
            "grid_gap": null,
            "grid_row": null,
            "grid_template_areas": null,
            "grid_template_columns": null,
            "grid_template_rows": null,
            "height": null,
            "justify_content": null,
            "justify_items": null,
            "left": null,
            "margin": null,
            "max_height": null,
            "max_width": null,
            "min_height": null,
            "min_width": null,
            "object_fit": null,
            "object_position": null,
            "order": null,
            "overflow": null,
            "overflow_x": null,
            "overflow_y": null,
            "padding": null,
            "right": null,
            "top": null,
            "visibility": null,
            "width": null
          }
        },
        "a7c561f7dae54229b91fa5278568122b": {
          "model_module": "@jupyter-widgets/base",
          "model_module_version": "1.2.0",
          "model_name": "LayoutModel",
          "state": {
            "_model_module": "@jupyter-widgets/base",
            "_model_module_version": "1.2.0",
            "_model_name": "LayoutModel",
            "_view_count": null,
            "_view_module": "@jupyter-widgets/base",
            "_view_module_version": "1.2.0",
            "_view_name": "LayoutView",
            "align_content": null,
            "align_items": null,
            "align_self": null,
            "border": null,
            "bottom": null,
            "display": null,
            "flex": null,
            "flex_flow": null,
            "grid_area": null,
            "grid_auto_columns": null,
            "grid_auto_flow": null,
            "grid_auto_rows": null,
            "grid_column": null,
            "grid_gap": null,
            "grid_row": null,
            "grid_template_areas": null,
            "grid_template_columns": null,
            "grid_template_rows": null,
            "height": null,
            "justify_content": null,
            "justify_items": null,
            "left": null,
            "margin": null,
            "max_height": null,
            "max_width": null,
            "min_height": null,
            "min_width": null,
            "object_fit": null,
            "object_position": null,
            "order": null,
            "overflow": null,
            "overflow_x": null,
            "overflow_y": null,
            "padding": null,
            "right": null,
            "top": null,
            "visibility": null,
            "width": null
          }
        },
        "acebd97bc1cb4a48bb34b059da378218": {
          "model_module": "@jupyter-widgets/base",
          "model_module_version": "1.2.0",
          "model_name": "LayoutModel",
          "state": {
            "_model_module": "@jupyter-widgets/base",
            "_model_module_version": "1.2.0",
            "_model_name": "LayoutModel",
            "_view_count": null,
            "_view_module": "@jupyter-widgets/base",
            "_view_module_version": "1.2.0",
            "_view_name": "LayoutView",
            "align_content": null,
            "align_items": null,
            "align_self": null,
            "border": null,
            "bottom": null,
            "display": null,
            "flex": null,
            "flex_flow": null,
            "grid_area": null,
            "grid_auto_columns": null,
            "grid_auto_flow": null,
            "grid_auto_rows": null,
            "grid_column": null,
            "grid_gap": null,
            "grid_row": null,
            "grid_template_areas": null,
            "grid_template_columns": null,
            "grid_template_rows": null,
            "height": null,
            "justify_content": null,
            "justify_items": null,
            "left": null,
            "margin": null,
            "max_height": null,
            "max_width": null,
            "min_height": null,
            "min_width": null,
            "object_fit": null,
            "object_position": null,
            "order": null,
            "overflow": null,
            "overflow_x": null,
            "overflow_y": null,
            "padding": null,
            "right": null,
            "top": null,
            "visibility": null,
            "width": null
          }
        },
        "cc2a95aca30c468aa6e69aeaf51fa755": {
          "model_module": "@jupyter-widgets/base",
          "model_module_version": "1.2.0",
          "model_name": "LayoutModel",
          "state": {
            "_model_module": "@jupyter-widgets/base",
            "_model_module_version": "1.2.0",
            "_model_name": "LayoutModel",
            "_view_count": null,
            "_view_module": "@jupyter-widgets/base",
            "_view_module_version": "1.2.0",
            "_view_name": "LayoutView",
            "align_content": null,
            "align_items": null,
            "align_self": null,
            "border": null,
            "bottom": null,
            "display": null,
            "flex": null,
            "flex_flow": null,
            "grid_area": null,
            "grid_auto_columns": null,
            "grid_auto_flow": null,
            "grid_auto_rows": null,
            "grid_column": null,
            "grid_gap": null,
            "grid_row": null,
            "grid_template_areas": null,
            "grid_template_columns": null,
            "grid_template_rows": null,
            "height": null,
            "justify_content": null,
            "justify_items": null,
            "left": null,
            "margin": null,
            "max_height": null,
            "max_width": null,
            "min_height": null,
            "min_width": null,
            "object_fit": null,
            "object_position": null,
            "order": null,
            "overflow": null,
            "overflow_x": null,
            "overflow_y": null,
            "padding": null,
            "right": null,
            "top": null,
            "visibility": null,
            "width": null
          }
        },
        "dbd7a91366de478e95b32f1a7b30a70d": {
          "model_module": "@jupyter-widgets/controls",
          "model_module_version": "1.5.0",
          "model_name": "FloatProgressModel",
          "state": {
            "_dom_classes": [],
            "_model_module": "@jupyter-widgets/controls",
            "_model_module_version": "1.5.0",
            "_model_name": "FloatProgressModel",
            "_view_count": null,
            "_view_module": "@jupyter-widgets/controls",
            "_view_module_version": "1.5.0",
            "_view_name": "ProgressView",
            "bar_style": "success",
            "description": "",
            "description_tooltip": null,
            "layout": "IPY_MODEL_6645a524ed40469e852bcf3bcf565830",
            "max": 6937,
            "min": 0,
            "orientation": "horizontal",
            "style": "IPY_MODEL_415281d08f544bb7ac37fa25eeeacbdb",
            "value": 6937
          }
        },
        "dd63d669f8194ad5bf7d3d7020bb78eb": {
          "model_module": "@jupyter-widgets/controls",
          "model_module_version": "1.5.0",
          "model_name": "HBoxModel",
          "state": {
            "_dom_classes": [],
            "_model_module": "@jupyter-widgets/controls",
            "_model_module_version": "1.5.0",
            "_model_name": "HBoxModel",
            "_view_count": null,
            "_view_module": "@jupyter-widgets/controls",
            "_view_module_version": "1.5.0",
            "_view_name": "HBoxView",
            "box_style": "",
            "children": [
              "IPY_MODEL_92633a5cace34b588d77297991287d67",
              "IPY_MODEL_0df9d1de83e3496ebca9e47768e28a6e",
              "IPY_MODEL_46f1618f12b241b9bbab63006ee4bb6a"
            ],
            "layout": "IPY_MODEL_fd24f9433e874e69a5ffbe248cc361b2"
          }
        },
        "e2cf66d52e96408daf6a4df6be63f058": {
          "model_module": "@jupyter-widgets/base",
          "model_module_version": "1.2.0",
          "model_name": "LayoutModel",
          "state": {
            "_model_module": "@jupyter-widgets/base",
            "_model_module_version": "1.2.0",
            "_model_name": "LayoutModel",
            "_view_count": null,
            "_view_module": "@jupyter-widgets/base",
            "_view_module_version": "1.2.0",
            "_view_name": "LayoutView",
            "align_content": null,
            "align_items": null,
            "align_self": null,
            "border": null,
            "bottom": null,
            "display": null,
            "flex": null,
            "flex_flow": null,
            "grid_area": null,
            "grid_auto_columns": null,
            "grid_auto_flow": null,
            "grid_auto_rows": null,
            "grid_column": null,
            "grid_gap": null,
            "grid_row": null,
            "grid_template_areas": null,
            "grid_template_columns": null,
            "grid_template_rows": null,
            "height": null,
            "justify_content": null,
            "justify_items": null,
            "left": null,
            "margin": null,
            "max_height": null,
            "max_width": null,
            "min_height": null,
            "min_width": null,
            "object_fit": null,
            "object_position": null,
            "order": null,
            "overflow": null,
            "overflow_x": null,
            "overflow_y": null,
            "padding": null,
            "right": null,
            "top": null,
            "visibility": null,
            "width": null
          }
        },
        "fd24f9433e874e69a5ffbe248cc361b2": {
          "model_module": "@jupyter-widgets/base",
          "model_module_version": "1.2.0",
          "model_name": "LayoutModel",
          "state": {
            "_model_module": "@jupyter-widgets/base",
            "_model_module_version": "1.2.0",
            "_model_name": "LayoutModel",
            "_view_count": null,
            "_view_module": "@jupyter-widgets/base",
            "_view_module_version": "1.2.0",
            "_view_name": "LayoutView",
            "align_content": null,
            "align_items": null,
            "align_self": null,
            "border": null,
            "bottom": null,
            "display": null,
            "flex": null,
            "flex_flow": null,
            "grid_area": null,
            "grid_auto_columns": null,
            "grid_auto_flow": null,
            "grid_auto_rows": null,
            "grid_column": null,
            "grid_gap": null,
            "grid_row": null,
            "grid_template_areas": null,
            "grid_template_columns": null,
            "grid_template_rows": null,
            "height": null,
            "justify_content": null,
            "justify_items": null,
            "left": null,
            "margin": null,
            "max_height": null,
            "max_width": null,
            "min_height": null,
            "min_width": null,
            "object_fit": null,
            "object_position": null,
            "order": null,
            "overflow": null,
            "overflow_x": null,
            "overflow_y": null,
            "padding": null,
            "right": null,
            "top": null,
            "visibility": null,
            "width": null
          }
        }
      }
    }
  },
  "nbformat": 4,
  "nbformat_minor": 5
}
