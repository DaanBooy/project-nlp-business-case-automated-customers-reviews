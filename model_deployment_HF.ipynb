{
  "cells": [
    {
      "cell_type": "markdown",
      "id": "5f0b94c8",
      "metadata": {
        "id": "5f0b94c8"
      },
      "source": [
        "## File used to upload and configure the huggingface space\n",
        "\n",
        "https://huggingface.co/spaces/DaanBooy/games_and_accessories_reviews"
      ]
    },
    {
      "cell_type": "markdown",
      "id": "MePVOjBghhQo",
      "metadata": {
        "id": "MePVOjBghhQo"
      },
      "source": [
        "# connecting to HF"
      ]
    },
    {
      "cell_type": "code",
      "execution_count": 1,
      "id": "DssWzoznQOlC",
      "metadata": {
        "colab": {
          "base_uri": "https://localhost:8080/",
          "height": 34,
          "referenced_widgets": [
            "974e5cebb8274ef9be09de0cc5e7b301",
            "3856cc17779448129b6e2d221121f006",
            "a0c21a91f6914422b9a5eab650e61130",
            "c24726d80b6b4b78966d12cf12d9814d",
            "3ddf514e0dc24f80b79e4cb14afe175f",
            "8d5657e4d16d43feba157e6eab670530",
            "d2fd0d3285174328a0d73a973fc5e3c4",
            "d6d42f62143445eca3f7435e6fab82ab",
            "b7eaa8cd07234b7cbea5e4d14cc3f3a9",
            "623495f8857148e0ba1053d2a45f129a",
            "23610946cf864b64880625ba9f1b66bd",
            "fc863490c6644d5c9059735c265596b3",
            "a5df87b1f7e8432895a33b89ded1d79b",
            "a04ef9941fdb4d7185e7ef67bbddfc98",
            "9bc6f4fad8114c4a95f46e27cd8478f2",
            "b77e80a3bd3a46f2b8fa002a6ec81c65",
            "b5d2b623c1d4469a8adff055db9ae8fe",
            "32d9185065b745e3ad27e2eda721c91d",
            "c5ad495c2bc74b30b4d05eb22997c9d5",
            "64650f538b984554bb90aafb013b8718"
          ]
        },
        "id": "DssWzoznQOlC",
        "outputId": "2156d1c5-3d9d-4bf4-baa6-e049b3ca0056"
      },
      "outputs": [
        {
          "name": "stdout",
          "output_type": "stream",
          "text": [
            "Target Space: DaanBooy/games_and_accessories_reviews\n"
          ]
        },
        {
          "data": {
            "application/vnd.jupyter.widget-view+json": {
              "model_id": "974e5cebb8274ef9be09de0cc5e7b301",
              "version_major": 2,
              "version_minor": 0
            },
            "text/plain": [
              "VBox(children=(HTML(value='<center> <img\\nsrc=https://huggingface.co/front/assets/huggingface_logo-noborder.sv…"
            ]
          },
          "metadata": {},
          "output_type": "display_data"
        }
      ],
      "source": [
        "!pip -q install huggingface_hub\n",
        "\n",
        "from huggingface_hub import login\n",
        "HF_REPO_ID = \"DaanBooy/games_and_accessories_reviews\"  # your Space\n",
        "\n",
        "print(\"Target Space:\", HF_REPO_ID)\n",
        "login()  # paste your hf_... token with WRITE permission when prompted"
      ]
    },
    {
      "cell_type": "markdown",
      "id": "gyZbQ39Ahkq8",
      "metadata": {
        "id": "gyZbQ39Ahkq8"
      },
      "source": [
        "# using drive to upload files"
      ]
    },
    {
      "cell_type": "code",
      "execution_count": null,
      "id": "Lze_DCWeRkY6",
      "metadata": {
        "colab": {
          "base_uri": "https://localhost:8080/"
        },
        "id": "Lze_DCWeRkY6",
        "outputId": "d5803671-d240-4f91-ca83-04a23e66f5de"
      },
      "outputs": [
        {
          "name": "stdout",
          "output_type": "stream",
          "text": [
            "Mounted at /content/drive\n",
            "RUN_DIR exists: True\n",
            "JSONL exists: True -> /content/drive/MyDrive/Project_NLP/runs/clustering_full_20250828_1924/articles_gpt4omini.jsonl\n"
          ]
        }
      ],
      "source": [
        "from google.colab import drive\n",
        "from pathlib import Path\n",
        "\n",
        "# 0) Mount Drive\n",
        "drive.mount(\"/content/drive\")\n",
        "\n",
        "# 1) Pointing to previous run folder and file\n",
        "RUN_DIR = Path(\"/content/drive/MyDrive/Project_NLP/runs/clustering_full_20250828_1924\")\n",
        "SRC_JSONL = RUN_DIR / \"articles_gpt4omini.jsonl\"\n",
        "\n",
        "print(\"RUN_DIR exists:\", RUN_DIR.exists())\n",
        "print(\"JSONL exists:\", SRC_JSONL.exists(), \"->\", SRC_JSONL)\n"
      ]
    },
    {
      "cell_type": "markdown",
      "id": "BpB8nzIKhqRY",
      "metadata": {
        "id": "BpB8nzIKhqRY"
      },
      "source": [
        "# making requirements file"
      ]
    },
    {
      "cell_type": "code",
      "execution_count": null,
      "id": "0b599deb",
      "metadata": {
        "colab": {
          "base_uri": "https://localhost:8080/"
        },
        "id": "0b599deb",
        "outputId": "19c7b9d7-f72b-4cc8-ac0c-ed6f1a9c1d6c"
      },
      "outputs": [
        {
          "name": "stdout",
          "output_type": "stream",
          "text": [
            "Staged: /content/games_and_accessories_reviews_space/data/articles_gpt4omini.jsonl\n",
            "Wrote: /content/games_and_accessories_reviews_space/requirements.txt\n",
            "Space staging folder ready at: /content/games_and_accessories_reviews_space\n"
          ]
        }
      ],
      "source": [
        "from pathlib import Path\n",
        "import shutil\n",
        "\n",
        "# Local folder to mimic Hugging Face Space\n",
        "ROOT = Path(\"/content/games_and_accessories_reviews_space\")\n",
        "DATA = ROOT / \"data\"\n",
        "ROOT.mkdir(parents=True, exist_ok=True)\n",
        "DATA.mkdir(parents=True, exist_ok=True)\n",
        "\n",
        "# Copy GPT-4o-mini articles into the Space folder\n",
        "DEST = DATA / \"articles_gpt4omini.jsonl\"\n",
        "shutil.copy2(SRC_JSONL, DEST)\n",
        "print(\"Staged:\", DEST)\n",
        "\n",
        "# Write minimal requirements.txt\n",
        "(Path(ROOT / \"requirements.txt\")\n",
        " .write_text(\"\\n\".join([\n",
        "     \"gradio>=4.38.0\",\n",
        "     \"pandas>=2.0.0\",\n",
        "     \"markdown2>=2.4.0\"\n",
        " ]) + \"\\n\", encoding=\"utf-8\"))\n",
        "\n",
        "print(\"Wrote:\", ROOT / \"requirements.txt\")\n",
        "print(\"Space staging folder ready at:\", ROOT)\n"
      ]
    },
    {
      "cell_type": "code",
      "execution_count": 6,
      "id": "rVEFSx0NTjHl",
      "metadata": {
        "colab": {
          "base_uri": "https://localhost:8080/"
        },
        "id": "rVEFSx0NTjHl",
        "outputId": "e89f4b9c-07aa-4969-cdd5-372ff6bb1142"
      },
      "outputs": [
        {
          "name": "stdout",
          "output_type": "stream",
          "text": [
            "gradio>=4.38.0\n",
            "pandas>=2.0.0\n",
            "markdown2>=2.4.0\n",
            "transformers>=4.42.0\n",
            "torch>=2.1.0\n",
            "numpy>=1.24.0\n",
            "\n"
          ]
        }
      ],
      "source": [
        "from pathlib import Path\n",
        "\n",
        "ROOT = Path(\"/content/games_and_accessories_reviews_space\")\n",
        "req = \"\\n\".join([\n",
        "    \"gradio>=4.38.0\",\n",
        "    \"pandas>=2.0.0\",\n",
        "    \"markdown2>=2.4.0\",\n",
        "    \"transformers>=4.42.0\",\n",
        "    \"torch>=2.1.0\",           # CPU is fine on Spaces\n",
        "    \"numpy>=1.24.0\",\n",
        "]) + \"\\n\"\n",
        "\n",
        "(Path(ROOT / \"requirements.txt\")).write_text(req, encoding=\"utf-8\")\n",
        "print((ROOT / \"requirements.txt\").read_text())\n"
      ]
    },
    {
      "cell_type": "markdown",
      "id": "7e65a5c1",
      "metadata": {},
      "source": [
        "## Making the app.py file\n",
        "This will configure what will be shown and used on the HF space"
      ]
    },
    {
      "cell_type": "code",
      "execution_count": 20,
      "id": "1vYsrE-8ndoO",
      "metadata": {
        "colab": {
          "base_uri": "https://localhost:8080/"
        },
        "id": "1vYsrE-8ndoO",
        "outputId": "5161fd6d-a9d2-4a4b-8172-5d20cd8b8abe"
      },
      "outputs": [
        {
          "name": "stdout",
          "output_type": "stream",
          "text": [
            "Updated app.py with emojis in tab names only\n"
          ]
        }
      ],
      "source": [
        "from pathlib import Path\n",
        "\n",
        "APP = Path(\"/content/games_and_accessories_reviews_space/app.py\")\n",
        "\n",
        "updated = r'''\n",
        "import json\n",
        "from pathlib import Path\n",
        "from typing import Dict, List, Any\n",
        "import pandas as pd\n",
        "import gradio as gr\n",
        "import torch\n",
        "import numpy as np\n",
        "from transformers import AutoTokenizer, AutoModelForSequenceClassification\n",
        "\n",
        "# ---------- Data ----------\n",
        "DATA_DIR = Path(__file__).parent / \"data\"\n",
        "\n",
        "def load_jsonl(p: Path):\n",
        "    rows = []\n",
        "    with p.open(\"r\", encoding=\"utf-8\") as f:\n",
        "        for line in f:\n",
        "            rows.append(json.loads(line))\n",
        "    return rows\n",
        "\n",
        "# Find all article dumps (e.g., articles_gpt4omini.jsonl)\n",
        "MODEL_ROWS: Dict[str, List[Dict[str, Any]]] = {}\n",
        "for p in DATA_DIR.glob(\"articles_*.jsonl\"):\n",
        "    MODEL_ROWS[p.stem.replace(\"articles_\", \"\")] = load_jsonl(p)\n",
        "\n",
        "if not MODEL_ROWS:\n",
        "    raise RuntimeError(\"No JSONL files found in ./data (e.g., data/articles_gpt4omini.jsonl).\")\n",
        "\n",
        "# Build indices {model -> {cluster_name -> record}}, and cluster list\n",
        "INDEX: Dict[str, Dict[str, Dict[str, Any]]] = {}\n",
        "CLUSTERS: List[str] = []\n",
        "for mname, rows in MODEL_ROWS.items():\n",
        "    by_cluster = {}\n",
        "    for r in rows:\n",
        "        cname = r.get(\"cluster_name\") or f\"Cluster {r.get('cluster')}\"\n",
        "        by_cluster[cname] = r\n",
        "        if cname not in CLUSTERS:\n",
        "            CLUSTERS.append(cname)\n",
        "    INDEX[mname] = by_cluster\n",
        "\n",
        "CLUSTERS = sorted(CLUSTERS)\n",
        "MODEL_CHOICES = sorted(MODEL_ROWS.keys(), key=str.lower)\n",
        "\n",
        "# ---------- Tab 1: Summaries ----------\n",
        "def get_article(model_key: str, cluster_name: str) -> str:\n",
        "    rec = INDEX.get(model_key, {}).get(cluster_name)\n",
        "    if not rec:\n",
        "        return f\"### No article for **{cluster_name}** under model `{model_key}`.\"\n",
        "    return rec.get(\"article\", \"\").strip()\n",
        "\n",
        "# ---------- Tab 2: Classification demo ----------\n",
        "_CLS_NAME = \"cardiffnlp/twitter-roberta-base-sentiment\"\n",
        "_cls_tokenizer = AutoTokenizer.from_pretrained(_CLS_NAME)\n",
        "_cls_model = AutoModelForSequenceClassification.from_pretrained(_CLS_NAME)\n",
        "_cls_model.eval()\n",
        "\n",
        "CLS_LABELS = [\"negative\", \"neutral\", \"positive\"]\n",
        "EMOJIS = {\"Negative\": \"🙁\", \"Neutral\": \"😐\", \"Positive\": \"🙂\"}\n",
        "\n",
        "@torch.inference_mode()\n",
        "def classify_pretty(text: str) -> str:\n",
        "    if not text or not text.strip():\n",
        "        return \"Enter a review above and press **Classify**.\"\n",
        "    inputs = _cls_tokenizer(text, return_tensors=\"pt\", truncation=True)\n",
        "    logits = _cls_model(**inputs).logits\n",
        "    probs = torch.softmax(logits, dim=-1).cpu().numpy()[0]\n",
        "    top = int(np.argmax(probs))\n",
        "    label = CLS_LABELS[top].capitalize()\n",
        "    pct = int(round(float(probs[top]) * 100))\n",
        "    emoji = EMOJIS.get(label, \"\")\n",
        "    return f\"That review sounds **{label}** to me. I’m **{pct}%** sure. {emoji}\"\n",
        "\n",
        "# ---------- Tab 3: Clustering overview ----------\n",
        "def cluster_overview() -> pd.DataFrame:\n",
        "    rows = []\n",
        "    example_model = next(iter(MODEL_ROWS.keys()))\n",
        "    for r in MODEL_ROWS[example_model]:\n",
        "        cname = r.get(\"cluster_name\") or f\"Cluster {r.get('cluster')}\"\n",
        "        rows.append({\n",
        "            \"cluster\": r.get(\"cluster\"),\n",
        "            \"cluster_name\": cname,\n",
        "        })\n",
        "    df = pd.DataFrame(rows).sort_values(by=\"cluster\").reset_index(drop=True)\n",
        "    return df\n",
        "\n",
        "# ---------- UI ----------\n",
        "with gr.Blocks(title=\"🎮 Games & Accessories — NLP Review Explorer\") as demo:\n",
        "    gr.Markdown(\"# 🎮 Games & Accessories — NLP Review Explorer\")\n",
        "\n",
        "    with gr.Tabs():\n",
        "        with gr.TabItem(\"📄 Summaries\"):\n",
        "            gr.Markdown(\"Browse cluster-level recommendation articles.\")\n",
        "            with gr.Row():\n",
        "                dd_model = gr.Dropdown(MODEL_CHOICES, value=MODEL_CHOICES[0], label=\"Model\")\n",
        "                dd_cluster = gr.Dropdown(CLUSTERS, value=CLUSTERS[0], label=\"Cluster\")\n",
        "            md_article = gr.Markdown()\n",
        "\n",
        "            def _load_article(m, c):\n",
        "                return get_article(m, c)\n",
        "\n",
        "            dd_model.change(_load_article, [dd_model, dd_cluster], md_article)\n",
        "            dd_cluster.change(_load_article, [dd_model, dd_cluster], md_article)\n",
        "\n",
        "            md_article.value = get_article(MODEL_CHOICES[0], CLUSTERS[0])\n",
        "\n",
        "        with gr.TabItem(\"😀 Classification\"):\n",
        "            gr.Markdown(\"Type a review to see **Negative / Neutral / Positive**.\")\n",
        "            tb_text = gr.Textbox(label=\"Enter a single review\", lines=5, placeholder=\"e.g., The controller feels solid but the battery dies quickly.\")\n",
        "            btn = gr.Button(\"Classify\")\n",
        "            out_md = gr.Markdown()\n",
        "\n",
        "            def _classify_pretty(t):\n",
        "                return classify_pretty(t)\n",
        "\n",
        "            btn.click(_classify_pretty, tb_text, out_md)\n",
        "            tb_text.submit(_classify_pretty, tb_text, out_md)\n",
        "\n",
        "        with gr.TabItem(\"📊 Clustering\"):\n",
        "            gr.Markdown(\"Overview of discovered clusters.\")\n",
        "            df_clusters = gr.Dataframe(value=cluster_overview(), interactive=False, wrap=True, label=\"Clusters\")\n",
        "\n",
        "if __name__ == \"__main__\":\n",
        "    demo.launch()\n",
        "'''\n",
        "\n",
        "APP.write_text(updated, encoding=\"utf-8\")\n",
        "print(\"Updated app.py with emojis in tab names only\")\n"
      ]
    },
    {
      "cell_type": "markdown",
      "id": "30ca1c4a",
      "metadata": {},
      "source": [
        "# Pushing changes to HF space"
      ]
    },
    {
      "cell_type": "code",
      "execution_count": null,
      "id": "sajcBsm5UI_u",
      "metadata": {
        "colab": {
          "base_uri": "https://localhost:8080/"
        },
        "id": "sajcBsm5UI_u",
        "outputId": "d75bdf86-1e89-4d28-8436-4ee71ab58921"
      },
      "outputs": [
        {
          "name": "stdout",
          "output_type": "stream",
          "text": [
            "Uploaded. Check your Space and refresh.\n"
          ]
        }
      ],
      "source": [
        "from huggingface_hub import HfApi\n",
        "from pathlib import Path\n",
        "\n",
        "HF_REPO_ID = \"DaanBooy/games_and_accessories_reviews\" \n",
        "LOCAL_FOLDER = Path(\"/content/games_and_accessories_reviews_space\")\n",
        "\n",
        "api = HfApi()\n",
        "api.upload_folder(\n",
        "    repo_id=HF_REPO_ID,\n",
        "    repo_type=\"space\",\n",
        "    folder_path=str(LOCAL_FOLDER),\n",
        "    commit_message=\"updated tab names\"\n",
        ")\n",
        "\n",
        "print(\"Uploaded. Check your Space and refresh.\")\n"
      ]
    }
  ],
  "metadata": {
    "colab": {
      "provenance": []
    },
    "kernelspec": {
      "display_name": "base",
      "language": "python",
      "name": "python3"
    },
    "language_info": {
      "name": "python",
      "version": "3.13.5"
    },
    "widgets": {
      "application/vnd.jupyter.widget-state+json": {
        "23610946cf864b64880625ba9f1b66bd": {
          "model_module": "@jupyter-widgets/controls",
          "model_module_version": "1.5.0",
          "model_name": "DescriptionStyleModel",
          "state": {
            "_model_module": "@jupyter-widgets/controls",
            "_model_module_version": "1.5.0",
            "_model_name": "DescriptionStyleModel",
            "_view_count": null,
            "_view_module": "@jupyter-widgets/base",
            "_view_module_version": "1.2.0",
            "_view_name": "StyleView",
            "description_width": ""
          }
        },
        "32d9185065b745e3ad27e2eda721c91d": {
          "model_module": "@jupyter-widgets/controls",
          "model_module_version": "1.5.0",
          "model_name": "LabelModel",
          "state": {
            "_dom_classes": [],
            "_model_module": "@jupyter-widgets/controls",
            "_model_module_version": "1.5.0",
            "_model_name": "LabelModel",
            "_view_count": null,
            "_view_module": "@jupyter-widgets/controls",
            "_view_module_version": "1.5.0",
            "_view_name": "LabelView",
            "description": "",
            "description_tooltip": null,
            "layout": "IPY_MODEL_c5ad495c2bc74b30b4d05eb22997c9d5",
            "placeholder": "​",
            "style": "IPY_MODEL_64650f538b984554bb90aafb013b8718",
            "value": "Connecting..."
          }
        },
        "3856cc17779448129b6e2d221121f006": {
          "model_module": "@jupyter-widgets/controls",
          "model_module_version": "1.5.0",
          "model_name": "HTMLModel",
          "state": {
            "_dom_classes": [],
            "_model_module": "@jupyter-widgets/controls",
            "_model_module_version": "1.5.0",
            "_model_name": "HTMLModel",
            "_view_count": null,
            "_view_module": "@jupyter-widgets/controls",
            "_view_module_version": "1.5.0",
            "_view_name": "HTMLView",
            "description": "",
            "description_tooltip": null,
            "layout": "IPY_MODEL_d6d42f62143445eca3f7435e6fab82ab",
            "placeholder": "​",
            "style": "IPY_MODEL_b7eaa8cd07234b7cbea5e4d14cc3f3a9",
            "value": "<center> <img\nsrc=https://huggingface.co/front/assets/huggingface_logo-noborder.svg\nalt='Hugging Face'> <br> Copy a token from <a\nhref=\"https://huggingface.co/settings/tokens\" target=\"_blank\">your Hugging Face\ntokens page</a> and paste it below. <br> Immediately click login after copying\nyour token or it might be stored in plain text in this notebook file. </center>"
          }
        },
        "3ddf514e0dc24f80b79e4cb14afe175f": {
          "model_module": "@jupyter-widgets/controls",
          "model_module_version": "1.5.0",
          "model_name": "ButtonModel",
          "state": {
            "_dom_classes": [],
            "_model_module": "@jupyter-widgets/controls",
            "_model_module_version": "1.5.0",
            "_model_name": "ButtonModel",
            "_view_count": null,
            "_view_module": "@jupyter-widgets/controls",
            "_view_module_version": "1.5.0",
            "_view_name": "ButtonView",
            "button_style": "",
            "description": "Login",
            "disabled": false,
            "icon": "",
            "layout": "IPY_MODEL_a04ef9941fdb4d7185e7ef67bbddfc98",
            "style": "IPY_MODEL_9bc6f4fad8114c4a95f46e27cd8478f2",
            "tooltip": ""
          }
        },
        "623495f8857148e0ba1053d2a45f129a": {
          "model_module": "@jupyter-widgets/base",
          "model_module_version": "1.2.0",
          "model_name": "LayoutModel",
          "state": {
            "_model_module": "@jupyter-widgets/base",
            "_model_module_version": "1.2.0",
            "_model_name": "LayoutModel",
            "_view_count": null,
            "_view_module": "@jupyter-widgets/base",
            "_view_module_version": "1.2.0",
            "_view_name": "LayoutView",
            "align_content": null,
            "align_items": null,
            "align_self": null,
            "border": null,
            "bottom": null,
            "display": null,
            "flex": null,
            "flex_flow": null,
            "grid_area": null,
            "grid_auto_columns": null,
            "grid_auto_flow": null,
            "grid_auto_rows": null,
            "grid_column": null,
            "grid_gap": null,
            "grid_row": null,
            "grid_template_areas": null,
            "grid_template_columns": null,
            "grid_template_rows": null,
            "height": null,
            "justify_content": null,
            "justify_items": null,
            "left": null,
            "margin": null,
            "max_height": null,
            "max_width": null,
            "min_height": null,
            "min_width": null,
            "object_fit": null,
            "object_position": null,
            "order": null,
            "overflow": null,
            "overflow_x": null,
            "overflow_y": null,
            "padding": null,
            "right": null,
            "top": null,
            "visibility": null,
            "width": null
          }
        },
        "64650f538b984554bb90aafb013b8718": {
          "model_module": "@jupyter-widgets/controls",
          "model_module_version": "1.5.0",
          "model_name": "DescriptionStyleModel",
          "state": {
            "_model_module": "@jupyter-widgets/controls",
            "_model_module_version": "1.5.0",
            "_model_name": "DescriptionStyleModel",
            "_view_count": null,
            "_view_module": "@jupyter-widgets/base",
            "_view_module_version": "1.2.0",
            "_view_name": "StyleView",
            "description_width": ""
          }
        },
        "8d5657e4d16d43feba157e6eab670530": {
          "model_module": "@jupyter-widgets/controls",
          "model_module_version": "1.5.0",
          "model_name": "HTMLModel",
          "state": {
            "_dom_classes": [],
            "_model_module": "@jupyter-widgets/controls",
            "_model_module_version": "1.5.0",
            "_model_name": "HTMLModel",
            "_view_count": null,
            "_view_module": "@jupyter-widgets/controls",
            "_view_module_version": "1.5.0",
            "_view_name": "HTMLView",
            "description": "",
            "description_tooltip": null,
            "layout": "IPY_MODEL_b77e80a3bd3a46f2b8fa002a6ec81c65",
            "placeholder": "​",
            "style": "IPY_MODEL_b5d2b623c1d4469a8adff055db9ae8fe",
            "value": "\n<b>Pro Tip:</b> If you don't already have one, you can create a dedicated\n'notebooks' token with 'write' access, that you can then easily reuse for all\nnotebooks. </center>"
          }
        },
        "974e5cebb8274ef9be09de0cc5e7b301": {
          "model_module": "@jupyter-widgets/controls",
          "model_module_version": "1.5.0",
          "model_name": "VBoxModel",
          "state": {
            "_dom_classes": [],
            "_model_module": "@jupyter-widgets/controls",
            "_model_module_version": "1.5.0",
            "_model_name": "VBoxModel",
            "_view_count": null,
            "_view_module": "@jupyter-widgets/controls",
            "_view_module_version": "1.5.0",
            "_view_name": "VBoxView",
            "box_style": "",
            "children": [],
            "layout": "IPY_MODEL_d2fd0d3285174328a0d73a973fc5e3c4"
          }
        },
        "9bc6f4fad8114c4a95f46e27cd8478f2": {
          "model_module": "@jupyter-widgets/controls",
          "model_module_version": "1.5.0",
          "model_name": "ButtonStyleModel",
          "state": {
            "_model_module": "@jupyter-widgets/controls",
            "_model_module_version": "1.5.0",
            "_model_name": "ButtonStyleModel",
            "_view_count": null,
            "_view_module": "@jupyter-widgets/base",
            "_view_module_version": "1.2.0",
            "_view_name": "StyleView",
            "button_color": null,
            "font_weight": ""
          }
        },
        "a04ef9941fdb4d7185e7ef67bbddfc98": {
          "model_module": "@jupyter-widgets/base",
          "model_module_version": "1.2.0",
          "model_name": "LayoutModel",
          "state": {
            "_model_module": "@jupyter-widgets/base",
            "_model_module_version": "1.2.0",
            "_model_name": "LayoutModel",
            "_view_count": null,
            "_view_module": "@jupyter-widgets/base",
            "_view_module_version": "1.2.0",
            "_view_name": "LayoutView",
            "align_content": null,
            "align_items": null,
            "align_self": null,
            "border": null,
            "bottom": null,
            "display": null,
            "flex": null,
            "flex_flow": null,
            "grid_area": null,
            "grid_auto_columns": null,
            "grid_auto_flow": null,
            "grid_auto_rows": null,
            "grid_column": null,
            "grid_gap": null,
            "grid_row": null,
            "grid_template_areas": null,
            "grid_template_columns": null,
            "grid_template_rows": null,
            "height": null,
            "justify_content": null,
            "justify_items": null,
            "left": null,
            "margin": null,
            "max_height": null,
            "max_width": null,
            "min_height": null,
            "min_width": null,
            "object_fit": null,
            "object_position": null,
            "order": null,
            "overflow": null,
            "overflow_x": null,
            "overflow_y": null,
            "padding": null,
            "right": null,
            "top": null,
            "visibility": null,
            "width": null
          }
        },
        "a0c21a91f6914422b9a5eab650e61130": {
          "model_module": "@jupyter-widgets/controls",
          "model_module_version": "1.5.0",
          "model_name": "PasswordModel",
          "state": {
            "_dom_classes": [],
            "_model_module": "@jupyter-widgets/controls",
            "_model_module_version": "1.5.0",
            "_model_name": "PasswordModel",
            "_view_count": null,
            "_view_module": "@jupyter-widgets/controls",
            "_view_module_version": "1.5.0",
            "_view_name": "PasswordView",
            "continuous_update": true,
            "description": "Token:",
            "description_tooltip": null,
            "disabled": false,
            "layout": "IPY_MODEL_623495f8857148e0ba1053d2a45f129a",
            "placeholder": "​",
            "style": "IPY_MODEL_23610946cf864b64880625ba9f1b66bd",
            "value": ""
          }
        },
        "a5df87b1f7e8432895a33b89ded1d79b": {
          "model_module": "@jupyter-widgets/controls",
          "model_module_version": "1.5.0",
          "model_name": "DescriptionStyleModel",
          "state": {
            "_model_module": "@jupyter-widgets/controls",
            "_model_module_version": "1.5.0",
            "_model_name": "DescriptionStyleModel",
            "_view_count": null,
            "_view_module": "@jupyter-widgets/base",
            "_view_module_version": "1.2.0",
            "_view_name": "StyleView",
            "description_width": ""
          }
        },
        "b5d2b623c1d4469a8adff055db9ae8fe": {
          "model_module": "@jupyter-widgets/controls",
          "model_module_version": "1.5.0",
          "model_name": "DescriptionStyleModel",
          "state": {
            "_model_module": "@jupyter-widgets/controls",
            "_model_module_version": "1.5.0",
            "_model_name": "DescriptionStyleModel",
            "_view_count": null,
            "_view_module": "@jupyter-widgets/base",
            "_view_module_version": "1.2.0",
            "_view_name": "StyleView",
            "description_width": ""
          }
        },
        "b77e80a3bd3a46f2b8fa002a6ec81c65": {
          "model_module": "@jupyter-widgets/base",
          "model_module_version": "1.2.0",
          "model_name": "LayoutModel",
          "state": {
            "_model_module": "@jupyter-widgets/base",
            "_model_module_version": "1.2.0",
            "_model_name": "LayoutModel",
            "_view_count": null,
            "_view_module": "@jupyter-widgets/base",
            "_view_module_version": "1.2.0",
            "_view_name": "LayoutView",
            "align_content": null,
            "align_items": null,
            "align_self": null,
            "border": null,
            "bottom": null,
            "display": null,
            "flex": null,
            "flex_flow": null,
            "grid_area": null,
            "grid_auto_columns": null,
            "grid_auto_flow": null,
            "grid_auto_rows": null,
            "grid_column": null,
            "grid_gap": null,
            "grid_row": null,
            "grid_template_areas": null,
            "grid_template_columns": null,
            "grid_template_rows": null,
            "height": null,
            "justify_content": null,
            "justify_items": null,
            "left": null,
            "margin": null,
            "max_height": null,
            "max_width": null,
            "min_height": null,
            "min_width": null,
            "object_fit": null,
            "object_position": null,
            "order": null,
            "overflow": null,
            "overflow_x": null,
            "overflow_y": null,
            "padding": null,
            "right": null,
            "top": null,
            "visibility": null,
            "width": null
          }
        },
        "b7eaa8cd07234b7cbea5e4d14cc3f3a9": {
          "model_module": "@jupyter-widgets/controls",
          "model_module_version": "1.5.0",
          "model_name": "DescriptionStyleModel",
          "state": {
            "_model_module": "@jupyter-widgets/controls",
            "_model_module_version": "1.5.0",
            "_model_name": "DescriptionStyleModel",
            "_view_count": null,
            "_view_module": "@jupyter-widgets/base",
            "_view_module_version": "1.2.0",
            "_view_name": "StyleView",
            "description_width": ""
          }
        },
        "c24726d80b6b4b78966d12cf12d9814d": {
          "model_module": "@jupyter-widgets/controls",
          "model_module_version": "1.5.0",
          "model_name": "CheckboxModel",
          "state": {
            "_dom_classes": [],
            "_model_module": "@jupyter-widgets/controls",
            "_model_module_version": "1.5.0",
            "_model_name": "CheckboxModel",
            "_view_count": null,
            "_view_module": "@jupyter-widgets/controls",
            "_view_module_version": "1.5.0",
            "_view_name": "CheckboxView",
            "description": "Add token as git credential?",
            "description_tooltip": null,
            "disabled": false,
            "indent": true,
            "layout": "IPY_MODEL_fc863490c6644d5c9059735c265596b3",
            "style": "IPY_MODEL_a5df87b1f7e8432895a33b89ded1d79b",
            "value": true
          }
        },
        "c5ad495c2bc74b30b4d05eb22997c9d5": {
          "model_module": "@jupyter-widgets/base",
          "model_module_version": "1.2.0",
          "model_name": "LayoutModel",
          "state": {
            "_model_module": "@jupyter-widgets/base",
            "_model_module_version": "1.2.0",
            "_model_name": "LayoutModel",
            "_view_count": null,
            "_view_module": "@jupyter-widgets/base",
            "_view_module_version": "1.2.0",
            "_view_name": "LayoutView",
            "align_content": null,
            "align_items": null,
            "align_self": null,
            "border": null,
            "bottom": null,
            "display": null,
            "flex": null,
            "flex_flow": null,
            "grid_area": null,
            "grid_auto_columns": null,
            "grid_auto_flow": null,
            "grid_auto_rows": null,
            "grid_column": null,
            "grid_gap": null,
            "grid_row": null,
            "grid_template_areas": null,
            "grid_template_columns": null,
            "grid_template_rows": null,
            "height": null,
            "justify_content": null,
            "justify_items": null,
            "left": null,
            "margin": null,
            "max_height": null,
            "max_width": null,
            "min_height": null,
            "min_width": null,
            "object_fit": null,
            "object_position": null,
            "order": null,
            "overflow": null,
            "overflow_x": null,
            "overflow_y": null,
            "padding": null,
            "right": null,
            "top": null,
            "visibility": null,
            "width": null
          }
        },
        "d2fd0d3285174328a0d73a973fc5e3c4": {
          "model_module": "@jupyter-widgets/base",
          "model_module_version": "1.2.0",
          "model_name": "LayoutModel",
          "state": {
            "_model_module": "@jupyter-widgets/base",
            "_model_module_version": "1.2.0",
            "_model_name": "LayoutModel",
            "_view_count": null,
            "_view_module": "@jupyter-widgets/base",
            "_view_module_version": "1.2.0",
            "_view_name": "LayoutView",
            "align_content": null,
            "align_items": "center",
            "align_self": null,
            "border": null,
            "bottom": null,
            "display": "flex",
            "flex": null,
            "flex_flow": "column",
            "grid_area": null,
            "grid_auto_columns": null,
            "grid_auto_flow": null,
            "grid_auto_rows": null,
            "grid_column": null,
            "grid_gap": null,
            "grid_row": null,
            "grid_template_areas": null,
            "grid_template_columns": null,
            "grid_template_rows": null,
            "height": null,
            "justify_content": null,
            "justify_items": null,
            "left": null,
            "margin": null,
            "max_height": null,
            "max_width": null,
            "min_height": null,
            "min_width": null,
            "object_fit": null,
            "object_position": null,
            "order": null,
            "overflow": null,
            "overflow_x": null,
            "overflow_y": null,
            "padding": null,
            "right": null,
            "top": null,
            "visibility": null,
            "width": "50%"
          }
        },
        "d6d42f62143445eca3f7435e6fab82ab": {
          "model_module": "@jupyter-widgets/base",
          "model_module_version": "1.2.0",
          "model_name": "LayoutModel",
          "state": {
            "_model_module": "@jupyter-widgets/base",
            "_model_module_version": "1.2.0",
            "_model_name": "LayoutModel",
            "_view_count": null,
            "_view_module": "@jupyter-widgets/base",
            "_view_module_version": "1.2.0",
            "_view_name": "LayoutView",
            "align_content": null,
            "align_items": null,
            "align_self": null,
            "border": null,
            "bottom": null,
            "display": null,
            "flex": null,
            "flex_flow": null,
            "grid_area": null,
            "grid_auto_columns": null,
            "grid_auto_flow": null,
            "grid_auto_rows": null,
            "grid_column": null,
            "grid_gap": null,
            "grid_row": null,
            "grid_template_areas": null,
            "grid_template_columns": null,
            "grid_template_rows": null,
            "height": null,
            "justify_content": null,
            "justify_items": null,
            "left": null,
            "margin": null,
            "max_height": null,
            "max_width": null,
            "min_height": null,
            "min_width": null,
            "object_fit": null,
            "object_position": null,
            "order": null,
            "overflow": null,
            "overflow_x": null,
            "overflow_y": null,
            "padding": null,
            "right": null,
            "top": null,
            "visibility": null,
            "width": null
          }
        },
        "fc863490c6644d5c9059735c265596b3": {
          "model_module": "@jupyter-widgets/base",
          "model_module_version": "1.2.0",
          "model_name": "LayoutModel",
          "state": {
            "_model_module": "@jupyter-widgets/base",
            "_model_module_version": "1.2.0",
            "_model_name": "LayoutModel",
            "_view_count": null,
            "_view_module": "@jupyter-widgets/base",
            "_view_module_version": "1.2.0",
            "_view_name": "LayoutView",
            "align_content": null,
            "align_items": null,
            "align_self": null,
            "border": null,
            "bottom": null,
            "display": null,
            "flex": null,
            "flex_flow": null,
            "grid_area": null,
            "grid_auto_columns": null,
            "grid_auto_flow": null,
            "grid_auto_rows": null,
            "grid_column": null,
            "grid_gap": null,
            "grid_row": null,
            "grid_template_areas": null,
            "grid_template_columns": null,
            "grid_template_rows": null,
            "height": null,
            "justify_content": null,
            "justify_items": null,
            "left": null,
            "margin": null,
            "max_height": null,
            "max_width": null,
            "min_height": null,
            "min_width": null,
            "object_fit": null,
            "object_position": null,
            "order": null,
            "overflow": null,
            "overflow_x": null,
            "overflow_y": null,
            "padding": null,
            "right": null,
            "top": null,
            "visibility": null,
            "width": null
          }
        }
      }
    }
  },
  "nbformat": 4,
  "nbformat_minor": 5
}
