{
  "cells": [
    {
      "cell_type": "markdown",
      "id": "8c4a84f5",
      "metadata": {
        "id": "8c4a84f5"
      },
      "source": [
        "## Project NLP | Business Case: Automated Customer Reviews\n",
        "Review classification file. Using bert base uncased (bbu)"
      ]
    },
    {
      "cell_type": "markdown",
      "id": "_JEqnxOc0gfp",
      "metadata": {
        "id": "_JEqnxOc0gfp"
      },
      "source": [
        "## Downloads"
      ]
    },
    {
      "cell_type": "code",
      "execution_count": 1,
      "id": "XYAzBp9f0ZD7",
      "metadata": {
        "colab": {
          "base_uri": "https://localhost:8080/"
        },
        "id": "XYAzBp9f0ZD7",
        "outputId": "3e86bced-4171-48bd-85e0-90b84ea37851"
      },
      "outputs": [
        {
          "name": "stdout",
          "output_type": "stream",
          "text": [
            "transformers: 4.55.4 | torch: 2.8.0+cu126\n"
          ]
        }
      ],
      "source": [
        "# The following downloads are needed to run this notebook\n",
        "# !pip -q install transformers datasets\n",
        "!pip -q install -U \"transformers>=4.30\" \"accelerate>=0.21\" datasets\n",
        "import transformers, torch\n",
        "print(\"transformers:\", transformers.__version__, \"| torch:\", torch.__version__)"
      ]
    },
    {
      "cell_type": "markdown",
      "id": "-Bl7BE4n0kQ4",
      "metadata": {
        "id": "-Bl7BE4n0kQ4"
      },
      "source": [
        "## Libraries"
      ]
    },
    {
      "cell_type": "code",
      "execution_count": null,
      "id": "Hq1_fwl00ZbF",
      "metadata": {
        "colab": {
          "base_uri": "https://localhost:8080/"
        },
        "id": "Hq1_fwl00ZbF",
        "outputId": "b791e39d-fa21-40da-91ac-c1f913351247"
      },
      "outputs": [
        {
          "name": "stdout",
          "output_type": "stream",
          "text": [
            "transformers: 4.55.4\n",
            "`evaluation_strategy` in TrainingArguments?  False\n"
          ]
        }
      ],
      "source": [
        "# The following imports should be done to run this notebook\n",
        "import os, json, importlib\n",
        "import pandas as pd\n",
        "import numpy as np\n",
        "import torch\n",
        "\n",
        "from datetime import datetime\n",
        "from sklearn.metrics import classification_report\n",
        "from sklearn.model_selection import train_test_split\n",
        "from sklearn.metrics import (\n",
        "    accuracy_score,\n",
        "    precision_recall_fscore_support,\n",
        "    confusion_matrix,\n",
        ")\n",
        "\n",
        "import transformers\n",
        "import transformers.training_args as ta\n",
        "importlib.reload(transformers)\n",
        "importlib.reload(ta)\n",
        "\n",
        "from transformers.training_args import TrainingArguments\n",
        "from transformers import (\n",
        "    AutoTokenizer,\n",
        "    AutoModelForSequenceClassification,\n",
        "    Trainer,\n",
        "    DataCollatorWithPadding,\n",
        "    EarlyStoppingCallback,   \n",
        ")\n",
        "from datasets import Dataset\n",
        "\n",
        "os.environ[\"TOKENIZERS_PARALLELISM\"] = \"false\"\n",
        "\n",
        "print(\"transformers:\", transformers.__version__)\n",
        "print(\"`evaluation_strategy` in TrainingArguments? \",\n",
        "      \"evaluation_strategy\" in TrainingArguments.__init__.__code__.co_varnames)\n"
      ]
    },
    {
      "cell_type": "markdown",
      "id": "DKAKLn6i0ps6",
      "metadata": {
        "id": "DKAKLn6i0ps6"
      },
      "source": [
        "## Loading preprocessed data"
      ]
    },
    {
      "cell_type": "code",
      "execution_count": 3,
      "id": "ODk4Zt_I0aDG",
      "metadata": {
        "colab": {
          "base_uri": "https://localhost:8080/"
        },
        "id": "ODk4Zt_I0aDG",
        "outputId": "236e91b5-0485-433b-de02-07f976b7f606"
      },
      "outputs": [
        {
          "name": "stdout",
          "output_type": "stream",
          "text": [
            "Drive already mounted at /content/drive; to attempt to forcibly remount, call drive.mount(\"/content/drive\", force_remount=True).\n",
            " - sample:  46246 rows\n",
            " - config keys: ['text_col', 'label_col', 'label2id', 'max_length', 'class_counts', 'class_weights']\n"
          ]
        }
      ],
      "source": [
        "# Mounting Google Drive\n",
        "from google.colab import drive\n",
        "drive.mount('/content/drive')\n",
        "\n",
        "# Paths\n",
        "BASE = \"/content/drive/MyDrive/Project_NLP\"\n",
        "PATH_FULL   = os.path.join(BASE, \"video_games_preprocessed.parquet\")\n",
        "PATH_SAMPLE = os.path.join(BASE, \"video_games_preprocessed_sample1pct.parquet\")\n",
        "PATH_CFG    = os.path.join(BASE, \"preprocess_config.json\")\n",
        "\n",
        "# Loading\n",
        "df        = pd.read_parquet(PATH_FULL)\n",
        "df_sample = pd.read_parquet(PATH_SAMPLE)\n",
        "cfg       = json.load(open(PATH_CFG))\n",
        "\n",
        "df_use = df_sample.copy()\n",
        "\n",
        "# Checking\n",
        "print(\" - sample: \", len(df_sample), \"rows\")\n",
        "print(\" - config keys:\", list(cfg.keys()))"
      ]
    },
    {
      "cell_type": "markdown",
      "id": "CzI07aXD2oAr",
      "metadata": {
        "id": "CzI07aXD2oAr"
      },
      "source": [
        "# Splitting data set\n"
      ]
    },
    {
      "cell_type": "code",
      "execution_count": null,
      "id": "-1jpXcm38FCt",
      "metadata": {
        "colab": {
          "base_uri": "https://localhost:8080/"
        },
        "id": "-1jpXcm38FCt",
        "outputId": "9c8743a4-50d2-4fd7-cd64-c409e6f7c14b"
      },
      "outputs": [
        {
          "name": "stdout",
          "output_type": "stream",
          "text": [
            "WORKING DF counts:\n",
            " {'negative': 8394, 'neutral': 3401, 'positive': 34451}\n",
            "WORKING DF class_weights:\n",
            " {'negative': 1.8364704947978714, 'neutral': 4.532588454376164, 'positive': 0.4474567743558484}\n"
          ]
        }
      ],
      "source": [
        "# Just inspecting + record class stats\n",
        "label_col = cfg[\"label_col\"]\n",
        "order = [\"negative\", \"neutral\", \"positive\"]\n",
        "\n",
        "def class_stats(series, order):\n",
        "    counts = series.value_counts().reindex(order, fill_value=0)\n",
        "    weights = (counts.sum() / (len(order) * counts)).astype(float)  # inverse freq\n",
        "    return counts, weights\n",
        "\n",
        "counts_use, weights_use = class_stats(df_use[label_col], order)\n",
        "\n",
        "print(\"WORKING DF counts:\\n\", counts_use.to_dict())\n",
        "print(\"WORKING DF class_weights:\\n\", weights_use.to_dict())"
      ]
    },
    {
      "cell_type": "code",
      "execution_count": 5,
      "id": "m_vvCynfIa1M",
      "metadata": {
        "colab": {
          "base_uri": "https://localhost:8080/"
        },
        "id": "m_vvCynfIa1M",
        "outputId": "ae3a1c8f-bac4-4523-b266-866e8ba55294"
      },
      "outputs": [
        {
          "name": "stdout",
          "output_type": "stream",
          "text": [
            "Sizes -> train/val/test: 32372 6937 6937\n",
            "\n",
            "Class % in train:\n",
            " sentiment\n",
            "negative    18.15\n",
            "neutral      7.36\n",
            "positive    74.49\n",
            "Name: count, dtype: float64\n",
            "\n",
            "Class % in val:\n",
            " sentiment\n",
            "negative    18.15\n",
            "neutral      7.35\n",
            "positive    74.50\n",
            "Name: count, dtype: float64\n",
            "\n",
            "Class % in test:\n",
            " sentiment\n",
            "negative    18.15\n",
            "neutral      7.35\n",
            "positive    74.50\n",
            "Name: count, dtype: float64\n"
          ]
        }
      ],
      "source": [
        "# train/val/test split on the sample dataset (70/15/15)\n",
        "text_col  = cfg[\"text_col\"]\n",
        "label_col = cfg[\"label_col\"]\n",
        "order     = [\"negative\", \"neutral\", \"positive\"]\n",
        "\n",
        "train_df, tmp_df = train_test_split(\n",
        "    df_use, test_size=0.30, stratify=df_use[label_col], random_state=42\n",
        ")\n",
        "val_df, test_df = train_test_split(\n",
        "    tmp_df, test_size=0.50, stratify=tmp_df[label_col], random_state=42\n",
        ")\n",
        "\n",
        "def pct(d):\n",
        "    c = d[label_col].value_counts().reindex(order, fill_value=0)\n",
        "    return (c / c.sum() * 100).round(2)\n",
        "\n",
        "print(\"Sizes -> train/val/test:\", len(train_df), len(val_df), len(test_df))\n",
        "print(\"\\nClass % in train:\\n\", pct(train_df))\n",
        "print(\"\\nClass % in val:\\n\",   pct(val_df))\n",
        "print(\"\\nClass % in test:\\n\",  pct(test_df))"
      ]
    },
    {
      "cell_type": "markdown",
      "id": "qhe7ftQ5MyWc",
      "metadata": {
        "id": "qhe7ftQ5MyWc"
      },
      "source": [
        "As seen in preprocessing, the data set was very positive balanced. So we should rebalance the training split before we can do model training.\n",
        "\n",
        "Negative 18.15%, neutral 7.35%, positive 74.50%"
      ]
    },
    {
      "cell_type": "markdown",
      "id": "ZmmpKDl_M1Dk",
      "metadata": {
        "id": "ZmmpKDl_M1Dk"
      },
      "source": [
        "## Tokenizing for bert base uncased"
      ]
    },
    {
      "cell_type": "code",
      "execution_count": 6,
      "id": "BulOvP6qM0ge",
      "metadata": {
        "colab": {
          "base_uri": "https://localhost:8080/"
        },
        "id": "BulOvP6qM0ge",
        "outputId": "07cb430f-9876-4f90-b29b-15ff1dcb2aeb"
      },
      "outputs": [
        {
          "name": "stdout",
          "output_type": "stream",
          "text": [
            "BBU train counts: {'negative': 5876, 'neutral': 2381, 'positive': 24115}\n",
            "BBU train class weights: {'negative': 1.8363966417063762, 'neutral': 4.531989360212796, 'positive': 0.4474669984103946}\n"
          ]
        }
      ],
      "source": [
        "# Setting up config for second model bert base uncased\n",
        "MODEL_NAME_bbu = \"bert-base-uncased\"\n",
        "SHORT_bbu      = \"bbu\"                     # <- shortname for this model\n",
        "MAX_LENGTH     = cfg[\"max_length\"]\n",
        "label2id       = cfg[\"label2id\"]\n",
        "text_col       = cfg[\"text_col\"]\n",
        "label_col      = cfg[\"label_col\"]\n",
        "order          = [\"negative\",\"neutral\",\"positive\"]\n",
        "\n",
        "# recompute class weights from the TRAIN split (recommended)\n",
        "train_counts_bbu = train_df[label_col].value_counts().reindex(order, fill_value=0)\n",
        "train_class_weights_bbu = (train_counts_bbu.sum() / (len(order) * train_counts_bbu)).astype(float).to_dict()\n",
        "print(\"BBU train counts:\", train_counts_bbu.to_dict())\n",
        "print(\"BBU train class weights:\", train_class_weights_bbu)\n"
      ]
    },
    {
      "cell_type": "code",
      "execution_count": 7,
      "id": "Y0kzhhdiNvrf",
      "metadata": {
        "colab": {
          "base_uri": "https://localhost:8080/"
        },
        "id": "Y0kzhhdiNvrf",
        "outputId": "bf235687-1b31-4149-c5fa-68617abf7ace"
      },
      "outputs": [
        {
          "name": "stdout",
          "output_type": "stream",
          "text": [
            "train_bbu (32372, 2)\n",
            "val_bbu (6937, 2)\n",
            "test_bbu (6937, 2)\n"
          ]
        }
      ],
      "source": [
        "# Making data frames to keep only text and labels/sentiment\n",
        "def prep_for_model(df_):\n",
        "    d = df_[[text_col, label_col]].copy()\n",
        "    d[\"labels\"] = d[label_col].map(label2id).astype(\"int64\")\n",
        "    d.rename(columns={text_col: \"text\"}, inplace=True)\n",
        "    return d[[\"text\",\"labels\"]]\n",
        "\n",
        "train_p_bbu = prep_for_model(train_df)\n",
        "val_p_bbu   = prep_for_model(val_df)\n",
        "test_p_bbu  = prep_for_model(test_df)\n",
        "\n",
        "for name, d in [(\"train_bbu\", train_p_bbu), (\"val_bbu\", val_p_bbu), (\"test_bbu\", test_p_bbu)]:\n",
        "    print(name, d.shape)"
      ]
    },
    {
      "cell_type": "code",
      "execution_count": 8,
      "id": "E2-vNp59N5Jv",
      "metadata": {
        "colab": {
          "base_uri": "https://localhost:8080/"
        },
        "id": "E2-vNp59N5Jv",
        "outputId": "412f32d4-4014-42fe-b8af-25b3ed847e1e"
      },
      "outputs": [
        {
          "name": "stdout",
          "output_type": "stream",
          "text": [
            "Dataset({\n",
            "    features: ['text', 'labels'],\n",
            "    num_rows: 32372\n",
            "}) Dataset({\n",
            "    features: ['text', 'labels'],\n",
            "    num_rows: 6937\n",
            "}) Dataset({\n",
            "    features: ['text', 'labels'],\n",
            "    num_rows: 6937\n",
            "})\n"
          ]
        }
      ],
      "source": [
        "# Converting to datasets, should be more memory effiecient\n",
        "ds_train_bbu = Dataset.from_pandas(train_p_bbu, preserve_index=False)\n",
        "ds_val_bbu   = Dataset.from_pandas(val_p_bbu,   preserve_index=False)\n",
        "ds_test_bbu  = Dataset.from_pandas(test_p_bbu,  preserve_index=False)\n",
        "\n",
        "print(ds_train_bbu, ds_val_bbu, ds_test_bbu)"
      ]
    },
    {
      "cell_type": "code",
      "execution_count": 9,
      "id": "xKS5vINGOD0f",
      "metadata": {
        "colab": {
          "base_uri": "https://localhost:8080/",
          "height": 235,
          "referenced_widgets": [
            "794b9102fe6842fbaf944c1e8b5e8dcd",
            "ad301a0f492b4c55b0a0243abb89a282",
            "3a981b00c725479f822181d28a932e20",
            "b32e990789c84689a07e54405e7036cb",
            "68b4e72dbf9c41808390af98910e0995",
            "6a3e03ae8c03487dbcf83830ce9ba02d",
            "b18e95356ffa40a793c281efbd5dde45",
            "bb77dacf98f74eb8853a8b58f65be22b",
            "310819a2d8914a8abc06813b8e077964",
            "4d70fe4bc3434c3491b6d04fabd6d8b5",
            "5015b20b703e4497a8ced8d546bf260c",
            "05e9f814eca64ecda6b97d5abf1ea57d",
            "eda21f5678f143d49b3dc3f240881133",
            "4b8aedc2d6874e729d3ee4102660cd98",
            "bfc1125b055c4c6ca0ad0c005e27b914",
            "24f4e2b707ed41dda059472b89d7d067",
            "312a5064304a460984c31983fad28b92",
            "c53e5f51ed804108a00585c3010311c3",
            "7a47dfa7ca6a45a1992d202c3f5a91d5",
            "91f44a2eb9c1489a8ac04bc560b0c064",
            "1cd5c26a06b44d0d82711dd3bdd36380",
            "e5ab41b5048741a8853afcd3052eec8e",
            "3e45f59997734cb782d78d92af37dca5",
            "dd6d2b8c5ec64e3bb89010a4e395646b",
            "de0f04328037421b894ada650653c19b",
            "84dc64084dd54c48926e26cefecc7125",
            "43b57e959c6e475dbac682eaad551ea2",
            "cf4fbbedef124a21b5d72dc98baaddd4",
            "3bd2bd2bc5d6480889afe6b2f75a29f0",
            "37da426f8d164774a1d1a29f65617fc4",
            "40a308e0979d4224a9835e7b11d86856",
            "f36fb5edaa6748c2b04586cf42f3afe3",
            "aacf9589c21d498b9432caa15bbaeda2"
          ]
        },
        "id": "xKS5vINGOD0f",
        "outputId": "2d55b59d-2880-405e-f21d-cdff8ab3d1bb"
      },
      "outputs": [
        {
          "name": "stderr",
          "output_type": "stream",
          "text": [
            "/usr/local/lib/python3.12/dist-packages/huggingface_hub/utils/_auth.py:94: UserWarning: \n",
            "The secret `HF_TOKEN` does not exist in your Colab secrets.\n",
            "To authenticate with the Hugging Face Hub, create a token in your settings tab (https://huggingface.co/settings/tokens), set it as secret in your Google Colab and restart your session.\n",
            "You will be able to reuse this secret in all of your notebooks.\n",
            "Please note that authentication is recommended but still optional to access public models or datasets.\n",
            "  warnings.warn(\n"
          ]
        },
        {
          "data": {
            "application/vnd.jupyter.widget-view+json": {
              "model_id": "794b9102fe6842fbaf944c1e8b5e8dcd",
              "version_major": 2,
              "version_minor": 0
            },
            "text/plain": [
              "Map:   0%|          | 0/32372 [00:00<?, ? examples/s]"
            ]
          },
          "metadata": {},
          "output_type": "display_data"
        },
        {
          "data": {
            "application/vnd.jupyter.widget-view+json": {
              "model_id": "05e9f814eca64ecda6b97d5abf1ea57d",
              "version_major": 2,
              "version_minor": 0
            },
            "text/plain": [
              "Map:   0%|          | 0/6937 [00:00<?, ? examples/s]"
            ]
          },
          "metadata": {},
          "output_type": "display_data"
        },
        {
          "data": {
            "application/vnd.jupyter.widget-view+json": {
              "model_id": "3e45f59997734cb782d78d92af37dca5",
              "version_major": 2,
              "version_minor": 0
            },
            "text/plain": [
              "Map:   0%|          | 0/6937 [00:00<?, ? examples/s]"
            ]
          },
          "metadata": {},
          "output_type": "display_data"
        },
        {
          "name": "stdout",
          "output_type": "stream",
          "text": [
            "Tokenized (bbu): 32372 6937 6937\n"
          ]
        }
      ],
      "source": [
        "# Load tokenizer and tokenize, see note if ram issues\n",
        "tokenizer_bbu = AutoTokenizer.from_pretrained(MODEL_NAME_bbu)\n",
        "def tok_fn_bbu(batch):\n",
        "    return tokenizer_bbu(\n",
        "        batch[\"text\"],\n",
        "        truncation=True,\n",
        "        max_length=MAX_LENGTH,\n",
        "        padding=False,                 # dynamic padding via collator\n",
        "        return_attention_mask=True,\n",
        "    )\n",
        "\n",
        "# NOTE: Tokenizing the FULL dataset is heavy in Colab.\n",
        "# If you hit RAM/time issues, try first with a subset by uncommenting:\n",
        "# ds_train_bbu = ds_train.select(range(200_000))  # e.g., first 200k for a dry run\n",
        "\n",
        "ds_train_tok_bbu = ds_train_bbu.map(tok_fn_bbu, batched=True, remove_columns=[\"text\"])\n",
        "ds_val_tok_bbu   = ds_val_bbu.map(tok_fn_bbu,     batched=True, remove_columns=[\"text\"])\n",
        "ds_test_tok_bbu  = ds_test_bbu.map(tok_fn_bbu,    batched=True, remove_columns=[\"text\"])\n",
        "\n",
        "print(\"Tokenized (bbu):\", len(ds_train_tok_bbu), len(ds_val_tok_bbu), len(ds_test_tok_bbu))\n"
      ]
    },
    {
      "cell_type": "code",
      "execution_count": 10,
      "id": "I0V90Uf7PH8U",
      "metadata": {
        "colab": {
          "base_uri": "https://localhost:8080/"
        },
        "id": "I0V90Uf7PH8U",
        "outputId": "090f2a22-81fd-4bc8-cbfe-8e62ad10d00d"
      },
      "outputs": [
        {
          "name": "stdout",
          "output_type": "stream",
          "text": [
            "BBU example keys: dict_keys(['labels', 'input_ids', 'token_type_ids', 'attention_mask']) | input_ids length: 3\n"
          ]
        }
      ],
      "source": [
        "# Setting PyTorch format\n",
        "ds_train_tok_bbu.set_format(type=\"torch\")\n",
        "ds_val_tok_bbu.set_format(type=\"torch\")\n",
        "ds_test_tok_bbu.set_format(type=\"torch\")\n",
        "\n",
        "data_collator_bbu = DataCollatorWithPadding(tokenizer=tokenizer_bbu, padding=\"longest\")\n",
        "\n",
        "ex = ds_train_tok_bbu[0]\n",
        "print(\"BBU example keys:\", ex.keys(), \"| input_ids length:\", len(ex[\"input_ids\"]))"
      ]
    },
    {
      "cell_type": "markdown",
      "id": "8psEiwv6lTCg",
      "metadata": {
        "id": "8psEiwv6lTCg"
      },
      "source": [
        "## Model training w/ bert base uncased"
      ]
    },
    {
      "cell_type": "code",
      "execution_count": 11,
      "id": "auwpFMr6lbzn",
      "metadata": {
        "colab": {
          "base_uri": "https://localhost:8080/"
        },
        "id": "auwpFMr6lbzn",
        "outputId": "889c14c8-a90e-4603-eef9-eb76ebc94ff5"
      },
      "outputs": [
        {
          "name": "stderr",
          "output_type": "stream",
          "text": [
            "Some weights of BertForSequenceClassification were not initialized from the model checkpoint at bert-base-uncased and are newly initialized: ['classifier.bias', 'classifier.weight']\n",
            "You should probably TRAIN this model on a down-stream task to be able to use it for predictions and inference.\n"
          ]
        }
      ],
      "source": [
        "# Label maps\n",
        "id2label = {0: \"negative\", 1: \"neutral\", 2: \"positive\"}\n",
        "label2id = {\"negative\": 0, \"neutral\": 1, \"positive\": 2}\n",
        "\n",
        "# Model\n",
        "model_bbu = AutoModelForSequenceClassification.from_pretrained(\n",
        "    MODEL_NAME_bbu,\n",
        "    num_labels=3,\n",
        "    id2label=id2label,\n",
        "    label2id=label2id,\n",
        ")\n",
        "\n",
        "def compute_metrics_bbu(eval_pred):\n",
        "    logits, labels = eval_pred\n",
        "    preds = np.argmax(logits, axis=-1)\n",
        "    acc = accuracy_score(labels, preds)\n",
        "    p_macro, r_macro, f1_macro, _ = precision_recall_fscore_support(\n",
        "        labels, preds, average=\"macro\", zero_division=0\n",
        "    )\n",
        "    return {\"accuracy\": acc, \"f1_macro\": f1_macro, \"precision_macro\": p_macro, \"recall_macro\": r_macro}"
      ]
    },
    {
      "cell_type": "code",
      "execution_count": 12,
      "id": "czuDunO_lkgp",
      "metadata": {
        "colab": {
          "base_uri": "https://localhost:8080/"
        },
        "id": "czuDunO_lkgp",
        "outputId": "9a491e65-361b-4309-8e77-9af5f499e241"
      },
      "outputs": [
        {
          "name": "stdout",
          "output_type": "stream",
          "text": [
            "class weights used (neg, neu, pos): [1.8363966941833496, 7.251183032989502, 0.44746699929237366]\n"
          ]
        }
      ],
      "source": [
        "# Class weighted training to handle that the training test is imbalanced\n",
        "label_order = [\"negative\", \"neutral\", \"positive\"]\n",
        "\n",
        "# copy current class weights in the train split\n",
        "w = {k: train_class_weights_bbu[k] for k in label_order}\n",
        "\n",
        "# boost neutral\n",
        "w[\"neutral\"] *= 1.6\n",
        "\n",
        "# checking weight used\n",
        "weight_tensor_bbu = torch.tensor([w[k] for k in label_order], dtype=torch.float32)\n",
        "print(\"class weights used (neg, neu, pos):\", [float(x) for x in weight_tensor_bbu])\n",
        "\n",
        "class WeightedTrainerBBU(Trainer):\n",
        "    # accept extra kwargs from new Trainer (e.g., num_items_in_batch) to stay future-proof\n",
        "    def compute_loss(self, model, inputs, return_outputs=False, **kwargs):\n",
        "        labels = inputs.pop(\"labels\")\n",
        "        # make sure labels are correct dtype for CE loss\n",
        "        if labels.dtype != torch.long:\n",
        "            labels = labels.long()\n",
        "\n",
        "        outputs = model(**inputs)\n",
        "        logits = outputs.logits\n",
        "\n",
        "        loss_fct = torch.nn.CrossEntropyLoss(\n",
        "            weight=weight_tensor_bbu.to(logits.device)\n",
        "        )\n",
        "        loss = loss_fct(logits, labels)\n",
        "\n",
        "        return (loss, outputs) if return_outputs else loss"
      ]
    },
    {
      "cell_type": "code",
      "execution_count": null,
      "id": "sLdxKL5VlsyD",
      "metadata": {
        "colab": {
          "base_uri": "https://localhost:8080/"
        },
        "id": "sLdxKL5VlsyD",
        "outputId": "b6f34600-ec46-4c5f-a412-7038476c7c17"
      },
      "outputs": [
        {
          "name": "stdout",
          "output_type": "stream",
          "text": [
            "[TrainingArguments] Using modern API (eval/save='epoch').\n",
            "Has 'evaluation_strategy': False\n",
            "Has 'load_best_model_at_end': True\n"
          ]
        }
      ],
      "source": [
        "# Setting training arguments\n",
        "import importlib, transformers\n",
        "importlib.reload(transformers)\n",
        "from transformers.training_args import TrainingArguments\n",
        "\n",
        "def make_training_args_bbu(output_dir=f\"runs_{SHORT_bbu}\"):\n",
        "    \"\"\"\n",
        "    Build TrainingArguments with a compatibility shim:\n",
        "    - Attempt A: modern API (>=3.x): eval/save 'epoch' + best model at end\n",
        "    - Attempt B: fallback (very old API): no eval during training,\n",
        "      no 'best model at end' (avoids the mismatch error).\n",
        "    \"\"\"\n",
        "    # ---- Base hyperparams (tuned for the SAMPLE split) ----\n",
        "    base = dict(\n",
        "        output_dir=output_dir,\n",
        "\n",
        "        # Optimization\n",
        "        learning_rate=1e-5,\n",
        "        weight_decay=0.01,\n",
        "\n",
        "        # Batching (effective train batch ≈ 16 * 2 = 32)\n",
        "        per_device_train_batch_size=16,\n",
        "        per_device_eval_batch_size=32,\n",
        "        gradient_accumulation_steps=2,\n",
        "\n",
        "        # Train length on SAMPLE\n",
        "        num_train_epochs=3,\n",
        "\n",
        "        # Logging\n",
        "        logging_strategy=\"steps\",\n",
        "        logging_steps=100,\n",
        "\n",
        "        # Mixed precision\n",
        "        fp16=True,\n",
        "\n",
        "        # Keep disk tidy & avoid external loggers by default\n",
        "        save_total_limit=2,\n",
        "        report_to=\"none\",\n",
        "    )\n",
        "\n",
        "    # ---- Attempt A: modern API (eval/save must MATCH) ----\n",
        "    try:\n",
        "        args = TrainingArguments(\n",
        "            **base,\n",
        "            eval_strategy=\"epoch\",\n",
        "            save_strategy=\"epoch\",\n",
        "            load_best_model_at_end=True,\n",
        "            metric_for_best_model=\"f1_macro\",\n",
        "            greater_is_better=True,\n",
        "        )\n",
        "        print(\"[TrainingArguments] Using modern API (eval/save='epoch').\")\n",
        "        return args\n",
        "    except TypeError as e:\n",
        "        print(\"[TrainingArguments] Modern API not supported:\", e)\n",
        "\n",
        "    # ---- Attempt B: minimal fallback (NO eval during training) ----\n",
        "    # Remove modern-only fields and DISABLE 'best model at end'\n",
        "    base_min = dict(base)\n",
        "    base_min.pop(\"logging_strategy\", None)   # some very old builds don't have this\n",
        "    args = TrainingArguments(\n",
        "        **base_min,\n",
        "        # No evaluation during training in this fallback\n",
        "        load_best_model_at_end=False,  # <- avoids the mismatch error\n",
        "        # Don't set evaluation_strategy/save_strategy here\n",
        "    )\n",
        "    print(\"[TrainingArguments] Using minimal fallback (no eval during training; no best model at end).\")\n",
        "    return args\n",
        "\n",
        "# Build args and quick sanity check\n",
        "args_bbu = make_training_args_bbu(f\"runs_{SHORT_bbu}\")\n",
        "print(\"Has 'evaluation_strategy':\", hasattr(args_bbu, \"evaluation_strategy\"))\n",
        "print(\"Has 'load_best_model_at_end':\", getattr(args_bbu, \"load_best_model_at_end\", None))\n"
      ]
    },
    {
      "cell_type": "code",
      "execution_count": null,
      "id": "jz_A7gG9lzPX",
      "metadata": {
        "colab": {
          "base_uri": "https://localhost:8080/",
          "height": 170
        },
        "id": "jz_A7gG9lzPX",
        "outputId": "2ecf511f-a3f7-4d43-dd02-3f9b354a4621"
      },
      "outputs": [
        {
          "data": {
            "text/html": [
              "\n",
              "    <div>\n",
              "      \n",
              "      <progress value='3036' max='3036' style='width:300px; height:20px; vertical-align: middle;'></progress>\n",
              "      [3036/3036 17:23, Epoch 3/3]\n",
              "    </div>\n",
              "    <table border=\"1\" class=\"dataframe\">\n",
              "  <thead>\n",
              " <tr style=\"text-align: left;\">\n",
              "      <th>Epoch</th>\n",
              "      <th>Training Loss</th>\n",
              "      <th>Validation Loss</th>\n",
              "      <th>Accuracy</th>\n",
              "      <th>F1 Macro</th>\n",
              "      <th>Precision Macro</th>\n",
              "      <th>Recall Macro</th>\n",
              "    </tr>\n",
              "  </thead>\n",
              "  <tbody>\n",
              "    <tr>\n",
              "      <td>1</td>\n",
              "      <td>0.608400</td>\n",
              "      <td>0.584274</td>\n",
              "      <td>0.828744</td>\n",
              "      <td>0.699842</td>\n",
              "      <td>0.689986</td>\n",
              "      <td>0.760734</td>\n",
              "    </tr>\n",
              "    <tr>\n",
              "      <td>2</td>\n",
              "      <td>0.544200</td>\n",
              "      <td>0.600956</td>\n",
              "      <td>0.848494</td>\n",
              "      <td>0.715276</td>\n",
              "      <td>0.699518</td>\n",
              "      <td>0.766918</td>\n",
              "    </tr>\n",
              "    <tr>\n",
              "      <td>3</td>\n",
              "      <td>0.467200</td>\n",
              "      <td>0.685247</td>\n",
              "      <td>0.861612</td>\n",
              "      <td>0.719295</td>\n",
              "      <td>0.703248</td>\n",
              "      <td>0.755173</td>\n",
              "    </tr>\n",
              "  </tbody>\n",
              "</table><p>"
            ],
            "text/plain": [
              "<IPython.core.display.HTML object>"
            ]
          },
          "metadata": {},
          "output_type": "display_data"
        }
      ],
      "source": [
        "# Training\n",
        "trainer_bbu = WeightedTrainerBBU(\n",
        "    model=model_bbu,\n",
        "    args=args_bbu,                       # from builder\n",
        "    train_dataset=ds_train_tok_bbu,\n",
        "    eval_dataset=ds_val_tok_bbu,         # optional; used when you call evaluate()\n",
        "    processing_class=tokenizer_bbu,      # replaces deprecated tokenizer=\n",
        "    data_collator=data_collator_bbu,\n",
        "    compute_metrics=compute_metrics_bbu,\n",
        ")\n",
        "\n",
        "train_result_bbu = trainer_bbu.train()\n"
      ]
    },
    {
      "cell_type": "code",
      "execution_count": null,
      "id": "04rpC-bbmObp",
      "metadata": {
        "colab": {
          "base_uri": "https://localhost:8080/",
          "height": 315
        },
        "id": "04rpC-bbmObp",
        "outputId": "b54fb64a-0275-415b-a795-9773f18ca6d6"
      },
      "outputs": [
        {
          "data": {
            "text/html": [],
            "text/plain": [
              "<IPython.core.display.HTML object>"
            ]
          },
          "metadata": {},
          "output_type": "display_data"
        },
        {
          "name": "stdout",
          "output_type": "stream",
          "text": [
            "VAL (bbu): {'eval_loss': 0.6852468848228455, 'eval_accuracy': 0.8616116476863197, 'eval_f1_macro': 0.7192947531897212, 'eval_precision_macro': 0.7032482847930593, 'eval_recall_macro': 0.7551734938781332, 'eval_runtime': 22.417, 'eval_samples_per_second': 309.452, 'eval_steps_per_second': 9.68, 'epoch': 3.0}\n",
            "TEST (bbu): {'test_loss': 0.6905398964881897, 'test_accuracy': 0.8601701023497189, 'test_f1_macro': 0.721122193910008, 'test_precision_macro': 0.7055493892927887, 'test_recall_macro': 0.7619163522466245, 'test_runtime': 22.8372, 'test_samples_per_second': 303.759, 'test_steps_per_second': 9.502, 'epoch': 3.0}\n",
            "              precision    recall  f1-score   support\n",
            "\n",
            "    negative      0.821     0.806     0.814      1259\n",
            "     neutral      0.322     0.578     0.414       510\n",
            "    positive      0.973     0.901     0.936      5168\n",
            "\n",
            "    accuracy                          0.860      6937\n",
            "   macro avg      0.706     0.762     0.721      6937\n",
            "weighted avg      0.898     0.860     0.875      6937\n",
            "\n",
            "Confusion matrix (rows=true, cols=pred):\n",
            " [[1015  203   41]\n",
            " [ 127  295   88]\n",
            " [  94  417 4657]]\n"
          ]
        }
      ],
      "source": [
        "# Validation metrics\n",
        "val_metrics_bbu  = trainer_bbu.evaluate(ds_val_tok_bbu)\n",
        "print(\"VAL (bbu):\",  val_metrics_bbu)\n",
        "\n",
        "test_metrics_bbu = trainer_bbu.evaluate(ds_test_tok_bbu, metric_key_prefix=\"test\")\n",
        "print(\"TEST (bbu):\", test_metrics_bbu)\n",
        "\n",
        "pred = trainer_bbu.predict(ds_test_tok_bbu)\n",
        "y_true = pred.label_ids\n",
        "y_pred = pred.predictions.argmax(axis=-1)\n",
        "\n",
        "print(classification_report(y_true, y_pred,\n",
        "                            target_names=[\"negative\",\"neutral\",\"positive\"],\n",
        "                            digits=3))\n",
        "print(\"Confusion matrix (rows=true, cols=pred):\\n\",\n",
        "      confusion_matrix(y_true, y_pred, labels=[0,1,2]))\n"
      ]
    },
    {
      "cell_type": "markdown",
      "id": "v4W3BPRYL6Yi",
      "metadata": {
        "id": "v4W3BPRYL6Yi"
      },
      "source": [
        "## Saving model"
      ]
    },
    {
      "cell_type": "code",
      "execution_count": 19,
      "id": "BESVK6uJL6LV",
      "metadata": {
        "colab": {
          "base_uri": "https://localhost:8080/"
        },
        "id": "BESVK6uJL6LV",
        "outputId": "deda3e92-84fd-467d-e318-fd5d02e9eca7"
      },
      "outputs": [
        {
          "name": "stdout",
          "output_type": "stream",
          "text": [
            "Saving to: /content/drive/MyDrive/Project_NLP/models/bbu_sample_e3_lr1e-5_wNeutral1p3\n"
          ]
        }
      ],
      "source": [
        "# saving too google drive\n",
        "BASE_SAVE = \"/content/drive/MyDrive/Project_NLP/models\"\n",
        "RUN_TAG   = \"bbu_sample_e3_lr1e-5_wNeutral1p3\"\n",
        "SAVE_DIR  = f\"{BASE_SAVE}/{RUN_TAG}\"\n",
        "\n",
        "import os, json, datetime, numpy as np\n",
        "os.makedirs(SAVE_DIR, exist_ok=True)\n",
        "print(\"Saving to:\", SAVE_DIR)\n"
      ]
    },
    {
      "cell_type": "code",
      "execution_count": 20,
      "id": "_G_bHC2PMSE6",
      "metadata": {
        "colab": {
          "base_uri": "https://localhost:8080/"
        },
        "id": "_G_bHC2PMSE6",
        "outputId": "ddc37a7a-2a0b-4f3f-daef-69458ff05cf6"
      },
      "outputs": [
        {
          "data": {
            "text/plain": [
              "('/content/drive/MyDrive/Project_NLP/models/bbu_sample_e3_lr1e-5_wNeutral1p3/tokenizer_config.json',\n",
              " '/content/drive/MyDrive/Project_NLP/models/bbu_sample_e3_lr1e-5_wNeutral1p3/special_tokens_map.json',\n",
              " '/content/drive/MyDrive/Project_NLP/models/bbu_sample_e3_lr1e-5_wNeutral1p3/vocab.txt',\n",
              " '/content/drive/MyDrive/Project_NLP/models/bbu_sample_e3_lr1e-5_wNeutral1p3/added_tokens.json',\n",
              " '/content/drive/MyDrive/Project_NLP/models/bbu_sample_e3_lr1e-5_wNeutral1p3/tokenizer.json')"
            ]
          },
          "execution_count": 20,
          "metadata": {},
          "output_type": "execute_result"
        }
      ],
      "source": [
        "# Model + tokenizer\n",
        "trainer_bbu.save_model(SAVE_DIR)\n",
        "tokenizer_bbu.save_pretrained(SAVE_DIR)"
      ]
    },
    {
      "cell_type": "code",
      "execution_count": null,
      "id": "MGmRaPJMM_Yb",
      "metadata": {
        "colab": {
          "base_uri": "https://localhost:8080/"
        },
        "id": "MGmRaPJMM_Yb",
        "outputId": "58a673b9-f590-42ff-b01f-1a04de6ffe28"
      },
      "outputs": [
        {
          "name": "stdout",
          "output_type": "stream",
          "text": [
            "Writing metrics & reports to: /content/drive/MyDrive/Project_NLP/runs/bbu_sample_e3_lr1e-5_wNeutral1p3\n",
            "Saved: metrics.json, classification_report.csv, confusion_matrix.csv, preds_test.csv, run_summary.json\n"
          ]
        }
      ],
      "source": [
        "# Puting all diagnostics beside model, but in a separate \"runs\" area\n",
        "RUNS_BASE = \"/content/drive/MyDrive/Project_NLP/runs\"\n",
        "RUN_DIR    = f\"{RUNS_BASE}/{RUN_TAG}\"\n",
        "os.makedirs(RUN_DIR, exist_ok=True)\n",
        "print(\"Writing metrics & reports to:\", RUN_DIR)\n",
        "\n",
        "# 1) raw val/test metrics → JSON\n",
        "with open(f\"{RUN_DIR}/metrics.json\", \"w\") as f:\n",
        "    json.dump(\n",
        "        {\n",
        "            \"val\":  val_metrics_bbu,     # from trainer_bbu.evaluate(ds_val_tok_bbu)\n",
        "            \"test\": test_metrics_bbu,    # from trainer_bbu.evaluate(ds_test_tok_bbu, metric_key_prefix=\"test\")\n",
        "        },\n",
        "        f,\n",
        "        indent=2\n",
        "    )\n",
        "\n",
        "# 2) classification report → CSV\n",
        "label_order = [\"negative\", \"neutral\", \"positive\"]\n",
        "rep_dict = classification_report(\n",
        "    y_true, y_pred, target_names=label_order, output_dict=True, digits=3\n",
        ")\n",
        "pd.DataFrame(rep_dict).T.to_csv(f\"{RUN_DIR}/classification_report.csv\")\n",
        "\n",
        "# 3) confusion matrix → CSV\n",
        "cm = confusion_matrix(y_true, y_pred, labels=[0, 1, 2])\n",
        "pd.DataFrame(\n",
        "    cm,\n",
        "    index=[f\"true_{l}\" for l in label_order],\n",
        "    columns=[f\"pred_{l}\" for l in label_order],\n",
        ").to_csv(f\"{RUN_DIR}/confusion_matrix.csv\")\n",
        "\n",
        "# 4) test-set predictions → CSV\n",
        "pd.DataFrame({\"y_true\": y_true, \"y_pred\": y_pred}).to_csv(\n",
        "    f\"{RUN_DIR}/preds_test.csv\", index=False\n",
        ")\n",
        "\n",
        "# 5) compact run summary (to remember how it was trained) → JSON\n",
        "summary = {\n",
        "    \"run_tag\": RUN_TAG,\n",
        "    \"model_path\": SAVE_DIR,\n",
        "    \"model_name\": MODEL_NAME_bbu,            \n",
        "    \"max_length\": MAX_LENGTH,\n",
        "    \"epochs\": getattr(args_bbu, \"num_train_epochs\", None),\n",
        "    \"learning_rate\": getattr(args_bbu, \"learning_rate\", None),\n",
        "    \"train_sizes\": {\n",
        "        \"train\": len(ds_train_tok_bbu),\n",
        "        \"val\":   len(ds_val_tok_bbu),\n",
        "        \"test\":  len(ds_test_tok_bbu),\n",
        "    },\n",
        "    # if you used class weights:\n",
        "    \"class_weights_used\": (\n",
        "        [float(x) for x in weight_tensor_bbu.tolist()]\n",
        "        if \"weight_tensor_bbu\" in globals() else None\n",
        "    ),\n",
        "    \"notes\": \"BBU on SAMPLE; neutral boosted ×1.3\",\n",
        "}\n",
        "with open(f\"{RUN_DIR}/run_summary.json\", \"w\") as f:\n",
        "    json.dump(summary, f, indent=2)\n",
        "\n",
        "print(\"Saved: metrics.json, classification_report.csv, confusion_matrix.csv, preds_test.csv, run_summary.json\")\n",
        "\n"
      ]
    }
  ],
  "metadata": {
    "accelerator": "GPU",
    "colab": {
      "gpuType": "T4",
      "machine_shape": "hm",
      "provenance": []
    },
    "kernelspec": {
      "display_name": "Python 3",
      "name": "python3"
    },
    "language_info": {
      "name": "python"
    },
    "widgets": {
      "application/vnd.jupyter.widget-state+json": {
        "05e9f814eca64ecda6b97d5abf1ea57d": {
          "model_module": "@jupyter-widgets/controls",
          "model_module_version": "1.5.0",
          "model_name": "HBoxModel",
          "state": {
            "_dom_classes": [],
            "_model_module": "@jupyter-widgets/controls",
            "_model_module_version": "1.5.0",
            "_model_name": "HBoxModel",
            "_view_count": null,
            "_view_module": "@jupyter-widgets/controls",
            "_view_module_version": "1.5.0",
            "_view_name": "HBoxView",
            "box_style": "",
            "children": [
              "IPY_MODEL_eda21f5678f143d49b3dc3f240881133",
              "IPY_MODEL_4b8aedc2d6874e729d3ee4102660cd98",
              "IPY_MODEL_bfc1125b055c4c6ca0ad0c005e27b914"
            ],
            "layout": "IPY_MODEL_24f4e2b707ed41dda059472b89d7d067"
          }
        },
        "1cd5c26a06b44d0d82711dd3bdd36380": {
          "model_module": "@jupyter-widgets/base",
          "model_module_version": "1.2.0",
          "model_name": "LayoutModel",
          "state": {
            "_model_module": "@jupyter-widgets/base",
            "_model_module_version": "1.2.0",
            "_model_name": "LayoutModel",
            "_view_count": null,
            "_view_module": "@jupyter-widgets/base",
            "_view_module_version": "1.2.0",
            "_view_name": "LayoutView",
            "align_content": null,
            "align_items": null,
            "align_self": null,
            "border": null,
            "bottom": null,
            "display": null,
            "flex": null,
            "flex_flow": null,
            "grid_area": null,
            "grid_auto_columns": null,
            "grid_auto_flow": null,
            "grid_auto_rows": null,
            "grid_column": null,
            "grid_gap": null,
            "grid_row": null,
            "grid_template_areas": null,
            "grid_template_columns": null,
            "grid_template_rows": null,
            "height": null,
            "justify_content": null,
            "justify_items": null,
            "left": null,
            "margin": null,
            "max_height": null,
            "max_width": null,
            "min_height": null,
            "min_width": null,
            "object_fit": null,
            "object_position": null,
            "order": null,
            "overflow": null,
            "overflow_x": null,
            "overflow_y": null,
            "padding": null,
            "right": null,
            "top": null,
            "visibility": null,
            "width": null
          }
        },
        "24f4e2b707ed41dda059472b89d7d067": {
          "model_module": "@jupyter-widgets/base",
          "model_module_version": "1.2.0",
          "model_name": "LayoutModel",
          "state": {
            "_model_module": "@jupyter-widgets/base",
            "_model_module_version": "1.2.0",
            "_model_name": "LayoutModel",
            "_view_count": null,
            "_view_module": "@jupyter-widgets/base",
            "_view_module_version": "1.2.0",
            "_view_name": "LayoutView",
            "align_content": null,
            "align_items": null,
            "align_self": null,
            "border": null,
            "bottom": null,
            "display": null,
            "flex": null,
            "flex_flow": null,
            "grid_area": null,
            "grid_auto_columns": null,
            "grid_auto_flow": null,
            "grid_auto_rows": null,
            "grid_column": null,
            "grid_gap": null,
            "grid_row": null,
            "grid_template_areas": null,
            "grid_template_columns": null,
            "grid_template_rows": null,
            "height": null,
            "justify_content": null,
            "justify_items": null,
            "left": null,
            "margin": null,
            "max_height": null,
            "max_width": null,
            "min_height": null,
            "min_width": null,
            "object_fit": null,
            "object_position": null,
            "order": null,
            "overflow": null,
            "overflow_x": null,
            "overflow_y": null,
            "padding": null,
            "right": null,
            "top": null,
            "visibility": null,
            "width": null
          }
        },
        "310819a2d8914a8abc06813b8e077964": {
          "model_module": "@jupyter-widgets/controls",
          "model_module_version": "1.5.0",
          "model_name": "ProgressStyleModel",
          "state": {
            "_model_module": "@jupyter-widgets/controls",
            "_model_module_version": "1.5.0",
            "_model_name": "ProgressStyleModel",
            "_view_count": null,
            "_view_module": "@jupyter-widgets/base",
            "_view_module_version": "1.2.0",
            "_view_name": "StyleView",
            "bar_color": null,
            "description_width": ""
          }
        },
        "312a5064304a460984c31983fad28b92": {
          "model_module": "@jupyter-widgets/base",
          "model_module_version": "1.2.0",
          "model_name": "LayoutModel",
          "state": {
            "_model_module": "@jupyter-widgets/base",
            "_model_module_version": "1.2.0",
            "_model_name": "LayoutModel",
            "_view_count": null,
            "_view_module": "@jupyter-widgets/base",
            "_view_module_version": "1.2.0",
            "_view_name": "LayoutView",
            "align_content": null,
            "align_items": null,
            "align_self": null,
            "border": null,
            "bottom": null,
            "display": null,
            "flex": null,
            "flex_flow": null,
            "grid_area": null,
            "grid_auto_columns": null,
            "grid_auto_flow": null,
            "grid_auto_rows": null,
            "grid_column": null,
            "grid_gap": null,
            "grid_row": null,
            "grid_template_areas": null,
            "grid_template_columns": null,
            "grid_template_rows": null,
            "height": null,
            "justify_content": null,
            "justify_items": null,
            "left": null,
            "margin": null,
            "max_height": null,
            "max_width": null,
            "min_height": null,
            "min_width": null,
            "object_fit": null,
            "object_position": null,
            "order": null,
            "overflow": null,
            "overflow_x": null,
            "overflow_y": null,
            "padding": null,
            "right": null,
            "top": null,
            "visibility": null,
            "width": null
          }
        },
        "37da426f8d164774a1d1a29f65617fc4": {
          "model_module": "@jupyter-widgets/base",
          "model_module_version": "1.2.0",
          "model_name": "LayoutModel",
          "state": {
            "_model_module": "@jupyter-widgets/base",
            "_model_module_version": "1.2.0",
            "_model_name": "LayoutModel",
            "_view_count": null,
            "_view_module": "@jupyter-widgets/base",
            "_view_module_version": "1.2.0",
            "_view_name": "LayoutView",
            "align_content": null,
            "align_items": null,
            "align_self": null,
            "border": null,
            "bottom": null,
            "display": null,
            "flex": null,
            "flex_flow": null,
            "grid_area": null,
            "grid_auto_columns": null,
            "grid_auto_flow": null,
            "grid_auto_rows": null,
            "grid_column": null,
            "grid_gap": null,
            "grid_row": null,
            "grid_template_areas": null,
            "grid_template_columns": null,
            "grid_template_rows": null,
            "height": null,
            "justify_content": null,
            "justify_items": null,
            "left": null,
            "margin": null,
            "max_height": null,
            "max_width": null,
            "min_height": null,
            "min_width": null,
            "object_fit": null,
            "object_position": null,
            "order": null,
            "overflow": null,
            "overflow_x": null,
            "overflow_y": null,
            "padding": null,
            "right": null,
            "top": null,
            "visibility": null,
            "width": null
          }
        },
        "3a981b00c725479f822181d28a932e20": {
          "model_module": "@jupyter-widgets/controls",
          "model_module_version": "1.5.0",
          "model_name": "FloatProgressModel",
          "state": {
            "_dom_classes": [],
            "_model_module": "@jupyter-widgets/controls",
            "_model_module_version": "1.5.0",
            "_model_name": "FloatProgressModel",
            "_view_count": null,
            "_view_module": "@jupyter-widgets/controls",
            "_view_module_version": "1.5.0",
            "_view_name": "ProgressView",
            "bar_style": "success",
            "description": "",
            "description_tooltip": null,
            "layout": "IPY_MODEL_bb77dacf98f74eb8853a8b58f65be22b",
            "max": 32372,
            "min": 0,
            "orientation": "horizontal",
            "style": "IPY_MODEL_310819a2d8914a8abc06813b8e077964",
            "value": 32372
          }
        },
        "3bd2bd2bc5d6480889afe6b2f75a29f0": {
          "model_module": "@jupyter-widgets/controls",
          "model_module_version": "1.5.0",
          "model_name": "DescriptionStyleModel",
          "state": {
            "_model_module": "@jupyter-widgets/controls",
            "_model_module_version": "1.5.0",
            "_model_name": "DescriptionStyleModel",
            "_view_count": null,
            "_view_module": "@jupyter-widgets/base",
            "_view_module_version": "1.2.0",
            "_view_name": "StyleView",
            "description_width": ""
          }
        },
        "3e45f59997734cb782d78d92af37dca5": {
          "model_module": "@jupyter-widgets/controls",
          "model_module_version": "1.5.0",
          "model_name": "HBoxModel",
          "state": {
            "_dom_classes": [],
            "_model_module": "@jupyter-widgets/controls",
            "_model_module_version": "1.5.0",
            "_model_name": "HBoxModel",
            "_view_count": null,
            "_view_module": "@jupyter-widgets/controls",
            "_view_module_version": "1.5.0",
            "_view_name": "HBoxView",
            "box_style": "",
            "children": [
              "IPY_MODEL_dd6d2b8c5ec64e3bb89010a4e395646b",
              "IPY_MODEL_de0f04328037421b894ada650653c19b",
              "IPY_MODEL_84dc64084dd54c48926e26cefecc7125"
            ],
            "layout": "IPY_MODEL_43b57e959c6e475dbac682eaad551ea2"
          }
        },
        "40a308e0979d4224a9835e7b11d86856": {
          "model_module": "@jupyter-widgets/controls",
          "model_module_version": "1.5.0",
          "model_name": "ProgressStyleModel",
          "state": {
            "_model_module": "@jupyter-widgets/controls",
            "_model_module_version": "1.5.0",
            "_model_name": "ProgressStyleModel",
            "_view_count": null,
            "_view_module": "@jupyter-widgets/base",
            "_view_module_version": "1.2.0",
            "_view_name": "StyleView",
            "bar_color": null,
            "description_width": ""
          }
        },
        "43b57e959c6e475dbac682eaad551ea2": {
          "model_module": "@jupyter-widgets/base",
          "model_module_version": "1.2.0",
          "model_name": "LayoutModel",
          "state": {
            "_model_module": "@jupyter-widgets/base",
            "_model_module_version": "1.2.0",
            "_model_name": "LayoutModel",
            "_view_count": null,
            "_view_module": "@jupyter-widgets/base",
            "_view_module_version": "1.2.0",
            "_view_name": "LayoutView",
            "align_content": null,
            "align_items": null,
            "align_self": null,
            "border": null,
            "bottom": null,
            "display": null,
            "flex": null,
            "flex_flow": null,
            "grid_area": null,
            "grid_auto_columns": null,
            "grid_auto_flow": null,
            "grid_auto_rows": null,
            "grid_column": null,
            "grid_gap": null,
            "grid_row": null,
            "grid_template_areas": null,
            "grid_template_columns": null,
            "grid_template_rows": null,
            "height": null,
            "justify_content": null,
            "justify_items": null,
            "left": null,
            "margin": null,
            "max_height": null,
            "max_width": null,
            "min_height": null,
            "min_width": null,
            "object_fit": null,
            "object_position": null,
            "order": null,
            "overflow": null,
            "overflow_x": null,
            "overflow_y": null,
            "padding": null,
            "right": null,
            "top": null,
            "visibility": null,
            "width": null
          }
        },
        "4b8aedc2d6874e729d3ee4102660cd98": {
          "model_module": "@jupyter-widgets/controls",
          "model_module_version": "1.5.0",
          "model_name": "FloatProgressModel",
          "state": {
            "_dom_classes": [],
            "_model_module": "@jupyter-widgets/controls",
            "_model_module_version": "1.5.0",
            "_model_name": "FloatProgressModel",
            "_view_count": null,
            "_view_module": "@jupyter-widgets/controls",
            "_view_module_version": "1.5.0",
            "_view_name": "ProgressView",
            "bar_style": "success",
            "description": "",
            "description_tooltip": null,
            "layout": "IPY_MODEL_7a47dfa7ca6a45a1992d202c3f5a91d5",
            "max": 6937,
            "min": 0,
            "orientation": "horizontal",
            "style": "IPY_MODEL_91f44a2eb9c1489a8ac04bc560b0c064",
            "value": 6937
          }
        },
        "4d70fe4bc3434c3491b6d04fabd6d8b5": {
          "model_module": "@jupyter-widgets/base",
          "model_module_version": "1.2.0",
          "model_name": "LayoutModel",
          "state": {
            "_model_module": "@jupyter-widgets/base",
            "_model_module_version": "1.2.0",
            "_model_name": "LayoutModel",
            "_view_count": null,
            "_view_module": "@jupyter-widgets/base",
            "_view_module_version": "1.2.0",
            "_view_name": "LayoutView",
            "align_content": null,
            "align_items": null,
            "align_self": null,
            "border": null,
            "bottom": null,
            "display": null,
            "flex": null,
            "flex_flow": null,
            "grid_area": null,
            "grid_auto_columns": null,
            "grid_auto_flow": null,
            "grid_auto_rows": null,
            "grid_column": null,
            "grid_gap": null,
            "grid_row": null,
            "grid_template_areas": null,
            "grid_template_columns": null,
            "grid_template_rows": null,
            "height": null,
            "justify_content": null,
            "justify_items": null,
            "left": null,
            "margin": null,
            "max_height": null,
            "max_width": null,
            "min_height": null,
            "min_width": null,
            "object_fit": null,
            "object_position": null,
            "order": null,
            "overflow": null,
            "overflow_x": null,
            "overflow_y": null,
            "padding": null,
            "right": null,
            "top": null,
            "visibility": null,
            "width": null
          }
        },
        "5015b20b703e4497a8ced8d546bf260c": {
          "model_module": "@jupyter-widgets/controls",
          "model_module_version": "1.5.0",
          "model_name": "DescriptionStyleModel",
          "state": {
            "_model_module": "@jupyter-widgets/controls",
            "_model_module_version": "1.5.0",
            "_model_name": "DescriptionStyleModel",
            "_view_count": null,
            "_view_module": "@jupyter-widgets/base",
            "_view_module_version": "1.2.0",
            "_view_name": "StyleView",
            "description_width": ""
          }
        },
        "68b4e72dbf9c41808390af98910e0995": {
          "model_module": "@jupyter-widgets/base",
          "model_module_version": "1.2.0",
          "model_name": "LayoutModel",
          "state": {
            "_model_module": "@jupyter-widgets/base",
            "_model_module_version": "1.2.0",
            "_model_name": "LayoutModel",
            "_view_count": null,
            "_view_module": "@jupyter-widgets/base",
            "_view_module_version": "1.2.0",
            "_view_name": "LayoutView",
            "align_content": null,
            "align_items": null,
            "align_self": null,
            "border": null,
            "bottom": null,
            "display": null,
            "flex": null,
            "flex_flow": null,
            "grid_area": null,
            "grid_auto_columns": null,
            "grid_auto_flow": null,
            "grid_auto_rows": null,
            "grid_column": null,
            "grid_gap": null,
            "grid_row": null,
            "grid_template_areas": null,
            "grid_template_columns": null,
            "grid_template_rows": null,
            "height": null,
            "justify_content": null,
            "justify_items": null,
            "left": null,
            "margin": null,
            "max_height": null,
            "max_width": null,
            "min_height": null,
            "min_width": null,
            "object_fit": null,
            "object_position": null,
            "order": null,
            "overflow": null,
            "overflow_x": null,
            "overflow_y": null,
            "padding": null,
            "right": null,
            "top": null,
            "visibility": null,
            "width": null
          }
        },
        "6a3e03ae8c03487dbcf83830ce9ba02d": {
          "model_module": "@jupyter-widgets/base",
          "model_module_version": "1.2.0",
          "model_name": "LayoutModel",
          "state": {
            "_model_module": "@jupyter-widgets/base",
            "_model_module_version": "1.2.0",
            "_model_name": "LayoutModel",
            "_view_count": null,
            "_view_module": "@jupyter-widgets/base",
            "_view_module_version": "1.2.0",
            "_view_name": "LayoutView",
            "align_content": null,
            "align_items": null,
            "align_self": null,
            "border": null,
            "bottom": null,
            "display": null,
            "flex": null,
            "flex_flow": null,
            "grid_area": null,
            "grid_auto_columns": null,
            "grid_auto_flow": null,
            "grid_auto_rows": null,
            "grid_column": null,
            "grid_gap": null,
            "grid_row": null,
            "grid_template_areas": null,
            "grid_template_columns": null,
            "grid_template_rows": null,
            "height": null,
            "justify_content": null,
            "justify_items": null,
            "left": null,
            "margin": null,
            "max_height": null,
            "max_width": null,
            "min_height": null,
            "min_width": null,
            "object_fit": null,
            "object_position": null,
            "order": null,
            "overflow": null,
            "overflow_x": null,
            "overflow_y": null,
            "padding": null,
            "right": null,
            "top": null,
            "visibility": null,
            "width": null
          }
        },
        "794b9102fe6842fbaf944c1e8b5e8dcd": {
          "model_module": "@jupyter-widgets/controls",
          "model_module_version": "1.5.0",
          "model_name": "HBoxModel",
          "state": {
            "_dom_classes": [],
            "_model_module": "@jupyter-widgets/controls",
            "_model_module_version": "1.5.0",
            "_model_name": "HBoxModel",
            "_view_count": null,
            "_view_module": "@jupyter-widgets/controls",
            "_view_module_version": "1.5.0",
            "_view_name": "HBoxView",
            "box_style": "",
            "children": [
              "IPY_MODEL_ad301a0f492b4c55b0a0243abb89a282",
              "IPY_MODEL_3a981b00c725479f822181d28a932e20",
              "IPY_MODEL_b32e990789c84689a07e54405e7036cb"
            ],
            "layout": "IPY_MODEL_68b4e72dbf9c41808390af98910e0995"
          }
        },
        "7a47dfa7ca6a45a1992d202c3f5a91d5": {
          "model_module": "@jupyter-widgets/base",
          "model_module_version": "1.2.0",
          "model_name": "LayoutModel",
          "state": {
            "_model_module": "@jupyter-widgets/base",
            "_model_module_version": "1.2.0",
            "_model_name": "LayoutModel",
            "_view_count": null,
            "_view_module": "@jupyter-widgets/base",
            "_view_module_version": "1.2.0",
            "_view_name": "LayoutView",
            "align_content": null,
            "align_items": null,
            "align_self": null,
            "border": null,
            "bottom": null,
            "display": null,
            "flex": null,
            "flex_flow": null,
            "grid_area": null,
            "grid_auto_columns": null,
            "grid_auto_flow": null,
            "grid_auto_rows": null,
            "grid_column": null,
            "grid_gap": null,
            "grid_row": null,
            "grid_template_areas": null,
            "grid_template_columns": null,
            "grid_template_rows": null,
            "height": null,
            "justify_content": null,
            "justify_items": null,
            "left": null,
            "margin": null,
            "max_height": null,
            "max_width": null,
            "min_height": null,
            "min_width": null,
            "object_fit": null,
            "object_position": null,
            "order": null,
            "overflow": null,
            "overflow_x": null,
            "overflow_y": null,
            "padding": null,
            "right": null,
            "top": null,
            "visibility": null,
            "width": null
          }
        },
        "84dc64084dd54c48926e26cefecc7125": {
          "model_module": "@jupyter-widgets/controls",
          "model_module_version": "1.5.0",
          "model_name": "HTMLModel",
          "state": {
            "_dom_classes": [],
            "_model_module": "@jupyter-widgets/controls",
            "_model_module_version": "1.5.0",
            "_model_name": "HTMLModel",
            "_view_count": null,
            "_view_module": "@jupyter-widgets/controls",
            "_view_module_version": "1.5.0",
            "_view_name": "HTMLView",
            "description": "",
            "description_tooltip": null,
            "layout": "IPY_MODEL_f36fb5edaa6748c2b04586cf42f3afe3",
            "placeholder": "​",
            "style": "IPY_MODEL_aacf9589c21d498b9432caa15bbaeda2",
            "value": " 6937/6937 [00:01&lt;00:00, 3992.29 examples/s]"
          }
        },
        "91f44a2eb9c1489a8ac04bc560b0c064": {
          "model_module": "@jupyter-widgets/controls",
          "model_module_version": "1.5.0",
          "model_name": "ProgressStyleModel",
          "state": {
            "_model_module": "@jupyter-widgets/controls",
            "_model_module_version": "1.5.0",
            "_model_name": "ProgressStyleModel",
            "_view_count": null,
            "_view_module": "@jupyter-widgets/base",
            "_view_module_version": "1.2.0",
            "_view_name": "StyleView",
            "bar_color": null,
            "description_width": ""
          }
        },
        "aacf9589c21d498b9432caa15bbaeda2": {
          "model_module": "@jupyter-widgets/controls",
          "model_module_version": "1.5.0",
          "model_name": "DescriptionStyleModel",
          "state": {
            "_model_module": "@jupyter-widgets/controls",
            "_model_module_version": "1.5.0",
            "_model_name": "DescriptionStyleModel",
            "_view_count": null,
            "_view_module": "@jupyter-widgets/base",
            "_view_module_version": "1.2.0",
            "_view_name": "StyleView",
            "description_width": ""
          }
        },
        "ad301a0f492b4c55b0a0243abb89a282": {
          "model_module": "@jupyter-widgets/controls",
          "model_module_version": "1.5.0",
          "model_name": "HTMLModel",
          "state": {
            "_dom_classes": [],
            "_model_module": "@jupyter-widgets/controls",
            "_model_module_version": "1.5.0",
            "_model_name": "HTMLModel",
            "_view_count": null,
            "_view_module": "@jupyter-widgets/controls",
            "_view_module_version": "1.5.0",
            "_view_name": "HTMLView",
            "description": "",
            "description_tooltip": null,
            "layout": "IPY_MODEL_6a3e03ae8c03487dbcf83830ce9ba02d",
            "placeholder": "​",
            "style": "IPY_MODEL_b18e95356ffa40a793c281efbd5dde45",
            "value": "Map: 100%"
          }
        },
        "b18e95356ffa40a793c281efbd5dde45": {
          "model_module": "@jupyter-widgets/controls",
          "model_module_version": "1.5.0",
          "model_name": "DescriptionStyleModel",
          "state": {
            "_model_module": "@jupyter-widgets/controls",
            "_model_module_version": "1.5.0",
            "_model_name": "DescriptionStyleModel",
            "_view_count": null,
            "_view_module": "@jupyter-widgets/base",
            "_view_module_version": "1.2.0",
            "_view_name": "StyleView",
            "description_width": ""
          }
        },
        "b32e990789c84689a07e54405e7036cb": {
          "model_module": "@jupyter-widgets/controls",
          "model_module_version": "1.5.0",
          "model_name": "HTMLModel",
          "state": {
            "_dom_classes": [],
            "_model_module": "@jupyter-widgets/controls",
            "_model_module_version": "1.5.0",
            "_model_name": "HTMLModel",
            "_view_count": null,
            "_view_module": "@jupyter-widgets/controls",
            "_view_module_version": "1.5.0",
            "_view_name": "HTMLView",
            "description": "",
            "description_tooltip": null,
            "layout": "IPY_MODEL_4d70fe4bc3434c3491b6d04fabd6d8b5",
            "placeholder": "​",
            "style": "IPY_MODEL_5015b20b703e4497a8ced8d546bf260c",
            "value": " 32372/32372 [00:08&lt;00:00, 4132.93 examples/s]"
          }
        },
        "bb77dacf98f74eb8853a8b58f65be22b": {
          "model_module": "@jupyter-widgets/base",
          "model_module_version": "1.2.0",
          "model_name": "LayoutModel",
          "state": {
            "_model_module": "@jupyter-widgets/base",
            "_model_module_version": "1.2.0",
            "_model_name": "LayoutModel",
            "_view_count": null,
            "_view_module": "@jupyter-widgets/base",
            "_view_module_version": "1.2.0",
            "_view_name": "LayoutView",
            "align_content": null,
            "align_items": null,
            "align_self": null,
            "border": null,
            "bottom": null,
            "display": null,
            "flex": null,
            "flex_flow": null,
            "grid_area": null,
            "grid_auto_columns": null,
            "grid_auto_flow": null,
            "grid_auto_rows": null,
            "grid_column": null,
            "grid_gap": null,
            "grid_row": null,
            "grid_template_areas": null,
            "grid_template_columns": null,
            "grid_template_rows": null,
            "height": null,
            "justify_content": null,
            "justify_items": null,
            "left": null,
            "margin": null,
            "max_height": null,
            "max_width": null,
            "min_height": null,
            "min_width": null,
            "object_fit": null,
            "object_position": null,
            "order": null,
            "overflow": null,
            "overflow_x": null,
            "overflow_y": null,
            "padding": null,
            "right": null,
            "top": null,
            "visibility": null,
            "width": null
          }
        },
        "bfc1125b055c4c6ca0ad0c005e27b914": {
          "model_module": "@jupyter-widgets/controls",
          "model_module_version": "1.5.0",
          "model_name": "HTMLModel",
          "state": {
            "_dom_classes": [],
            "_model_module": "@jupyter-widgets/controls",
            "_model_module_version": "1.5.0",
            "_model_name": "HTMLModel",
            "_view_count": null,
            "_view_module": "@jupyter-widgets/controls",
            "_view_module_version": "1.5.0",
            "_view_name": "HTMLView",
            "description": "",
            "description_tooltip": null,
            "layout": "IPY_MODEL_1cd5c26a06b44d0d82711dd3bdd36380",
            "placeholder": "​",
            "style": "IPY_MODEL_e5ab41b5048741a8853afcd3052eec8e",
            "value": " 6937/6937 [00:01&lt;00:00, 4114.95 examples/s]"
          }
        },
        "c53e5f51ed804108a00585c3010311c3": {
          "model_module": "@jupyter-widgets/controls",
          "model_module_version": "1.5.0",
          "model_name": "DescriptionStyleModel",
          "state": {
            "_model_module": "@jupyter-widgets/controls",
            "_model_module_version": "1.5.0",
            "_model_name": "DescriptionStyleModel",
            "_view_count": null,
            "_view_module": "@jupyter-widgets/base",
            "_view_module_version": "1.2.0",
            "_view_name": "StyleView",
            "description_width": ""
          }
        },
        "cf4fbbedef124a21b5d72dc98baaddd4": {
          "model_module": "@jupyter-widgets/base",
          "model_module_version": "1.2.0",
          "model_name": "LayoutModel",
          "state": {
            "_model_module": "@jupyter-widgets/base",
            "_model_module_version": "1.2.0",
            "_model_name": "LayoutModel",
            "_view_count": null,
            "_view_module": "@jupyter-widgets/base",
            "_view_module_version": "1.2.0",
            "_view_name": "LayoutView",
            "align_content": null,
            "align_items": null,
            "align_self": null,
            "border": null,
            "bottom": null,
            "display": null,
            "flex": null,
            "flex_flow": null,
            "grid_area": null,
            "grid_auto_columns": null,
            "grid_auto_flow": null,
            "grid_auto_rows": null,
            "grid_column": null,
            "grid_gap": null,
            "grid_row": null,
            "grid_template_areas": null,
            "grid_template_columns": null,
            "grid_template_rows": null,
            "height": null,
            "justify_content": null,
            "justify_items": null,
            "left": null,
            "margin": null,
            "max_height": null,
            "max_width": null,
            "min_height": null,
            "min_width": null,
            "object_fit": null,
            "object_position": null,
            "order": null,
            "overflow": null,
            "overflow_x": null,
            "overflow_y": null,
            "padding": null,
            "right": null,
            "top": null,
            "visibility": null,
            "width": null
          }
        },
        "dd6d2b8c5ec64e3bb89010a4e395646b": {
          "model_module": "@jupyter-widgets/controls",
          "model_module_version": "1.5.0",
          "model_name": "HTMLModel",
          "state": {
            "_dom_classes": [],
            "_model_module": "@jupyter-widgets/controls",
            "_model_module_version": "1.5.0",
            "_model_name": "HTMLModel",
            "_view_count": null,
            "_view_module": "@jupyter-widgets/controls",
            "_view_module_version": "1.5.0",
            "_view_name": "HTMLView",
            "description": "",
            "description_tooltip": null,
            "layout": "IPY_MODEL_cf4fbbedef124a21b5d72dc98baaddd4",
            "placeholder": "​",
            "style": "IPY_MODEL_3bd2bd2bc5d6480889afe6b2f75a29f0",
            "value": "Map: 100%"
          }
        },
        "de0f04328037421b894ada650653c19b": {
          "model_module": "@jupyter-widgets/controls",
          "model_module_version": "1.5.0",
          "model_name": "FloatProgressModel",
          "state": {
            "_dom_classes": [],
            "_model_module": "@jupyter-widgets/controls",
            "_model_module_version": "1.5.0",
            "_model_name": "FloatProgressModel",
            "_view_count": null,
            "_view_module": "@jupyter-widgets/controls",
            "_view_module_version": "1.5.0",
            "_view_name": "ProgressView",
            "bar_style": "success",
            "description": "",
            "description_tooltip": null,
            "layout": "IPY_MODEL_37da426f8d164774a1d1a29f65617fc4",
            "max": 6937,
            "min": 0,
            "orientation": "horizontal",
            "style": "IPY_MODEL_40a308e0979d4224a9835e7b11d86856",
            "value": 6937
          }
        },
        "e5ab41b5048741a8853afcd3052eec8e": {
          "model_module": "@jupyter-widgets/controls",
          "model_module_version": "1.5.0",
          "model_name": "DescriptionStyleModel",
          "state": {
            "_model_module": "@jupyter-widgets/controls",
            "_model_module_version": "1.5.0",
            "_model_name": "DescriptionStyleModel",
            "_view_count": null,
            "_view_module": "@jupyter-widgets/base",
            "_view_module_version": "1.2.0",
            "_view_name": "StyleView",
            "description_width": ""
          }
        },
        "eda21f5678f143d49b3dc3f240881133": {
          "model_module": "@jupyter-widgets/controls",
          "model_module_version": "1.5.0",
          "model_name": "HTMLModel",
          "state": {
            "_dom_classes": [],
            "_model_module": "@jupyter-widgets/controls",
            "_model_module_version": "1.5.0",
            "_model_name": "HTMLModel",
            "_view_count": null,
            "_view_module": "@jupyter-widgets/controls",
            "_view_module_version": "1.5.0",
            "_view_name": "HTMLView",
            "description": "",
            "description_tooltip": null,
            "layout": "IPY_MODEL_312a5064304a460984c31983fad28b92",
            "placeholder": "​",
            "style": "IPY_MODEL_c53e5f51ed804108a00585c3010311c3",
            "value": "Map: 100%"
          }
        },
        "f36fb5edaa6748c2b04586cf42f3afe3": {
          "model_module": "@jupyter-widgets/base",
          "model_module_version": "1.2.0",
          "model_name": "LayoutModel",
          "state": {
            "_model_module": "@jupyter-widgets/base",
            "_model_module_version": "1.2.0",
            "_model_name": "LayoutModel",
            "_view_count": null,
            "_view_module": "@jupyter-widgets/base",
            "_view_module_version": "1.2.0",
            "_view_name": "LayoutView",
            "align_content": null,
            "align_items": null,
            "align_self": null,
            "border": null,
            "bottom": null,
            "display": null,
            "flex": null,
            "flex_flow": null,
            "grid_area": null,
            "grid_auto_columns": null,
            "grid_auto_flow": null,
            "grid_auto_rows": null,
            "grid_column": null,
            "grid_gap": null,
            "grid_row": null,
            "grid_template_areas": null,
            "grid_template_columns": null,
            "grid_template_rows": null,
            "height": null,
            "justify_content": null,
            "justify_items": null,
            "left": null,
            "margin": null,
            "max_height": null,
            "max_width": null,
            "min_height": null,
            "min_width": null,
            "object_fit": null,
            "object_position": null,
            "order": null,
            "overflow": null,
            "overflow_x": null,
            "overflow_y": null,
            "padding": null,
            "right": null,
            "top": null,
            "visibility": null,
            "width": null
          }
        }
      }
    }
  },
  "nbformat": 4,
  "nbformat_minor": 5
}
