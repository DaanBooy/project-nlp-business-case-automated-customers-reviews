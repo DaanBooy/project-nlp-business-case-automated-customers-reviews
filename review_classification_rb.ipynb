{
  "cells": [
    {
      "cell_type": "markdown",
      "id": "8c4a84f5",
      "metadata": {
        "id": "8c4a84f5"
      },
      "source": [
        "## Project NLP | Business Case: Automated Customer Reviews\n",
        "Review classification file. Using roberta-base (rb)"
      ]
    },
    {
      "cell_type": "markdown",
      "id": "_JEqnxOc0gfp",
      "metadata": {
        "id": "_JEqnxOc0gfp"
      },
      "source": [
        "## Downloads"
      ]
    },
    {
      "cell_type": "code",
      "execution_count": 1,
      "id": "XYAzBp9f0ZD7",
      "metadata": {
        "colab": {
          "base_uri": "https://localhost:8080/"
        },
        "id": "XYAzBp9f0ZD7",
        "outputId": "446d7b0d-b96e-465f-e559-536d86012309"
      },
      "outputs": [
        {
          "name": "stdout",
          "output_type": "stream",
          "text": [
            "transformers: 4.55.4 | torch: 2.8.0+cu126\n"
          ]
        }
      ],
      "source": [
        "# The following downloads are needed to run this notebook\n",
        "# !pip -q install transformers datasets\n",
        "!pip -q install -U \"transformers>=4.30\" \"accelerate>=0.21\" datasets\n",
        "import transformers, torch\n",
        "print(\"transformers:\", transformers.__version__, \"| torch:\", torch.__version__)"
      ]
    },
    {
      "cell_type": "markdown",
      "id": "-Bl7BE4n0kQ4",
      "metadata": {
        "id": "-Bl7BE4n0kQ4"
      },
      "source": [
        "## Libraries"
      ]
    },
    {
      "cell_type": "code",
      "execution_count": null,
      "id": "Hq1_fwl00ZbF",
      "metadata": {
        "colab": {
          "base_uri": "https://localhost:8080/"
        },
        "id": "Hq1_fwl00ZbF",
        "outputId": "37c09901-3176-4336-9a36-aa15b1910fd2"
      },
      "outputs": [
        {
          "name": "stdout",
          "output_type": "stream",
          "text": [
            "transformers: 4.55.4\n",
            "`evaluation_strategy` in TrainingArguments?  False\n"
          ]
        }
      ],
      "source": [
        "# The following imports should be done to run this notebook\n",
        "import os, json, importlib\n",
        "import pandas as pd\n",
        "import numpy as np\n",
        "import torch\n",
        "\n",
        "from datetime import datetime\n",
        "from sklearn.metrics import classification_report\n",
        "from sklearn.model_selection import train_test_split\n",
        "from sklearn.metrics import (\n",
        "    accuracy_score,\n",
        "    precision_recall_fscore_support,\n",
        "    confusion_matrix,\n",
        ")\n",
        "\n",
        "import transformers\n",
        "import transformers.training_args as ta\n",
        "importlib.reload(transformers)\n",
        "importlib.reload(ta)\n",
        "\n",
        "from transformers.training_args import TrainingArguments\n",
        "from transformers import (\n",
        "    AutoTokenizer,\n",
        "    AutoModelForSequenceClassification,\n",
        "    Trainer,\n",
        "    DataCollatorWithPadding,\n",
        "    EarlyStoppingCallback,  \n",
        ")\n",
        "from datasets import Dataset\n",
        "\n",
        "os.environ[\"TOKENIZERS_PARALLELISM\"] = \"false\"\n",
        "\n",
        "print(\"transformers:\", transformers.__version__)\n",
        "print(\"`evaluation_strategy` in TrainingArguments? \",\n",
        "      \"evaluation_strategy\" in TrainingArguments.__init__.__code__.co_varnames)\n"
      ]
    },
    {
      "cell_type": "markdown",
      "id": "DKAKLn6i0ps6",
      "metadata": {
        "id": "DKAKLn6i0ps6"
      },
      "source": [
        "## Loading preprocessed data"
      ]
    },
    {
      "cell_type": "code",
      "execution_count": 3,
      "id": "ODk4Zt_I0aDG",
      "metadata": {
        "colab": {
          "base_uri": "https://localhost:8080/"
        },
        "id": "ODk4Zt_I0aDG",
        "outputId": "36214936-d0aa-4785-d6c9-e4d01bc53f27"
      },
      "outputs": [
        {
          "name": "stdout",
          "output_type": "stream",
          "text": [
            "Drive already mounted at /content/drive; to attempt to forcibly remount, call drive.mount(\"/content/drive\", force_remount=True).\n",
            " - sample:  46246 rows\n",
            " - config keys: ['text_col', 'label_col', 'label2id', 'max_length', 'class_counts', 'class_weights']\n"
          ]
        }
      ],
      "source": [
        "# Mounting Google Drive\n",
        "from google.colab import drive\n",
        "drive.mount('/content/drive')\n",
        "\n",
        "# Paths\n",
        "BASE = \"/content/drive/MyDrive/Project_NLP\"\n",
        "PATH_FULL   = os.path.join(BASE, \"video_games_preprocessed.parquet\")\n",
        "PATH_SAMPLE = os.path.join(BASE, \"video_games_preprocessed_sample1pct.parquet\")\n",
        "PATH_CFG    = os.path.join(BASE, \"preprocess_config.json\")\n",
        "\n",
        "# Loading\n",
        "df        = pd.read_parquet(PATH_FULL)\n",
        "df_sample = pd.read_parquet(PATH_SAMPLE)\n",
        "cfg       = json.load(open(PATH_CFG))\n",
        "\n",
        "df_use = df_sample.copy()\n",
        "\n",
        "# Checking\n",
        "print(\" - sample: \", len(df_sample), \"rows\")\n",
        "print(\" - config keys:\", list(cfg.keys()))"
      ]
    },
    {
      "cell_type": "markdown",
      "id": "CzI07aXD2oAr",
      "metadata": {
        "id": "CzI07aXD2oAr"
      },
      "source": [
        "# Splitting data set\n"
      ]
    },
    {
      "cell_type": "code",
      "execution_count": null,
      "id": "-1jpXcm38FCt",
      "metadata": {
        "colab": {
          "base_uri": "https://localhost:8080/"
        },
        "id": "-1jpXcm38FCt",
        "outputId": "49e3547d-b8ea-4485-ee9b-91b77e6cf717"
      },
      "outputs": [
        {
          "name": "stdout",
          "output_type": "stream",
          "text": [
            "WORKING DF counts:\n",
            " {'negative': 8394, 'neutral': 3401, 'positive': 34451}\n",
            "WORKING DF class_weights:\n",
            " {'negative': 1.8364704947978714, 'neutral': 4.532588454376164, 'positive': 0.4474567743558484}\n"
          ]
        }
      ],
      "source": [
        "# Just inspecting + record class stats\n",
        "label_col = cfg[\"label_col\"]\n",
        "order = [\"negative\", \"neutral\", \"positive\"]\n",
        "\n",
        "def class_stats(series, order):\n",
        "    counts = series.value_counts().reindex(order, fill_value=0)\n",
        "    weights = (counts.sum() / (len(order) * counts)).astype(float)  # inverse freq\n",
        "    return counts, weights\n",
        "\n",
        "counts_use, weights_use = class_stats(df_use[label_col], order)\n",
        "\n",
        "print(\"WORKING DF counts:\\n\", counts_use.to_dict())\n",
        "print(\"WORKING DF class_weights:\\n\", weights_use.to_dict())"
      ]
    },
    {
      "cell_type": "code",
      "execution_count": 5,
      "id": "m_vvCynfIa1M",
      "metadata": {
        "colab": {
          "base_uri": "https://localhost:8080/"
        },
        "id": "m_vvCynfIa1M",
        "outputId": "fa9ef569-9147-40be-dd30-2139990d5f33"
      },
      "outputs": [
        {
          "name": "stdout",
          "output_type": "stream",
          "text": [
            "Sizes -> train/val/test: 32372 6937 6937\n",
            "\n",
            "Class % in train:\n",
            " sentiment\n",
            "negative    18.15\n",
            "neutral      7.36\n",
            "positive    74.49\n",
            "Name: count, dtype: float64\n",
            "\n",
            "Class % in val:\n",
            " sentiment\n",
            "negative    18.15\n",
            "neutral      7.35\n",
            "positive    74.50\n",
            "Name: count, dtype: float64\n",
            "\n",
            "Class % in test:\n",
            " sentiment\n",
            "negative    18.15\n",
            "neutral      7.35\n",
            "positive    74.50\n",
            "Name: count, dtype: float64\n"
          ]
        }
      ],
      "source": [
        "# train/val/test split on the sample dataset (70/15/15)\n",
        "text_col  = cfg[\"text_col\"]\n",
        "label_col = cfg[\"label_col\"]\n",
        "order     = [\"negative\", \"neutral\", \"positive\"]\n",
        "\n",
        "train_df, tmp_df = train_test_split(\n",
        "    df_use, test_size=0.30, stratify=df_use[label_col], random_state=42\n",
        ")\n",
        "val_df, test_df = train_test_split(\n",
        "    tmp_df, test_size=0.50, stratify=tmp_df[label_col], random_state=42\n",
        ")\n",
        "\n",
        "def pct(d):\n",
        "    c = d[label_col].value_counts().reindex(order, fill_value=0)\n",
        "    return (c / c.sum() * 100).round(2)\n",
        "\n",
        "print(\"Sizes -> train/val/test:\", len(train_df), len(val_df), len(test_df))\n",
        "print(\"\\nClass % in train:\\n\", pct(train_df))\n",
        "print(\"\\nClass % in val:\\n\",   pct(val_df))\n",
        "print(\"\\nClass % in test:\\n\",  pct(test_df))"
      ]
    },
    {
      "cell_type": "markdown",
      "id": "qhe7ftQ5MyWc",
      "metadata": {
        "id": "qhe7ftQ5MyWc"
      },
      "source": [
        "As seen in preprocessing, the data set was very positive balanced. So we should rebalance the training split before we can do model training.\n",
        "\n",
        "Negative 18.15%, neutral 7.35%, positive 74.50%"
      ]
    },
    {
      "cell_type": "markdown",
      "id": "ZmmpKDl_M1Dk",
      "metadata": {
        "id": "ZmmpKDl_M1Dk"
      },
      "source": [
        "## Tokenizing for roberta base"
      ]
    },
    {
      "cell_type": "code",
      "execution_count": 6,
      "id": "BulOvP6qM0ge",
      "metadata": {
        "colab": {
          "base_uri": "https://localhost:8080/"
        },
        "id": "BulOvP6qM0ge",
        "outputId": "8db78fec-b35e-42ad-ba24-37d6bc7e1945"
      },
      "outputs": [
        {
          "name": "stdout",
          "output_type": "stream",
          "text": [
            "RB train counts: {'negative': 5876, 'neutral': 2381, 'positive': 24115}\n",
            "RB train class weights: {'negative': 1.8363966417063762, 'neutral': 4.531989360212796, 'positive': 0.4474669984103946}\n"
          ]
        }
      ],
      "source": [
        "# Setting up config for second model roberta base\n",
        "MODEL_NAME_rb  = \"roberta-base\"\n",
        "SHORT_rb       = \"rb\"                     # <- shortname for this model\n",
        "MAX_LENGTH     = 192 #cfg[\"max_length\"] trying with 192 instead of cfg value 256\n",
        "label2id       = cfg[\"label2id\"]\n",
        "text_col       = cfg[\"text_col\"]\n",
        "label_col      = cfg[\"label_col\"]\n",
        "order          = [\"negative\",\"neutral\",\"positive\"]\n",
        "\n",
        "# recompute class weights from the TRAIN split (recommended)\n",
        "train_counts_rb = train_df[label_col].value_counts().reindex(order, fill_value=0)\n",
        "train_class_weights_rb = (train_counts_rb.sum() / (len(order) * train_counts_rb)).astype(float).to_dict()\n",
        "print(\"RB train counts:\", train_counts_rb.to_dict())\n",
        "print(\"RB train class weights:\", train_class_weights_rb)\n"
      ]
    },
    {
      "cell_type": "code",
      "execution_count": 7,
      "id": "Y0kzhhdiNvrf",
      "metadata": {
        "colab": {
          "base_uri": "https://localhost:8080/"
        },
        "id": "Y0kzhhdiNvrf",
        "outputId": "3d3af06b-5bab-471d-d11a-391e8192c8d5"
      },
      "outputs": [
        {
          "name": "stdout",
          "output_type": "stream",
          "text": [
            "train_rb (32372, 2)\n",
            "val_rb (6937, 2)\n",
            "test_rb (6937, 2)\n"
          ]
        }
      ],
      "source": [
        "# Making data frames to keep only text and labels/sentiment\n",
        "def prep_for_model(df_):\n",
        "    d = df_[[text_col, label_col]].copy()\n",
        "    d[\"labels\"] = d[label_col].map(label2id).astype(\"int64\")\n",
        "    d.rename(columns={text_col: \"text\"}, inplace=True)\n",
        "    return d[[\"text\",\"labels\"]]\n",
        "\n",
        "train_p_rb = prep_for_model(train_df)\n",
        "val_p_rb   = prep_for_model(val_df)\n",
        "test_p_rb  = prep_for_model(test_df)\n",
        "\n",
        "for name, d in [(\"train_rb\", train_p_rb), (\"val_rb\", val_p_rb), (\"test_rb\", test_p_rb)]:\n",
        "    print(name, d.shape)"
      ]
    },
    {
      "cell_type": "code",
      "execution_count": 8,
      "id": "E2-vNp59N5Jv",
      "metadata": {
        "colab": {
          "base_uri": "https://localhost:8080/"
        },
        "id": "E2-vNp59N5Jv",
        "outputId": "e058e392-5a44-4328-f66a-d1df7c2e3568"
      },
      "outputs": [
        {
          "name": "stdout",
          "output_type": "stream",
          "text": [
            "Dataset({\n",
            "    features: ['text', 'labels'],\n",
            "    num_rows: 32372\n",
            "}) Dataset({\n",
            "    features: ['text', 'labels'],\n",
            "    num_rows: 6937\n",
            "}) Dataset({\n",
            "    features: ['text', 'labels'],\n",
            "    num_rows: 6937\n",
            "})\n"
          ]
        }
      ],
      "source": [
        "# Converting to datasets, should be more memory effiecient\n",
        "ds_train_rb = Dataset.from_pandas(train_p_rb, preserve_index=False)\n",
        "ds_val_rb   = Dataset.from_pandas(val_p_rb,   preserve_index=False)\n",
        "ds_test_rb  = Dataset.from_pandas(test_p_rb,  preserve_index=False)\n",
        "\n",
        "print(ds_train_rb, ds_val_rb, ds_test_rb)"
      ]
    },
    {
      "cell_type": "code",
      "execution_count": 9,
      "id": "xKS5vINGOD0f",
      "metadata": {
        "colab": {
          "base_uri": "https://localhost:8080/",
          "height": 235,
          "referenced_widgets": [
            "8f7ae80b97ac4383a4595debb3b6d2d7",
            "5ceda5f900494986a4b6aa9c2e607ba8",
            "1bd0cf87498244459698010ddfb5bbad",
            "8f0d5852e44a4382bbf4be1ece775885",
            "c8f530948ccf42ddb7983b5e451467bf",
            "c5877a14abcc454b953d9f23eea6a930",
            "9acfd0e375854d5b8812dcaf9fc8d6a8",
            "63bd362cc0204df3a3430db9569b884e",
            "1656a10783334506bad851c58000fdc7",
            "d6e82f0a9083424b88ce499d80005220",
            "f91057f9ea2547cc8d1fc605d3b19b3b",
            "bb209e631ab44717a46a9c5f17ef599a",
            "f161445899ac45b898d7d7d9f169c995",
            "3acdfa41801548258eb57c8a5b59dffe",
            "aeed7c0edf9b4f91bb3f32890f858912",
            "0ebba5e076674416bbf611ffe51f7447",
            "81a7bd3b7e8145f09f4e6485726de91f",
            "511e42dd83be4df88473231b72604608",
            "b3f4e6303c4d4f3d81deeeca8ef2f743",
            "f3b3a20d8ccd4516a919d79fe2aaff43",
            "a5f1f8fcb6994609b1a0eb894ce944fa",
            "d1e84fba8e4b4b49886575514a0a5c8d",
            "60c51a9ac4b24f4fae468a95b2ee88d9",
            "1353d167856c4525887098fa9519c208",
            "55aa2f8dcded466b97583363a6facf52",
            "42b6548a25a74162a5deb3983b952003",
            "bc14bb0f3b3f4c6181438a32b44eba68",
            "04f46ad1a157448d9df937b9743d9290",
            "4d20b79fada540ca8159d73fbac59941",
            "0084e429f02244c0a7a201a6215c1ceb",
            "9eb5ea2bfbf6475eb49ba0fb003181ce",
            "3506d834d1b84b30aa46c6d65f8b6e1e",
            "6e460117c7fd464796aefa2078d23967"
          ]
        },
        "id": "xKS5vINGOD0f",
        "outputId": "f22fa7f6-1b34-4fc8-d096-8e8a8fa66658"
      },
      "outputs": [
        {
          "name": "stderr",
          "output_type": "stream",
          "text": [
            "/usr/local/lib/python3.12/dist-packages/huggingface_hub/utils/_auth.py:94: UserWarning: \n",
            "The secret `HF_TOKEN` does not exist in your Colab secrets.\n",
            "To authenticate with the Hugging Face Hub, create a token in your settings tab (https://huggingface.co/settings/tokens), set it as secret in your Google Colab and restart your session.\n",
            "You will be able to reuse this secret in all of your notebooks.\n",
            "Please note that authentication is recommended but still optional to access public models or datasets.\n",
            "  warnings.warn(\n"
          ]
        },
        {
          "data": {
            "application/vnd.jupyter.widget-view+json": {
              "model_id": "8f7ae80b97ac4383a4595debb3b6d2d7",
              "version_major": 2,
              "version_minor": 0
            },
            "text/plain": [
              "Map:   0%|          | 0/32372 [00:00<?, ? examples/s]"
            ]
          },
          "metadata": {},
          "output_type": "display_data"
        },
        {
          "data": {
            "application/vnd.jupyter.widget-view+json": {
              "model_id": "bb209e631ab44717a46a9c5f17ef599a",
              "version_major": 2,
              "version_minor": 0
            },
            "text/plain": [
              "Map:   0%|          | 0/6937 [00:00<?, ? examples/s]"
            ]
          },
          "metadata": {},
          "output_type": "display_data"
        },
        {
          "data": {
            "application/vnd.jupyter.widget-view+json": {
              "model_id": "60c51a9ac4b24f4fae468a95b2ee88d9",
              "version_major": 2,
              "version_minor": 0
            },
            "text/plain": [
              "Map:   0%|          | 0/6937 [00:00<?, ? examples/s]"
            ]
          },
          "metadata": {},
          "output_type": "display_data"
        },
        {
          "name": "stdout",
          "output_type": "stream",
          "text": [
            "Tokenized (rb): 32372 6937 6937\n"
          ]
        }
      ],
      "source": [
        "# Load tokenizer and tokenize, see note if ram issues\n",
        "tokenizer_rb = AutoTokenizer.from_pretrained(MODEL_NAME_rb)\n",
        "def tok_fn_rb(batch):\n",
        "    return tokenizer_rb(\n",
        "        batch[\"text\"],\n",
        "        truncation=True,\n",
        "        max_length=MAX_LENGTH,\n",
        "        padding=False,                 # dynamic padding via collator\n",
        "        return_attention_mask=True,\n",
        "    )\n",
        "\n",
        "# NOTE: Tokenizing the FULL dataset is heavy in Colab.\n",
        "# If you hit RAM/time issues, try first with a subset by uncommenting:\n",
        "# ds_train_rb = ds_train.select(range(200_000))  # e.g., first 200k for a dry run\n",
        "\n",
        "ds_train_tok_rb = ds_train_rb.map(tok_fn_rb, batched=True, remove_columns=[\"text\"])\n",
        "ds_val_tok_rb  = ds_val_rb.map(tok_fn_rb,     batched=True, remove_columns=[\"text\"])\n",
        "ds_test_tok_rb = ds_test_rb.map(tok_fn_rb,    batched=True, remove_columns=[\"text\"])\n",
        "\n",
        "print(\"Tokenized (rb):\", len(ds_train_tok_rb), len(ds_val_tok_rb), len(ds_test_tok_rb))\n"
      ]
    },
    {
      "cell_type": "code",
      "execution_count": 10,
      "id": "I0V90Uf7PH8U",
      "metadata": {
        "colab": {
          "base_uri": "https://localhost:8080/"
        },
        "id": "I0V90Uf7PH8U",
        "outputId": "09b08afa-80fc-4868-b177-c9742e75b132"
      },
      "outputs": [
        {
          "name": "stdout",
          "output_type": "stream",
          "text": [
            "RB example keys: dict_keys(['labels', 'input_ids', 'attention_mask']) | input_ids length: 3\n"
          ]
        }
      ],
      "source": [
        "# Setting PyTorch format\n",
        "ds_train_tok_rb.set_format(type=\"torch\")\n",
        "ds_val_tok_rb.set_format(type=\"torch\")\n",
        "ds_test_tok_rb.set_format(type=\"torch\")\n",
        "\n",
        "data_collator_rb = DataCollatorWithPadding(tokenizer=tokenizer_rb, padding=\"longest\")\n",
        "\n",
        "ex = ds_train_tok_rb[0]\n",
        "print(\"RB example keys:\", ex.keys(), \"| input_ids length:\", len(ex[\"input_ids\"]))"
      ]
    },
    {
      "cell_type": "markdown",
      "id": "8psEiwv6lTCg",
      "metadata": {
        "id": "8psEiwv6lTCg"
      },
      "source": [
        "## Model training w/ roberta base"
      ]
    },
    {
      "cell_type": "code",
      "execution_count": 11,
      "id": "auwpFMr6lbzn",
      "metadata": {
        "colab": {
          "base_uri": "https://localhost:8080/"
        },
        "id": "auwpFMr6lbzn",
        "outputId": "be5ef17d-909f-4d36-930b-79d1b09efee6"
      },
      "outputs": [
        {
          "name": "stderr",
          "output_type": "stream",
          "text": [
            "Some weights of RobertaForSequenceClassification were not initialized from the model checkpoint at roberta-base and are newly initialized: ['classifier.dense.bias', 'classifier.dense.weight', 'classifier.out_proj.bias', 'classifier.out_proj.weight']\n",
            "You should probably TRAIN this model on a down-stream task to be able to use it for predictions and inference.\n"
          ]
        }
      ],
      "source": [
        "# Label maps\n",
        "id2label = {0: \"negative\", 1: \"neutral\", 2: \"positive\"}\n",
        "label2id = {\"negative\": 0, \"neutral\": 1, \"positive\": 2}\n",
        "\n",
        "# Model\n",
        "model_rb = AutoModelForSequenceClassification.from_pretrained(\n",
        "    MODEL_NAME_rb,\n",
        "    num_labels=3,\n",
        "    id2label=id2label,\n",
        "    label2id=label2id,\n",
        ")\n",
        "\n",
        "def compute_metrics_rb(eval_pred):\n",
        "    logits, labels = eval_pred\n",
        "    preds = np.argmax(logits, axis=-1)\n",
        "    acc = accuracy_score(labels, preds)\n",
        "    p_macro, r_macro, f1_macro, _ = precision_recall_fscore_support(\n",
        "        labels, preds, average=\"macro\", zero_division=0\n",
        "    )\n",
        "    return {\"accuracy\": acc, \"f1_macro\": f1_macro, \"precision_macro\": p_macro, \"recall_macro\": r_macro}"
      ]
    },
    {
      "cell_type": "code",
      "execution_count": 12,
      "id": "czuDunO_lkgp",
      "metadata": {
        "colab": {
          "base_uri": "https://localhost:8080/"
        },
        "id": "czuDunO_lkgp",
        "outputId": "35a874c3-22e0-4018-a1e9-08c9c7728a09"
      },
      "outputs": [
        {
          "name": "stdout",
          "output_type": "stream",
          "text": [
            "class weights used (neg, neu, pos): [1.8363966941833496, 7.704381942749023, 0.44746699929237366]\n"
          ]
        }
      ],
      "source": [
        "# Class weighted training to handle that the training test is imbalanced\n",
        "label_order = [\"negative\", \"neutral\", \"positive\"]\n",
        "\n",
        "# copy current class weights in the train split\n",
        "w = {k: train_class_weights_rb[k] for k in label_order}\n",
        "\n",
        "# boost neutral\n",
        "w[\"neutral\"] *= 1.7\n",
        "\n",
        "# checking weight used\n",
        "weight_tensor_rb = torch.tensor([w[k] for k in label_order], dtype=torch.float32)\n",
        "print(\"class weights used (neg, neu, pos):\", [float(x) for x in weight_tensor_rb])\n",
        "\n",
        "class WeightedTrainerRB(Trainer):\n",
        "    # accept extra kwargs from new Trainer (e.g., num_items_in_batch) to stay future-proof\n",
        "    def compute_loss(self, model, inputs, return_outputs=False, **kwargs):\n",
        "        labels = inputs.pop(\"labels\")\n",
        "        # make sure labels are correct dtype for CE loss\n",
        "        if labels.dtype != torch.long:\n",
        "            labels = labels.long()\n",
        "\n",
        "        outputs = model(**inputs)\n",
        "        logits = outputs.logits\n",
        "\n",
        "        loss_fct = torch.nn.CrossEntropyLoss(\n",
        "            weight=weight_tensor_rb.to(logits.device)\n",
        "        )\n",
        "        loss = loss_fct(logits, labels)\n",
        "\n",
        "        return (loss, outputs) if return_outputs else loss"
      ]
    },
    {
      "cell_type": "code",
      "execution_count": 13,
      "id": "sLdxKL5VlsyD",
      "metadata": {
        "colab": {
          "base_uri": "https://localhost:8080/"
        },
        "id": "sLdxKL5VlsyD",
        "outputId": "4442d2b1-8a27-4ee6-992a-e50393cc1d99"
      },
      "outputs": [
        {
          "name": "stdout",
          "output_type": "stream",
          "text": [
            "[TrainingArguments] Using modern API (eval/save='epoch').\n",
            "Has 'evaluation_strategy': False\n",
            "Has 'load_best_model_at_end': True\n"
          ]
        }
      ],
      "source": [
        "# Setting training arguments\n",
        "import importlib, transformers\n",
        "importlib.reload(transformers)\n",
        "from transformers.training_args import TrainingArguments\n",
        "\n",
        "def make_training_args_rb(output_dir=f\"runs_{SHORT_rb}\"):\n",
        "    \"\"\"\n",
        "    Build TrainingArguments with a compatibility shim:\n",
        "    - Attempt A: modern API (>=3.x): eval/save 'epoch' + best model at end\n",
        "    - Attempt B: fallback (very old API): no eval during training,\n",
        "      no 'best model at end' (avoids the mismatch error).\n",
        "    \"\"\"\n",
        "    # ---- Base hyperparams (tuned for the SAMPLE split) ----\n",
        "    base = dict(\n",
        "        output_dir=output_dir,\n",
        "\n",
        "        # Optimization\n",
        "        learning_rate=2e-5,\n",
        "        weight_decay=0.01,\n",
        "\n",
        "        # Batching (effective train batch ≈ 16 * 2 = 32)\n",
        "        per_device_train_batch_size=16,\n",
        "        per_device_eval_batch_size=32,\n",
        "        gradient_accumulation_steps=2,\n",
        "\n",
        "        # Train length on SAMPLE\n",
        "        num_train_epochs=3,\n",
        "\n",
        "        # Logging\n",
        "        logging_strategy=\"steps\",\n",
        "        logging_steps=100,\n",
        "\n",
        "        # Mixed precision\n",
        "        fp16=True,\n",
        "\n",
        "        # Keep disk tidy & avoid external loggers by default\n",
        "        save_total_limit=2,\n",
        "        report_to=\"none\",\n",
        "    )\n",
        "\n",
        "    # ---- Attempt A: modern API (eval/save must MATCH) ----\n",
        "    try:\n",
        "        args = TrainingArguments(\n",
        "            **base,\n",
        "            eval_strategy=\"epoch\",\n",
        "            save_strategy=\"epoch\",\n",
        "            load_best_model_at_end=True,\n",
        "            metric_for_best_model=\"f1_macro\",\n",
        "            greater_is_better=True,\n",
        "        )\n",
        "        print(\"[TrainingArguments] Using modern API (eval/save='epoch').\")\n",
        "        return args\n",
        "    except TypeError as e:\n",
        "        print(\"[TrainingArguments] Modern API not supported:\", e)\n",
        "\n",
        "    # ---- Attempt B: minimal fallback (NO eval during training) ----\n",
        "    # Remove modern-only fields and DISABLE 'best model at end'\n",
        "    base_min = dict(base)\n",
        "    base_min.pop(\"logging_strategy\", None)   # some very old builds don't have this\n",
        "    args = TrainingArguments(\n",
        "        **base_min,\n",
        "        # No evaluation during training in this fallback\n",
        "        load_best_model_at_end=False,  # <- avoids the mismatch error\n",
        "        # Don't set evaluation_strategy/save_strategy here\n",
        "    )\n",
        "    print(\"[TrainingArguments] Using minimal fallback (no eval during training; no best model at end).\")\n",
        "    return args\n",
        "\n",
        "# Build args and quick sanity check\n",
        "args_rb = make_training_args_rb(f\"runs_{SHORT_rb}\")\n",
        "print(\"Has 'evaluation_strategy':\", hasattr(args_rb, \"evaluation_strategy\"))\n",
        "print(\"Has 'load_best_model_at_end':\", getattr(args_rb, \"load_best_model_at_end\", None))\n"
      ]
    },
    {
      "cell_type": "code",
      "execution_count": null,
      "id": "jz_A7gG9lzPX",
      "metadata": {
        "colab": {
          "base_uri": "https://localhost:8080/",
          "height": 170
        },
        "id": "jz_A7gG9lzPX",
        "outputId": "e9a4e5c2-102b-403f-97fa-aadd4fcb63a5"
      },
      "outputs": [
        {
          "data": {
            "text/html": [
              "\n",
              "    <div>\n",
              "      \n",
              "      <progress value='3036' max='3036' style='width:300px; height:20px; vertical-align: middle;'></progress>\n",
              "      [3036/3036 14:06, Epoch 3/3]\n",
              "    </div>\n",
              "    <table border=\"1\" class=\"dataframe\">\n",
              "  <thead>\n",
              " <tr style=\"text-align: left;\">\n",
              "      <th>Epoch</th>\n",
              "      <th>Training Loss</th>\n",
              "      <th>Validation Loss</th>\n",
              "      <th>Accuracy</th>\n",
              "      <th>F1 Macro</th>\n",
              "      <th>Precision Macro</th>\n",
              "      <th>Recall Macro</th>\n",
              "    </tr>\n",
              "  </thead>\n",
              "  <tbody>\n",
              "    <tr>\n",
              "      <td>1</td>\n",
              "      <td>0.585400</td>\n",
              "      <td>0.607373</td>\n",
              "      <td>0.858440</td>\n",
              "      <td>0.721581</td>\n",
              "      <td>0.703093</td>\n",
              "      <td>0.765218</td>\n",
              "    </tr>\n",
              "    <tr>\n",
              "      <td>2</td>\n",
              "      <td>0.499500</td>\n",
              "      <td>0.626207</td>\n",
              "      <td>0.866657</td>\n",
              "      <td>0.728978</td>\n",
              "      <td>0.707207</td>\n",
              "      <td>0.771167</td>\n",
              "    </tr>\n",
              "    <tr>\n",
              "      <td>3</td>\n",
              "      <td>0.418500</td>\n",
              "      <td>0.719765</td>\n",
              "      <td>0.880208</td>\n",
              "      <td>0.742652</td>\n",
              "      <td>0.726964</td>\n",
              "      <td>0.772990</td>\n",
              "    </tr>\n",
              "  </tbody>\n",
              "</table><p>"
            ],
            "text/plain": [
              "<IPython.core.display.HTML object>"
            ]
          },
          "metadata": {},
          "output_type": "display_data"
        }
      ],
      "source": [
        "# Training\n",
        "trainer_rb = WeightedTrainerRB(\n",
        "    model=model_rb,\n",
        "    args=args_rb,                       # from builder\n",
        "    train_dataset=ds_train_tok_rb,\n",
        "    eval_dataset=ds_val_tok_rb,         # optional; used when you call evaluate()\n",
        "    processing_class=tokenizer_rb,      # replaces deprecated tokenizer=\n",
        "    data_collator=data_collator_rb,\n",
        "    compute_metrics=compute_metrics_rb,\n",
        ")\n",
        "\n",
        "train_result_rb = trainer_rb.train()\n"
      ]
    },
    {
      "cell_type": "code",
      "execution_count": null,
      "id": "04rpC-bbmObp",
      "metadata": {
        "colab": {
          "base_uri": "https://localhost:8080/",
          "height": 315
        },
        "id": "04rpC-bbmObp",
        "outputId": "879d5150-e909-44cb-9486-78820e8177e0"
      },
      "outputs": [
        {
          "data": {
            "text/html": [],
            "text/plain": [
              "<IPython.core.display.HTML object>"
            ]
          },
          "metadata": {},
          "output_type": "display_data"
        },
        {
          "name": "stdout",
          "output_type": "stream",
          "text": [
            "VAL (rb): {'eval_loss': 0.7197648286819458, 'eval_accuracy': 0.8802075825284705, 'eval_f1_macro': 0.7426517164510611, 'eval_precision_macro': 0.7269643251303889, 'eval_recall_macro': 0.7729895765281852, 'eval_runtime': 15.4772, 'eval_samples_per_second': 448.207, 'eval_steps_per_second': 14.021, 'epoch': 3.0}\n",
            "TEST (rb): {'test_loss': 0.7547275424003601, 'test_accuracy': 0.8784777281245495, 'test_f1_macro': 0.7413278015447077, 'test_precision_macro': 0.7251222581474663, 'test_recall_macro': 0.774336640652387, 'test_runtime': 15.6692, 'test_samples_per_second': 442.717, 'test_steps_per_second': 13.849, 'epoch': 3.0}\n",
            "              precision    recall  f1-score   support\n",
            "\n",
            "    negative      0.840     0.828     0.834      1259\n",
            "     neutral      0.361     0.575     0.443       510\n",
            "    positive      0.974     0.921     0.947      5168\n",
            "\n",
            "    accuracy                          0.878      6937\n",
            "   macro avg      0.725     0.774     0.741      6937\n",
            "weighted avg      0.905     0.878     0.889      6937\n",
            "\n",
            "Confusion matrix (rows=true, cols=pred):\n",
            " [[1042  182   35]\n",
            " [ 126  293   91]\n",
            " [  72  337 4759]]\n"
          ]
        }
      ],
      "source": [
        "# Validation metrics\n",
        "val_metrics_rb  = trainer_rb.evaluate(ds_val_tok_rb)\n",
        "print(\"VAL (rb):\",  val_metrics_rb)\n",
        "\n",
        "test_metrics_rb = trainer_rb.evaluate(ds_test_tok_rb, metric_key_prefix=\"test\")\n",
        "print(\"TEST (rb):\", test_metrics_rb)\n",
        "\n",
        "pred = trainer_rb.predict(ds_test_tok_rb)\n",
        "y_true = pred.label_ids\n",
        "y_pred = pred.predictions.argmax(axis=-1)\n",
        "\n",
        "print(classification_report(y_true, y_pred,\n",
        "                            target_names=[\"negative\",\"neutral\",\"positive\"],\n",
        "                            digits=3))\n",
        "print(\"Confusion matrix (rows=true, cols=pred):\\n\",\n",
        "      confusion_matrix(y_true, y_pred, labels=[0,1,2]))\n"
      ]
    },
    {
      "cell_type": "markdown",
      "id": "v4W3BPRYL6Yi",
      "metadata": {
        "id": "v4W3BPRYL6Yi"
      },
      "source": [
        "## Saving model"
      ]
    },
    {
      "cell_type": "code",
      "execution_count": 19,
      "id": "BESVK6uJL6LV",
      "metadata": {
        "colab": {
          "base_uri": "https://localhost:8080/"
        },
        "id": "BESVK6uJL6LV",
        "outputId": "56e93f99-8716-4cd8-d8ad-b22dda763ca3"
      },
      "outputs": [
        {
          "name": "stdout",
          "output_type": "stream",
          "text": [
            "Saving to: /content/drive/MyDrive/Project_NLP/models/rb_sample_e3_lr2e-5_wNeutral1p7_len192\n"
          ]
        }
      ],
      "source": [
        "# saving too google drive\n",
        "BASE_SAVE = \"/content/drive/MyDrive/Project_NLP/models\"\n",
        "RUN_TAG   = \"rb_sample_e3_lr2e-5_wNeutral1p7_len192\"\n",
        "SAVE_DIR  = f\"{BASE_SAVE}/{RUN_TAG}\"\n",
        "\n",
        "import os, json, datetime, numpy as np\n",
        "os.makedirs(SAVE_DIR, exist_ok=True)\n",
        "print(\"Saving to:\", SAVE_DIR)\n"
      ]
    },
    {
      "cell_type": "code",
      "execution_count": 20,
      "id": "_G_bHC2PMSE6",
      "metadata": {
        "colab": {
          "base_uri": "https://localhost:8080/"
        },
        "id": "_G_bHC2PMSE6",
        "outputId": "65aa423f-92d7-428a-d583-6d6698645dd9"
      },
      "outputs": [
        {
          "data": {
            "text/plain": [
              "('/content/drive/MyDrive/Project_NLP/models/rb_sample_e3_lr2e-5_wNeutral1p7_len192/tokenizer_config.json',\n",
              " '/content/drive/MyDrive/Project_NLP/models/rb_sample_e3_lr2e-5_wNeutral1p7_len192/special_tokens_map.json',\n",
              " '/content/drive/MyDrive/Project_NLP/models/rb_sample_e3_lr2e-5_wNeutral1p7_len192/vocab.json',\n",
              " '/content/drive/MyDrive/Project_NLP/models/rb_sample_e3_lr2e-5_wNeutral1p7_len192/merges.txt',\n",
              " '/content/drive/MyDrive/Project_NLP/models/rb_sample_e3_lr2e-5_wNeutral1p7_len192/added_tokens.json',\n",
              " '/content/drive/MyDrive/Project_NLP/models/rb_sample_e3_lr2e-5_wNeutral1p7_len192/tokenizer.json')"
            ]
          },
          "execution_count": 20,
          "metadata": {},
          "output_type": "execute_result"
        }
      ],
      "source": [
        "# Model + tokenizer\n",
        "trainer_rb.save_model(SAVE_DIR)\n",
        "tokenizer_rb.save_pretrained(SAVE_DIR)"
      ]
    },
    {
      "cell_type": "code",
      "execution_count": null,
      "id": "MGmRaPJMM_Yb",
      "metadata": {
        "colab": {
          "base_uri": "https://localhost:8080/"
        },
        "id": "MGmRaPJMM_Yb",
        "outputId": "74419cee-2a19-4b59-eb55-b5e137355d07"
      },
      "outputs": [
        {
          "name": "stdout",
          "output_type": "stream",
          "text": [
            "Writing metrics & reports to: /content/drive/MyDrive/Project_NLP/runs/rb_sample_e3_lr2e-5_wNeutral1p7_len192\n",
            "Saved: metrics.json, classification_report.csv, confusion_matrix.csv, preds_test.csv, run_summary.json\n"
          ]
        }
      ],
      "source": [
        "# Puting all diagnostics beside model, but in a separate \"runs\" area\n",
        "RUNS_BASE = \"/content/drive/MyDrive/Project_NLP/runs\"\n",
        "RUN_DIR    = f\"{RUNS_BASE}/{RUN_TAG}\"\n",
        "os.makedirs(RUN_DIR, exist_ok=True)\n",
        "print(\"Writing metrics & reports to:\", RUN_DIR)\n",
        "\n",
        "# 1) raw val/test metrics → JSON\n",
        "with open(f\"{RUN_DIR}/metrics.json\", \"w\") as f:\n",
        "    json.dump(\n",
        "        {\n",
        "            \"val\":  val_metrics_rb,     # from trainer_rb.evaluate(ds_val_tok_rb)\n",
        "            \"test\": test_metrics_rb,    # from trainer_rb.evaluate(ds_test_tok_rb, metric_key_prefix=\"test\")\n",
        "        },\n",
        "        f,\n",
        "        indent=2\n",
        "    )\n",
        "\n",
        "# 2) classification report → CSV\n",
        "label_order = [\"negative\", \"neutral\", \"positive\"]\n",
        "rep_dict = classification_report(\n",
        "    y_true, y_pred, target_names=label_order, output_dict=True, digits=3\n",
        ")\n",
        "pd.DataFrame(rep_dict).T.to_csv(f\"{RUN_DIR}/classification_report.csv\")\n",
        "\n",
        "# 3) confusion matrix → CSV\n",
        "cm = confusion_matrix(y_true, y_pred, labels=[0, 1, 2])\n",
        "pd.DataFrame(\n",
        "    cm,\n",
        "    index=[f\"true_{l}\" for l in label_order],\n",
        "    columns=[f\"pred_{l}\" for l in label_order],\n",
        ").to_csv(f\"{RUN_DIR}/confusion_matrix.csv\")\n",
        "\n",
        "# 4) test-set predictions → CSV\n",
        "pd.DataFrame({\"y_true\": y_true, \"y_pred\": y_pred}).to_csv(\n",
        "    f\"{RUN_DIR}/preds_test.csv\", index=False\n",
        ")\n",
        "\n",
        "# 5) compact run summary (to remember how it was trained) → JSON\n",
        "summary = {\n",
        "    \"run_tag\": RUN_TAG,\n",
        "    \"model_path\": SAVE_DIR,\n",
        "    \"model_name\": MODEL_NAME_rb,            \n",
        "    \"max_length\": MAX_LENGTH,\n",
        "    \"epochs\": getattr(args_rb, \"num_train_epochs\", None),\n",
        "    \"learning_rate\": getattr(args_rb, \"learning_rate\", None),\n",
        "    \"train_sizes\": {\n",
        "        \"train\": len(ds_train_tok_rb),\n",
        "        \"val\":   len(ds_val_tok_rb),\n",
        "        \"test\":  len(ds_test_tok_rb),\n",
        "    },\n",
        "    # if you used class weights:\n",
        "    \"class_weights_used\": (\n",
        "        [float(x) for x in weight_tensor_rb.tolist()]\n",
        "        if \"weight_tensor_rb\" in globals() else None\n",
        "    ),\n",
        "    \"notes\": \"rb on SAMPLE; neutral boosted ×1.6\",\n",
        "}\n",
        "with open(f\"{RUN_DIR}/run_summary.json\", \"w\") as f:\n",
        "    json.dump(summary, f, indent=2)\n",
        "\n",
        "print(\"Saved: metrics.json, classification_report.csv, confusion_matrix.csv, preds_test.csv, run_summary.json\")\n",
        "\n"
      ]
    }
  ],
  "metadata": {
    "accelerator": "GPU",
    "colab": {
      "gpuType": "T4",
      "machine_shape": "hm",
      "provenance": []
    },
    "kernelspec": {
      "display_name": "Python 3",
      "name": "python3"
    },
    "language_info": {
      "name": "python"
    },
    "widgets": {
      "application/vnd.jupyter.widget-state+json": {
        "0084e429f02244c0a7a201a6215c1ceb": {
          "model_module": "@jupyter-widgets/base",
          "model_module_version": "1.2.0",
          "model_name": "LayoutModel",
          "state": {
            "_model_module": "@jupyter-widgets/base",
            "_model_module_version": "1.2.0",
            "_model_name": "LayoutModel",
            "_view_count": null,
            "_view_module": "@jupyter-widgets/base",
            "_view_module_version": "1.2.0",
            "_view_name": "LayoutView",
            "align_content": null,
            "align_items": null,
            "align_self": null,
            "border": null,
            "bottom": null,
            "display": null,
            "flex": null,
            "flex_flow": null,
            "grid_area": null,
            "grid_auto_columns": null,
            "grid_auto_flow": null,
            "grid_auto_rows": null,
            "grid_column": null,
            "grid_gap": null,
            "grid_row": null,
            "grid_template_areas": null,
            "grid_template_columns": null,
            "grid_template_rows": null,
            "height": null,
            "justify_content": null,
            "justify_items": null,
            "left": null,
            "margin": null,
            "max_height": null,
            "max_width": null,
            "min_height": null,
            "min_width": null,
            "object_fit": null,
            "object_position": null,
            "order": null,
            "overflow": null,
            "overflow_x": null,
            "overflow_y": null,
            "padding": null,
            "right": null,
            "top": null,
            "visibility": null,
            "width": null
          }
        },
        "04f46ad1a157448d9df937b9743d9290": {
          "model_module": "@jupyter-widgets/base",
          "model_module_version": "1.2.0",
          "model_name": "LayoutModel",
          "state": {
            "_model_module": "@jupyter-widgets/base",
            "_model_module_version": "1.2.0",
            "_model_name": "LayoutModel",
            "_view_count": null,
            "_view_module": "@jupyter-widgets/base",
            "_view_module_version": "1.2.0",
            "_view_name": "LayoutView",
            "align_content": null,
            "align_items": null,
            "align_self": null,
            "border": null,
            "bottom": null,
            "display": null,
            "flex": null,
            "flex_flow": null,
            "grid_area": null,
            "grid_auto_columns": null,
            "grid_auto_flow": null,
            "grid_auto_rows": null,
            "grid_column": null,
            "grid_gap": null,
            "grid_row": null,
            "grid_template_areas": null,
            "grid_template_columns": null,
            "grid_template_rows": null,
            "height": null,
            "justify_content": null,
            "justify_items": null,
            "left": null,
            "margin": null,
            "max_height": null,
            "max_width": null,
            "min_height": null,
            "min_width": null,
            "object_fit": null,
            "object_position": null,
            "order": null,
            "overflow": null,
            "overflow_x": null,
            "overflow_y": null,
            "padding": null,
            "right": null,
            "top": null,
            "visibility": null,
            "width": null
          }
        },
        "0ebba5e076674416bbf611ffe51f7447": {
          "model_module": "@jupyter-widgets/base",
          "model_module_version": "1.2.0",
          "model_name": "LayoutModel",
          "state": {
            "_model_module": "@jupyter-widgets/base",
            "_model_module_version": "1.2.0",
            "_model_name": "LayoutModel",
            "_view_count": null,
            "_view_module": "@jupyter-widgets/base",
            "_view_module_version": "1.2.0",
            "_view_name": "LayoutView",
            "align_content": null,
            "align_items": null,
            "align_self": null,
            "border": null,
            "bottom": null,
            "display": null,
            "flex": null,
            "flex_flow": null,
            "grid_area": null,
            "grid_auto_columns": null,
            "grid_auto_flow": null,
            "grid_auto_rows": null,
            "grid_column": null,
            "grid_gap": null,
            "grid_row": null,
            "grid_template_areas": null,
            "grid_template_columns": null,
            "grid_template_rows": null,
            "height": null,
            "justify_content": null,
            "justify_items": null,
            "left": null,
            "margin": null,
            "max_height": null,
            "max_width": null,
            "min_height": null,
            "min_width": null,
            "object_fit": null,
            "object_position": null,
            "order": null,
            "overflow": null,
            "overflow_x": null,
            "overflow_y": null,
            "padding": null,
            "right": null,
            "top": null,
            "visibility": null,
            "width": null
          }
        },
        "1353d167856c4525887098fa9519c208": {
          "model_module": "@jupyter-widgets/controls",
          "model_module_version": "1.5.0",
          "model_name": "HTMLModel",
          "state": {
            "_dom_classes": [],
            "_model_module": "@jupyter-widgets/controls",
            "_model_module_version": "1.5.0",
            "_model_name": "HTMLModel",
            "_view_count": null,
            "_view_module": "@jupyter-widgets/controls",
            "_view_module_version": "1.5.0",
            "_view_name": "HTMLView",
            "description": "",
            "description_tooltip": null,
            "layout": "IPY_MODEL_04f46ad1a157448d9df937b9743d9290",
            "placeholder": "​",
            "style": "IPY_MODEL_4d20b79fada540ca8159d73fbac59941",
            "value": "Map: 100%"
          }
        },
        "1656a10783334506bad851c58000fdc7": {
          "model_module": "@jupyter-widgets/controls",
          "model_module_version": "1.5.0",
          "model_name": "ProgressStyleModel",
          "state": {
            "_model_module": "@jupyter-widgets/controls",
            "_model_module_version": "1.5.0",
            "_model_name": "ProgressStyleModel",
            "_view_count": null,
            "_view_module": "@jupyter-widgets/base",
            "_view_module_version": "1.2.0",
            "_view_name": "StyleView",
            "bar_color": null,
            "description_width": ""
          }
        },
        "1bd0cf87498244459698010ddfb5bbad": {
          "model_module": "@jupyter-widgets/controls",
          "model_module_version": "1.5.0",
          "model_name": "FloatProgressModel",
          "state": {
            "_dom_classes": [],
            "_model_module": "@jupyter-widgets/controls",
            "_model_module_version": "1.5.0",
            "_model_name": "FloatProgressModel",
            "_view_count": null,
            "_view_module": "@jupyter-widgets/controls",
            "_view_module_version": "1.5.0",
            "_view_name": "ProgressView",
            "bar_style": "success",
            "description": "",
            "description_tooltip": null,
            "layout": "IPY_MODEL_63bd362cc0204df3a3430db9569b884e",
            "max": 32372,
            "min": 0,
            "orientation": "horizontal",
            "style": "IPY_MODEL_1656a10783334506bad851c58000fdc7",
            "value": 32372
          }
        },
        "3506d834d1b84b30aa46c6d65f8b6e1e": {
          "model_module": "@jupyter-widgets/base",
          "model_module_version": "1.2.0",
          "model_name": "LayoutModel",
          "state": {
            "_model_module": "@jupyter-widgets/base",
            "_model_module_version": "1.2.0",
            "_model_name": "LayoutModel",
            "_view_count": null,
            "_view_module": "@jupyter-widgets/base",
            "_view_module_version": "1.2.0",
            "_view_name": "LayoutView",
            "align_content": null,
            "align_items": null,
            "align_self": null,
            "border": null,
            "bottom": null,
            "display": null,
            "flex": null,
            "flex_flow": null,
            "grid_area": null,
            "grid_auto_columns": null,
            "grid_auto_flow": null,
            "grid_auto_rows": null,
            "grid_column": null,
            "grid_gap": null,
            "grid_row": null,
            "grid_template_areas": null,
            "grid_template_columns": null,
            "grid_template_rows": null,
            "height": null,
            "justify_content": null,
            "justify_items": null,
            "left": null,
            "margin": null,
            "max_height": null,
            "max_width": null,
            "min_height": null,
            "min_width": null,
            "object_fit": null,
            "object_position": null,
            "order": null,
            "overflow": null,
            "overflow_x": null,
            "overflow_y": null,
            "padding": null,
            "right": null,
            "top": null,
            "visibility": null,
            "width": null
          }
        },
        "3acdfa41801548258eb57c8a5b59dffe": {
          "model_module": "@jupyter-widgets/controls",
          "model_module_version": "1.5.0",
          "model_name": "FloatProgressModel",
          "state": {
            "_dom_classes": [],
            "_model_module": "@jupyter-widgets/controls",
            "_model_module_version": "1.5.0",
            "_model_name": "FloatProgressModel",
            "_view_count": null,
            "_view_module": "@jupyter-widgets/controls",
            "_view_module_version": "1.5.0",
            "_view_name": "ProgressView",
            "bar_style": "success",
            "description": "",
            "description_tooltip": null,
            "layout": "IPY_MODEL_b3f4e6303c4d4f3d81deeeca8ef2f743",
            "max": 6937,
            "min": 0,
            "orientation": "horizontal",
            "style": "IPY_MODEL_f3b3a20d8ccd4516a919d79fe2aaff43",
            "value": 6937
          }
        },
        "42b6548a25a74162a5deb3983b952003": {
          "model_module": "@jupyter-widgets/controls",
          "model_module_version": "1.5.0",
          "model_name": "HTMLModel",
          "state": {
            "_dom_classes": [],
            "_model_module": "@jupyter-widgets/controls",
            "_model_module_version": "1.5.0",
            "_model_name": "HTMLModel",
            "_view_count": null,
            "_view_module": "@jupyter-widgets/controls",
            "_view_module_version": "1.5.0",
            "_view_name": "HTMLView",
            "description": "",
            "description_tooltip": null,
            "layout": "IPY_MODEL_3506d834d1b84b30aa46c6d65f8b6e1e",
            "placeholder": "​",
            "style": "IPY_MODEL_6e460117c7fd464796aefa2078d23967",
            "value": " 6937/6937 [00:01&lt;00:00, 4916.02 examples/s]"
          }
        },
        "4d20b79fada540ca8159d73fbac59941": {
          "model_module": "@jupyter-widgets/controls",
          "model_module_version": "1.5.0",
          "model_name": "DescriptionStyleModel",
          "state": {
            "_model_module": "@jupyter-widgets/controls",
            "_model_module_version": "1.5.0",
            "_model_name": "DescriptionStyleModel",
            "_view_count": null,
            "_view_module": "@jupyter-widgets/base",
            "_view_module_version": "1.2.0",
            "_view_name": "StyleView",
            "description_width": ""
          }
        },
        "511e42dd83be4df88473231b72604608": {
          "model_module": "@jupyter-widgets/controls",
          "model_module_version": "1.5.0",
          "model_name": "DescriptionStyleModel",
          "state": {
            "_model_module": "@jupyter-widgets/controls",
            "_model_module_version": "1.5.0",
            "_model_name": "DescriptionStyleModel",
            "_view_count": null,
            "_view_module": "@jupyter-widgets/base",
            "_view_module_version": "1.2.0",
            "_view_name": "StyleView",
            "description_width": ""
          }
        },
        "55aa2f8dcded466b97583363a6facf52": {
          "model_module": "@jupyter-widgets/controls",
          "model_module_version": "1.5.0",
          "model_name": "FloatProgressModel",
          "state": {
            "_dom_classes": [],
            "_model_module": "@jupyter-widgets/controls",
            "_model_module_version": "1.5.0",
            "_model_name": "FloatProgressModel",
            "_view_count": null,
            "_view_module": "@jupyter-widgets/controls",
            "_view_module_version": "1.5.0",
            "_view_name": "ProgressView",
            "bar_style": "success",
            "description": "",
            "description_tooltip": null,
            "layout": "IPY_MODEL_0084e429f02244c0a7a201a6215c1ceb",
            "max": 6937,
            "min": 0,
            "orientation": "horizontal",
            "style": "IPY_MODEL_9eb5ea2bfbf6475eb49ba0fb003181ce",
            "value": 6937
          }
        },
        "5ceda5f900494986a4b6aa9c2e607ba8": {
          "model_module": "@jupyter-widgets/controls",
          "model_module_version": "1.5.0",
          "model_name": "HTMLModel",
          "state": {
            "_dom_classes": [],
            "_model_module": "@jupyter-widgets/controls",
            "_model_module_version": "1.5.0",
            "_model_name": "HTMLModel",
            "_view_count": null,
            "_view_module": "@jupyter-widgets/controls",
            "_view_module_version": "1.5.0",
            "_view_name": "HTMLView",
            "description": "",
            "description_tooltip": null,
            "layout": "IPY_MODEL_c5877a14abcc454b953d9f23eea6a930",
            "placeholder": "​",
            "style": "IPY_MODEL_9acfd0e375854d5b8812dcaf9fc8d6a8",
            "value": "Map: 100%"
          }
        },
        "60c51a9ac4b24f4fae468a95b2ee88d9": {
          "model_module": "@jupyter-widgets/controls",
          "model_module_version": "1.5.0",
          "model_name": "HBoxModel",
          "state": {
            "_dom_classes": [],
            "_model_module": "@jupyter-widgets/controls",
            "_model_module_version": "1.5.0",
            "_model_name": "HBoxModel",
            "_view_count": null,
            "_view_module": "@jupyter-widgets/controls",
            "_view_module_version": "1.5.0",
            "_view_name": "HBoxView",
            "box_style": "",
            "children": [
              "IPY_MODEL_1353d167856c4525887098fa9519c208",
              "IPY_MODEL_55aa2f8dcded466b97583363a6facf52",
              "IPY_MODEL_42b6548a25a74162a5deb3983b952003"
            ],
            "layout": "IPY_MODEL_bc14bb0f3b3f4c6181438a32b44eba68"
          }
        },
        "63bd362cc0204df3a3430db9569b884e": {
          "model_module": "@jupyter-widgets/base",
          "model_module_version": "1.2.0",
          "model_name": "LayoutModel",
          "state": {
            "_model_module": "@jupyter-widgets/base",
            "_model_module_version": "1.2.0",
            "_model_name": "LayoutModel",
            "_view_count": null,
            "_view_module": "@jupyter-widgets/base",
            "_view_module_version": "1.2.0",
            "_view_name": "LayoutView",
            "align_content": null,
            "align_items": null,
            "align_self": null,
            "border": null,
            "bottom": null,
            "display": null,
            "flex": null,
            "flex_flow": null,
            "grid_area": null,
            "grid_auto_columns": null,
            "grid_auto_flow": null,
            "grid_auto_rows": null,
            "grid_column": null,
            "grid_gap": null,
            "grid_row": null,
            "grid_template_areas": null,
            "grid_template_columns": null,
            "grid_template_rows": null,
            "height": null,
            "justify_content": null,
            "justify_items": null,
            "left": null,
            "margin": null,
            "max_height": null,
            "max_width": null,
            "min_height": null,
            "min_width": null,
            "object_fit": null,
            "object_position": null,
            "order": null,
            "overflow": null,
            "overflow_x": null,
            "overflow_y": null,
            "padding": null,
            "right": null,
            "top": null,
            "visibility": null,
            "width": null
          }
        },
        "6e460117c7fd464796aefa2078d23967": {
          "model_module": "@jupyter-widgets/controls",
          "model_module_version": "1.5.0",
          "model_name": "DescriptionStyleModel",
          "state": {
            "_model_module": "@jupyter-widgets/controls",
            "_model_module_version": "1.5.0",
            "_model_name": "DescriptionStyleModel",
            "_view_count": null,
            "_view_module": "@jupyter-widgets/base",
            "_view_module_version": "1.2.0",
            "_view_name": "StyleView",
            "description_width": ""
          }
        },
        "81a7bd3b7e8145f09f4e6485726de91f": {
          "model_module": "@jupyter-widgets/base",
          "model_module_version": "1.2.0",
          "model_name": "LayoutModel",
          "state": {
            "_model_module": "@jupyter-widgets/base",
            "_model_module_version": "1.2.0",
            "_model_name": "LayoutModel",
            "_view_count": null,
            "_view_module": "@jupyter-widgets/base",
            "_view_module_version": "1.2.0",
            "_view_name": "LayoutView",
            "align_content": null,
            "align_items": null,
            "align_self": null,
            "border": null,
            "bottom": null,
            "display": null,
            "flex": null,
            "flex_flow": null,
            "grid_area": null,
            "grid_auto_columns": null,
            "grid_auto_flow": null,
            "grid_auto_rows": null,
            "grid_column": null,
            "grid_gap": null,
            "grid_row": null,
            "grid_template_areas": null,
            "grid_template_columns": null,
            "grid_template_rows": null,
            "height": null,
            "justify_content": null,
            "justify_items": null,
            "left": null,
            "margin": null,
            "max_height": null,
            "max_width": null,
            "min_height": null,
            "min_width": null,
            "object_fit": null,
            "object_position": null,
            "order": null,
            "overflow": null,
            "overflow_x": null,
            "overflow_y": null,
            "padding": null,
            "right": null,
            "top": null,
            "visibility": null,
            "width": null
          }
        },
        "8f0d5852e44a4382bbf4be1ece775885": {
          "model_module": "@jupyter-widgets/controls",
          "model_module_version": "1.5.0",
          "model_name": "HTMLModel",
          "state": {
            "_dom_classes": [],
            "_model_module": "@jupyter-widgets/controls",
            "_model_module_version": "1.5.0",
            "_model_name": "HTMLModel",
            "_view_count": null,
            "_view_module": "@jupyter-widgets/controls",
            "_view_module_version": "1.5.0",
            "_view_name": "HTMLView",
            "description": "",
            "description_tooltip": null,
            "layout": "IPY_MODEL_d6e82f0a9083424b88ce499d80005220",
            "placeholder": "​",
            "style": "IPY_MODEL_f91057f9ea2547cc8d1fc605d3b19b3b",
            "value": " 32372/32372 [00:07&lt;00:00, 4180.36 examples/s]"
          }
        },
        "8f7ae80b97ac4383a4595debb3b6d2d7": {
          "model_module": "@jupyter-widgets/controls",
          "model_module_version": "1.5.0",
          "model_name": "HBoxModel",
          "state": {
            "_dom_classes": [],
            "_model_module": "@jupyter-widgets/controls",
            "_model_module_version": "1.5.0",
            "_model_name": "HBoxModel",
            "_view_count": null,
            "_view_module": "@jupyter-widgets/controls",
            "_view_module_version": "1.5.0",
            "_view_name": "HBoxView",
            "box_style": "",
            "children": [
              "IPY_MODEL_5ceda5f900494986a4b6aa9c2e607ba8",
              "IPY_MODEL_1bd0cf87498244459698010ddfb5bbad",
              "IPY_MODEL_8f0d5852e44a4382bbf4be1ece775885"
            ],
            "layout": "IPY_MODEL_c8f530948ccf42ddb7983b5e451467bf"
          }
        },
        "9acfd0e375854d5b8812dcaf9fc8d6a8": {
          "model_module": "@jupyter-widgets/controls",
          "model_module_version": "1.5.0",
          "model_name": "DescriptionStyleModel",
          "state": {
            "_model_module": "@jupyter-widgets/controls",
            "_model_module_version": "1.5.0",
            "_model_name": "DescriptionStyleModel",
            "_view_count": null,
            "_view_module": "@jupyter-widgets/base",
            "_view_module_version": "1.2.0",
            "_view_name": "StyleView",
            "description_width": ""
          }
        },
        "9eb5ea2bfbf6475eb49ba0fb003181ce": {
          "model_module": "@jupyter-widgets/controls",
          "model_module_version": "1.5.0",
          "model_name": "ProgressStyleModel",
          "state": {
            "_model_module": "@jupyter-widgets/controls",
            "_model_module_version": "1.5.0",
            "_model_name": "ProgressStyleModel",
            "_view_count": null,
            "_view_module": "@jupyter-widgets/base",
            "_view_module_version": "1.2.0",
            "_view_name": "StyleView",
            "bar_color": null,
            "description_width": ""
          }
        },
        "a5f1f8fcb6994609b1a0eb894ce944fa": {
          "model_module": "@jupyter-widgets/base",
          "model_module_version": "1.2.0",
          "model_name": "LayoutModel",
          "state": {
            "_model_module": "@jupyter-widgets/base",
            "_model_module_version": "1.2.0",
            "_model_name": "LayoutModel",
            "_view_count": null,
            "_view_module": "@jupyter-widgets/base",
            "_view_module_version": "1.2.0",
            "_view_name": "LayoutView",
            "align_content": null,
            "align_items": null,
            "align_self": null,
            "border": null,
            "bottom": null,
            "display": null,
            "flex": null,
            "flex_flow": null,
            "grid_area": null,
            "grid_auto_columns": null,
            "grid_auto_flow": null,
            "grid_auto_rows": null,
            "grid_column": null,
            "grid_gap": null,
            "grid_row": null,
            "grid_template_areas": null,
            "grid_template_columns": null,
            "grid_template_rows": null,
            "height": null,
            "justify_content": null,
            "justify_items": null,
            "left": null,
            "margin": null,
            "max_height": null,
            "max_width": null,
            "min_height": null,
            "min_width": null,
            "object_fit": null,
            "object_position": null,
            "order": null,
            "overflow": null,
            "overflow_x": null,
            "overflow_y": null,
            "padding": null,
            "right": null,
            "top": null,
            "visibility": null,
            "width": null
          }
        },
        "aeed7c0edf9b4f91bb3f32890f858912": {
          "model_module": "@jupyter-widgets/controls",
          "model_module_version": "1.5.0",
          "model_name": "HTMLModel",
          "state": {
            "_dom_classes": [],
            "_model_module": "@jupyter-widgets/controls",
            "_model_module_version": "1.5.0",
            "_model_name": "HTMLModel",
            "_view_count": null,
            "_view_module": "@jupyter-widgets/controls",
            "_view_module_version": "1.5.0",
            "_view_name": "HTMLView",
            "description": "",
            "description_tooltip": null,
            "layout": "IPY_MODEL_a5f1f8fcb6994609b1a0eb894ce944fa",
            "placeholder": "​",
            "style": "IPY_MODEL_d1e84fba8e4b4b49886575514a0a5c8d",
            "value": " 6937/6937 [00:01&lt;00:00, 4844.03 examples/s]"
          }
        },
        "b3f4e6303c4d4f3d81deeeca8ef2f743": {
          "model_module": "@jupyter-widgets/base",
          "model_module_version": "1.2.0",
          "model_name": "LayoutModel",
          "state": {
            "_model_module": "@jupyter-widgets/base",
            "_model_module_version": "1.2.0",
            "_model_name": "LayoutModel",
            "_view_count": null,
            "_view_module": "@jupyter-widgets/base",
            "_view_module_version": "1.2.0",
            "_view_name": "LayoutView",
            "align_content": null,
            "align_items": null,
            "align_self": null,
            "border": null,
            "bottom": null,
            "display": null,
            "flex": null,
            "flex_flow": null,
            "grid_area": null,
            "grid_auto_columns": null,
            "grid_auto_flow": null,
            "grid_auto_rows": null,
            "grid_column": null,
            "grid_gap": null,
            "grid_row": null,
            "grid_template_areas": null,
            "grid_template_columns": null,
            "grid_template_rows": null,
            "height": null,
            "justify_content": null,
            "justify_items": null,
            "left": null,
            "margin": null,
            "max_height": null,
            "max_width": null,
            "min_height": null,
            "min_width": null,
            "object_fit": null,
            "object_position": null,
            "order": null,
            "overflow": null,
            "overflow_x": null,
            "overflow_y": null,
            "padding": null,
            "right": null,
            "top": null,
            "visibility": null,
            "width": null
          }
        },
        "bb209e631ab44717a46a9c5f17ef599a": {
          "model_module": "@jupyter-widgets/controls",
          "model_module_version": "1.5.0",
          "model_name": "HBoxModel",
          "state": {
            "_dom_classes": [],
            "_model_module": "@jupyter-widgets/controls",
            "_model_module_version": "1.5.0",
            "_model_name": "HBoxModel",
            "_view_count": null,
            "_view_module": "@jupyter-widgets/controls",
            "_view_module_version": "1.5.0",
            "_view_name": "HBoxView",
            "box_style": "",
            "children": [
              "IPY_MODEL_f161445899ac45b898d7d7d9f169c995",
              "IPY_MODEL_3acdfa41801548258eb57c8a5b59dffe",
              "IPY_MODEL_aeed7c0edf9b4f91bb3f32890f858912"
            ],
            "layout": "IPY_MODEL_0ebba5e076674416bbf611ffe51f7447"
          }
        },
        "bc14bb0f3b3f4c6181438a32b44eba68": {
          "model_module": "@jupyter-widgets/base",
          "model_module_version": "1.2.0",
          "model_name": "LayoutModel",
          "state": {
            "_model_module": "@jupyter-widgets/base",
            "_model_module_version": "1.2.0",
            "_model_name": "LayoutModel",
            "_view_count": null,
            "_view_module": "@jupyter-widgets/base",
            "_view_module_version": "1.2.0",
            "_view_name": "LayoutView",
            "align_content": null,
            "align_items": null,
            "align_self": null,
            "border": null,
            "bottom": null,
            "display": null,
            "flex": null,
            "flex_flow": null,
            "grid_area": null,
            "grid_auto_columns": null,
            "grid_auto_flow": null,
            "grid_auto_rows": null,
            "grid_column": null,
            "grid_gap": null,
            "grid_row": null,
            "grid_template_areas": null,
            "grid_template_columns": null,
            "grid_template_rows": null,
            "height": null,
            "justify_content": null,
            "justify_items": null,
            "left": null,
            "margin": null,
            "max_height": null,
            "max_width": null,
            "min_height": null,
            "min_width": null,
            "object_fit": null,
            "object_position": null,
            "order": null,
            "overflow": null,
            "overflow_x": null,
            "overflow_y": null,
            "padding": null,
            "right": null,
            "top": null,
            "visibility": null,
            "width": null
          }
        },
        "c5877a14abcc454b953d9f23eea6a930": {
          "model_module": "@jupyter-widgets/base",
          "model_module_version": "1.2.0",
          "model_name": "LayoutModel",
          "state": {
            "_model_module": "@jupyter-widgets/base",
            "_model_module_version": "1.2.0",
            "_model_name": "LayoutModel",
            "_view_count": null,
            "_view_module": "@jupyter-widgets/base",
            "_view_module_version": "1.2.0",
            "_view_name": "LayoutView",
            "align_content": null,
            "align_items": null,
            "align_self": null,
            "border": null,
            "bottom": null,
            "display": null,
            "flex": null,
            "flex_flow": null,
            "grid_area": null,
            "grid_auto_columns": null,
            "grid_auto_flow": null,
            "grid_auto_rows": null,
            "grid_column": null,
            "grid_gap": null,
            "grid_row": null,
            "grid_template_areas": null,
            "grid_template_columns": null,
            "grid_template_rows": null,
            "height": null,
            "justify_content": null,
            "justify_items": null,
            "left": null,
            "margin": null,
            "max_height": null,
            "max_width": null,
            "min_height": null,
            "min_width": null,
            "object_fit": null,
            "object_position": null,
            "order": null,
            "overflow": null,
            "overflow_x": null,
            "overflow_y": null,
            "padding": null,
            "right": null,
            "top": null,
            "visibility": null,
            "width": null
          }
        },
        "c8f530948ccf42ddb7983b5e451467bf": {
          "model_module": "@jupyter-widgets/base",
          "model_module_version": "1.2.0",
          "model_name": "LayoutModel",
          "state": {
            "_model_module": "@jupyter-widgets/base",
            "_model_module_version": "1.2.0",
            "_model_name": "LayoutModel",
            "_view_count": null,
            "_view_module": "@jupyter-widgets/base",
            "_view_module_version": "1.2.0",
            "_view_name": "LayoutView",
            "align_content": null,
            "align_items": null,
            "align_self": null,
            "border": null,
            "bottom": null,
            "display": null,
            "flex": null,
            "flex_flow": null,
            "grid_area": null,
            "grid_auto_columns": null,
            "grid_auto_flow": null,
            "grid_auto_rows": null,
            "grid_column": null,
            "grid_gap": null,
            "grid_row": null,
            "grid_template_areas": null,
            "grid_template_columns": null,
            "grid_template_rows": null,
            "height": null,
            "justify_content": null,
            "justify_items": null,
            "left": null,
            "margin": null,
            "max_height": null,
            "max_width": null,
            "min_height": null,
            "min_width": null,
            "object_fit": null,
            "object_position": null,
            "order": null,
            "overflow": null,
            "overflow_x": null,
            "overflow_y": null,
            "padding": null,
            "right": null,
            "top": null,
            "visibility": null,
            "width": null
          }
        },
        "d1e84fba8e4b4b49886575514a0a5c8d": {
          "model_module": "@jupyter-widgets/controls",
          "model_module_version": "1.5.0",
          "model_name": "DescriptionStyleModel",
          "state": {
            "_model_module": "@jupyter-widgets/controls",
            "_model_module_version": "1.5.0",
            "_model_name": "DescriptionStyleModel",
            "_view_count": null,
            "_view_module": "@jupyter-widgets/base",
            "_view_module_version": "1.2.0",
            "_view_name": "StyleView",
            "description_width": ""
          }
        },
        "d6e82f0a9083424b88ce499d80005220": {
          "model_module": "@jupyter-widgets/base",
          "model_module_version": "1.2.0",
          "model_name": "LayoutModel",
          "state": {
            "_model_module": "@jupyter-widgets/base",
            "_model_module_version": "1.2.0",
            "_model_name": "LayoutModel",
            "_view_count": null,
            "_view_module": "@jupyter-widgets/base",
            "_view_module_version": "1.2.0",
            "_view_name": "LayoutView",
            "align_content": null,
            "align_items": null,
            "align_self": null,
            "border": null,
            "bottom": null,
            "display": null,
            "flex": null,
            "flex_flow": null,
            "grid_area": null,
            "grid_auto_columns": null,
            "grid_auto_flow": null,
            "grid_auto_rows": null,
            "grid_column": null,
            "grid_gap": null,
            "grid_row": null,
            "grid_template_areas": null,
            "grid_template_columns": null,
            "grid_template_rows": null,
            "height": null,
            "justify_content": null,
            "justify_items": null,
            "left": null,
            "margin": null,
            "max_height": null,
            "max_width": null,
            "min_height": null,
            "min_width": null,
            "object_fit": null,
            "object_position": null,
            "order": null,
            "overflow": null,
            "overflow_x": null,
            "overflow_y": null,
            "padding": null,
            "right": null,
            "top": null,
            "visibility": null,
            "width": null
          }
        },
        "f161445899ac45b898d7d7d9f169c995": {
          "model_module": "@jupyter-widgets/controls",
          "model_module_version": "1.5.0",
          "model_name": "HTMLModel",
          "state": {
            "_dom_classes": [],
            "_model_module": "@jupyter-widgets/controls",
            "_model_module_version": "1.5.0",
            "_model_name": "HTMLModel",
            "_view_count": null,
            "_view_module": "@jupyter-widgets/controls",
            "_view_module_version": "1.5.0",
            "_view_name": "HTMLView",
            "description": "",
            "description_tooltip": null,
            "layout": "IPY_MODEL_81a7bd3b7e8145f09f4e6485726de91f",
            "placeholder": "​",
            "style": "IPY_MODEL_511e42dd83be4df88473231b72604608",
            "value": "Map: 100%"
          }
        },
        "f3b3a20d8ccd4516a919d79fe2aaff43": {
          "model_module": "@jupyter-widgets/controls",
          "model_module_version": "1.5.0",
          "model_name": "ProgressStyleModel",
          "state": {
            "_model_module": "@jupyter-widgets/controls",
            "_model_module_version": "1.5.0",
            "_model_name": "ProgressStyleModel",
            "_view_count": null,
            "_view_module": "@jupyter-widgets/base",
            "_view_module_version": "1.2.0",
            "_view_name": "StyleView",
            "bar_color": null,
            "description_width": ""
          }
        },
        "f91057f9ea2547cc8d1fc605d3b19b3b": {
          "model_module": "@jupyter-widgets/controls",
          "model_module_version": "1.5.0",
          "model_name": "DescriptionStyleModel",
          "state": {
            "_model_module": "@jupyter-widgets/controls",
            "_model_module_version": "1.5.0",
            "_model_name": "DescriptionStyleModel",
            "_view_count": null,
            "_view_module": "@jupyter-widgets/base",
            "_view_module_version": "1.2.0",
            "_view_name": "StyleView",
            "description_width": ""
          }
        }
      }
    }
  },
  "nbformat": 4,
  "nbformat_minor": 5
}
